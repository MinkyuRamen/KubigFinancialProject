{
 "cells": [
  {
   "cell_type": "markdown",
   "metadata": {},
   "source": [
    "# Advanced Topics"
   ]
  },
  {
   "cell_type": "markdown",
   "metadata": {},
   "source": [
    "## Helpful DatetimeIndex Attributes and Methods"
   ]
  },
  {
   "cell_type": "code",
   "execution_count": 31,
   "metadata": {},
   "outputs": [],
   "source": [
    "import pandas as pd"
   ]
  },
  {
   "cell_type": "code",
   "execution_count": 59,
   "metadata": {},
   "outputs": [],
   "source": [
    "stocks = pd.read_csv(\"stocks.csv\", header = [0,1], index_col= [0], parse_dates= [0])"
   ]
  },
  {
   "cell_type": "code",
   "execution_count": 60,
   "metadata": {},
   "outputs": [
    {
     "data": {
      "text/plain": "           Adj Close                                                         \\\n                AAPL         BA        DIS        IBM         KO       MSFT   \nDate                                                                          \n2010-01-04  6.505280  43.777554  27.933918  80.328056  18.936367  23.623894   \n2010-01-05  6.516528  45.211342  27.864241  79.357697  18.707294  23.631525   \n2010-01-06  6.412873  46.582794  27.716164  78.842171  18.700659  23.486509   \n2010-01-07  6.401017  48.468567  27.724874  78.569260  18.654177  23.242258   \n2010-01-08  6.443573  48.001011  27.768427  79.357697  18.308916  23.402544   \n\n               Close                                    ...   Open  \\\n                AAPL         BA        DIS         IBM  ...    DIS   \nDate                                                    ...          \n2010-01-04  7.643214  56.180000  32.070000  126.625237  ...  32.50   \n2010-01-05  7.656429  58.020000  31.990000  125.095604  ...  32.07   \n2010-01-06  7.534643  59.779999  31.820000  124.282982  ...  31.90   \n2010-01-07  7.520714  62.200001  31.830000  123.852776  ...  31.77   \n2010-01-08  7.570714  61.599998  31.879999  125.095604  ...  31.66   \n\n                                                 Volume                      \\\n                   IBM         KO       MSFT       AAPL        BA       DIS   \nDate                                                                          \n2010-01-04  125.411087  28.580000  30.620001  493729600   6186700  13700400   \n2010-01-05  125.889099  28.424999  30.850000  601904800   8867800  10307700   \n2010-01-06  124.933075  28.174999  30.879999  552160000   8836500  10709500   \n2010-01-07  124.158699  28.165001  30.629999  477131200  14379100   8202100   \n2010-01-08  123.393883  27.730000  30.280001  447610800   7146600   7657500   \n\n                                         \n                IBM        KO      MSFT  \nDate                                     \n2010-01-04  6438444  13870400  38409100  \n2010-01-05  7156104  23172400  49749600  \n2010-01-06  5863144  19264600  58182400  \n2010-01-07  6109268  13234600  50559700  \n2010-01-08  4390271  28712400  51197400  \n\n[5 rows x 36 columns]",
      "text/html": "<div>\n<style scoped>\n    .dataframe tbody tr th:only-of-type {\n        vertical-align: middle;\n    }\n\n    .dataframe tbody tr th {\n        vertical-align: top;\n    }\n\n    .dataframe thead tr th {\n        text-align: left;\n    }\n\n    .dataframe thead tr:last-of-type th {\n        text-align: right;\n    }\n</style>\n<table border=\"1\" class=\"dataframe\">\n  <thead>\n    <tr>\n      <th></th>\n      <th colspan=\"6\" halign=\"left\">Adj Close</th>\n      <th colspan=\"4\" halign=\"left\">Close</th>\n      <th>...</th>\n      <th colspan=\"4\" halign=\"left\">Open</th>\n      <th colspan=\"6\" halign=\"left\">Volume</th>\n    </tr>\n    <tr>\n      <th></th>\n      <th>AAPL</th>\n      <th>BA</th>\n      <th>DIS</th>\n      <th>IBM</th>\n      <th>KO</th>\n      <th>MSFT</th>\n      <th>AAPL</th>\n      <th>BA</th>\n      <th>DIS</th>\n      <th>IBM</th>\n      <th>...</th>\n      <th>DIS</th>\n      <th>IBM</th>\n      <th>KO</th>\n      <th>MSFT</th>\n      <th>AAPL</th>\n      <th>BA</th>\n      <th>DIS</th>\n      <th>IBM</th>\n      <th>KO</th>\n      <th>MSFT</th>\n    </tr>\n    <tr>\n      <th>Date</th>\n      <th></th>\n      <th></th>\n      <th></th>\n      <th></th>\n      <th></th>\n      <th></th>\n      <th></th>\n      <th></th>\n      <th></th>\n      <th></th>\n      <th></th>\n      <th></th>\n      <th></th>\n      <th></th>\n      <th></th>\n      <th></th>\n      <th></th>\n      <th></th>\n      <th></th>\n      <th></th>\n      <th></th>\n    </tr>\n  </thead>\n  <tbody>\n    <tr>\n      <th>2010-01-04</th>\n      <td>6.505280</td>\n      <td>43.777554</td>\n      <td>27.933918</td>\n      <td>80.328056</td>\n      <td>18.936367</td>\n      <td>23.623894</td>\n      <td>7.643214</td>\n      <td>56.180000</td>\n      <td>32.070000</td>\n      <td>126.625237</td>\n      <td>...</td>\n      <td>32.50</td>\n      <td>125.411087</td>\n      <td>28.580000</td>\n      <td>30.620001</td>\n      <td>493729600</td>\n      <td>6186700</td>\n      <td>13700400</td>\n      <td>6438444</td>\n      <td>13870400</td>\n      <td>38409100</td>\n    </tr>\n    <tr>\n      <th>2010-01-05</th>\n      <td>6.516528</td>\n      <td>45.211342</td>\n      <td>27.864241</td>\n      <td>79.357697</td>\n      <td>18.707294</td>\n      <td>23.631525</td>\n      <td>7.656429</td>\n      <td>58.020000</td>\n      <td>31.990000</td>\n      <td>125.095604</td>\n      <td>...</td>\n      <td>32.07</td>\n      <td>125.889099</td>\n      <td>28.424999</td>\n      <td>30.850000</td>\n      <td>601904800</td>\n      <td>8867800</td>\n      <td>10307700</td>\n      <td>7156104</td>\n      <td>23172400</td>\n      <td>49749600</td>\n    </tr>\n    <tr>\n      <th>2010-01-06</th>\n      <td>6.412873</td>\n      <td>46.582794</td>\n      <td>27.716164</td>\n      <td>78.842171</td>\n      <td>18.700659</td>\n      <td>23.486509</td>\n      <td>7.534643</td>\n      <td>59.779999</td>\n      <td>31.820000</td>\n      <td>124.282982</td>\n      <td>...</td>\n      <td>31.90</td>\n      <td>124.933075</td>\n      <td>28.174999</td>\n      <td>30.879999</td>\n      <td>552160000</td>\n      <td>8836500</td>\n      <td>10709500</td>\n      <td>5863144</td>\n      <td>19264600</td>\n      <td>58182400</td>\n    </tr>\n    <tr>\n      <th>2010-01-07</th>\n      <td>6.401017</td>\n      <td>48.468567</td>\n      <td>27.724874</td>\n      <td>78.569260</td>\n      <td>18.654177</td>\n      <td>23.242258</td>\n      <td>7.520714</td>\n      <td>62.200001</td>\n      <td>31.830000</td>\n      <td>123.852776</td>\n      <td>...</td>\n      <td>31.77</td>\n      <td>124.158699</td>\n      <td>28.165001</td>\n      <td>30.629999</td>\n      <td>477131200</td>\n      <td>14379100</td>\n      <td>8202100</td>\n      <td>6109268</td>\n      <td>13234600</td>\n      <td>50559700</td>\n    </tr>\n    <tr>\n      <th>2010-01-08</th>\n      <td>6.443573</td>\n      <td>48.001011</td>\n      <td>27.768427</td>\n      <td>79.357697</td>\n      <td>18.308916</td>\n      <td>23.402544</td>\n      <td>7.570714</td>\n      <td>61.599998</td>\n      <td>31.879999</td>\n      <td>125.095604</td>\n      <td>...</td>\n      <td>31.66</td>\n      <td>123.393883</td>\n      <td>27.730000</td>\n      <td>30.280001</td>\n      <td>447610800</td>\n      <td>7146600</td>\n      <td>7657500</td>\n      <td>4390271</td>\n      <td>28712400</td>\n      <td>51197400</td>\n    </tr>\n  </tbody>\n</table>\n<p>5 rows × 36 columns</p>\n</div>"
     },
     "execution_count": 60,
     "metadata": {},
     "output_type": "execute_result"
    }
   ],
   "source": [
    "stocks.head()"
   ]
  },
  {
   "cell_type": "code",
   "execution_count": 61,
   "metadata": {},
   "outputs": [],
   "source": [
    "close = stocks.loc[:, \"Close\"].copy()"
   ]
  },
  {
   "cell_type": "code",
   "execution_count": 62,
   "metadata": {},
   "outputs": [
    {
     "data": {
      "text/plain": "                AAPL         BA        DIS         IBM         KO       MSFT\nDate                                                                        \n2010-01-04  7.643214  56.180000  32.070000  126.625237  28.520000  30.950001\n2010-01-05  7.656429  58.020000  31.990000  125.095604  28.174999  30.959999\n2010-01-06  7.534643  59.779999  31.820000  124.282982  28.165001  30.770000\n2010-01-07  7.520714  62.200001  31.830000  123.852776  28.094999  30.450001\n2010-01-08  7.570714  61.599998  31.879999  125.095604  27.575001  30.660000",
      "text/html": "<div>\n<style scoped>\n    .dataframe tbody tr th:only-of-type {\n        vertical-align: middle;\n    }\n\n    .dataframe tbody tr th {\n        vertical-align: top;\n    }\n\n    .dataframe thead th {\n        text-align: right;\n    }\n</style>\n<table border=\"1\" class=\"dataframe\">\n  <thead>\n    <tr style=\"text-align: right;\">\n      <th></th>\n      <th>AAPL</th>\n      <th>BA</th>\n      <th>DIS</th>\n      <th>IBM</th>\n      <th>KO</th>\n      <th>MSFT</th>\n    </tr>\n    <tr>\n      <th>Date</th>\n      <th></th>\n      <th></th>\n      <th></th>\n      <th></th>\n      <th></th>\n      <th></th>\n    </tr>\n  </thead>\n  <tbody>\n    <tr>\n      <th>2010-01-04</th>\n      <td>7.643214</td>\n      <td>56.180000</td>\n      <td>32.070000</td>\n      <td>126.625237</td>\n      <td>28.520000</td>\n      <td>30.950001</td>\n    </tr>\n    <tr>\n      <th>2010-01-05</th>\n      <td>7.656429</td>\n      <td>58.020000</td>\n      <td>31.990000</td>\n      <td>125.095604</td>\n      <td>28.174999</td>\n      <td>30.959999</td>\n    </tr>\n    <tr>\n      <th>2010-01-06</th>\n      <td>7.534643</td>\n      <td>59.779999</td>\n      <td>31.820000</td>\n      <td>124.282982</td>\n      <td>28.165001</td>\n      <td>30.770000</td>\n    </tr>\n    <tr>\n      <th>2010-01-07</th>\n      <td>7.520714</td>\n      <td>62.200001</td>\n      <td>31.830000</td>\n      <td>123.852776</td>\n      <td>28.094999</td>\n      <td>30.450001</td>\n    </tr>\n    <tr>\n      <th>2010-01-08</th>\n      <td>7.570714</td>\n      <td>61.599998</td>\n      <td>31.879999</td>\n      <td>125.095604</td>\n      <td>27.575001</td>\n      <td>30.660000</td>\n    </tr>\n  </tbody>\n</table>\n</div>"
     },
     "execution_count": 62,
     "metadata": {},
     "output_type": "execute_result"
    }
   ],
   "source": [
    "close.head()"
   ]
  },
  {
   "cell_type": "code",
   "execution_count": 63,
   "metadata": {},
   "outputs": [
    {
     "name": "stdout",
     "output_type": "stream",
     "text": [
      "<class 'pandas.core.frame.DataFrame'>\n",
      "DatetimeIndex: 2288 entries, 2010-01-04 to 2019-02-05\n",
      "Data columns (total 6 columns):\n",
      " #   Column  Non-Null Count  Dtype  \n",
      "---  ------  --------------  -----  \n",
      " 0   AAPL    2288 non-null   float64\n",
      " 1   BA      2288 non-null   float64\n",
      " 2   DIS     2288 non-null   float64\n",
      " 3   IBM     2288 non-null   float64\n",
      " 4   KO      2288 non-null   float64\n",
      " 5   MSFT    2288 non-null   float64\n",
      "dtypes: float64(6)\n",
      "memory usage: 125.1 KB\n"
     ]
    }
   ],
   "source": [
    "close.info()"
   ]
  },
  {
   "cell_type": "code",
   "execution_count": 64,
   "metadata": {},
   "outputs": [
    {
     "data": {
      "text/plain": "DatetimeIndex(['2010-01-04', '2010-01-05', '2010-01-06', '2010-01-07',\n               '2010-01-08', '2010-01-11', '2010-01-12', '2010-01-13',\n               '2010-01-14', '2010-01-15',\n               ...\n               '2019-01-23', '2019-01-24', '2019-01-25', '2019-01-28',\n               '2019-01-29', '2019-01-30', '2019-01-31', '2019-02-01',\n               '2019-02-04', '2019-02-05'],\n              dtype='datetime64[ns]', name='Date', length=2288, freq=None)"
     },
     "execution_count": 64,
     "metadata": {},
     "output_type": "execute_result"
    }
   ],
   "source": [
    "close.index"
   ]
  },
  {
   "cell_type": "code",
   "execution_count": 65,
   "metadata": {},
   "outputs": [
    {
     "data": {
      "text/plain": "Int64Index([ 4,  5,  6,  7,  8, 11, 12, 13, 14, 15,\n            ...\n            23, 24, 25, 28, 29, 30, 31,  1,  4,  5],\n           dtype='int64', name='Date', length=2288)"
     },
     "execution_count": 65,
     "metadata": {},
     "output_type": "execute_result"
    }
   ],
   "source": [
    "close.index.day"
   ]
  },
  {
   "cell_type": "code",
   "execution_count": 66,
   "metadata": {},
   "outputs": [
    {
     "data": {
      "text/plain": "Int64Index([1, 1, 1, 1, 1, 1, 1, 1, 1, 1,\n            ...\n            1, 1, 1, 1, 1, 1, 1, 2, 2, 2],\n           dtype='int64', name='Date', length=2288)"
     },
     "execution_count": 66,
     "metadata": {},
     "output_type": "execute_result"
    }
   ],
   "source": [
    "close.index.month"
   ]
  },
  {
   "cell_type": "code",
   "execution_count": 67,
   "metadata": {},
   "outputs": [
    {
     "data": {
      "text/plain": "Int64Index([2010, 2010, 2010, 2010, 2010, 2010, 2010, 2010, 2010, 2010,\n            ...\n            2019, 2019, 2019, 2019, 2019, 2019, 2019, 2019, 2019, 2019],\n           dtype='int64', name='Date', length=2288)"
     },
     "execution_count": 67,
     "metadata": {},
     "output_type": "execute_result"
    }
   ],
   "source": [
    "close.index.year"
   ]
  },
  {
   "cell_type": "code",
   "execution_count": 68,
   "metadata": {},
   "outputs": [
    {
     "data": {
      "text/plain": "Index(['Monday', 'Tuesday', 'Wednesday', 'Thursday', 'Friday', 'Monday',\n       'Tuesday', 'Wednesday', 'Thursday', 'Friday',\n       ...\n       'Wednesday', 'Thursday', 'Friday', 'Monday', 'Tuesday', 'Wednesday',\n       'Thursday', 'Friday', 'Monday', 'Tuesday'],\n      dtype='object', name='Date', length=2288)"
     },
     "execution_count": 68,
     "metadata": {},
     "output_type": "execute_result"
    }
   ],
   "source": [
    "close.index.day_name()"
   ]
  },
  {
   "cell_type": "code",
   "execution_count": 69,
   "metadata": {},
   "outputs": [],
   "source": [
    "# close.index.weekday_name"
   ]
  },
  {
   "cell_type": "code",
   "execution_count": 70,
   "metadata": {},
   "outputs": [
    {
     "data": {
      "text/plain": "Index(['January', 'January', 'January', 'January', 'January', 'January',\n       'January', 'January', 'January', 'January',\n       ...\n       'January', 'January', 'January', 'January', 'January', 'January',\n       'January', 'February', 'February', 'February'],\n      dtype='object', name='Date', length=2288)"
     },
     "execution_count": 70,
     "metadata": {},
     "output_type": "execute_result"
    }
   ],
   "source": [
    "close.index.month_name()"
   ]
  },
  {
   "cell_type": "code",
   "execution_count": 71,
   "metadata": {},
   "outputs": [
    {
     "data": {
      "text/plain": "Int64Index([0, 1, 2, 3, 4, 0, 1, 2, 3, 4,\n            ...\n            2, 3, 4, 0, 1, 2, 3, 4, 0, 1],\n           dtype='int64', name='Date', length=2288)"
     },
     "execution_count": 71,
     "metadata": {},
     "output_type": "execute_result"
    }
   ],
   "source": [
    " close.index.weekday"
   ]
  },
  {
   "cell_type": "code",
   "execution_count": 72,
   "metadata": {},
   "outputs": [
    {
     "data": {
      "text/plain": "Int64Index([1, 1, 1, 1, 1, 1, 1, 1, 1, 1,\n            ...\n            1, 1, 1, 1, 1, 1, 1, 1, 1, 1],\n           dtype='int64', name='Date', length=2288)"
     },
     "execution_count": 72,
     "metadata": {},
     "output_type": "execute_result"
    }
   ],
   "source": [
    "close.index.quarter"
   ]
  },
  {
   "cell_type": "code",
   "execution_count": 73,
   "metadata": {},
   "outputs": [
    {
     "data": {
      "text/plain": "Int64Index([31, 31, 31, 31, 31, 31, 31, 31, 31, 31,\n            ...\n            31, 31, 31, 31, 31, 31, 31, 28, 28, 28],\n           dtype='int64', name='Date', length=2288)"
     },
     "execution_count": 73,
     "metadata": {},
     "output_type": "execute_result"
    }
   ],
   "source": [
    "close.index.days_in_month"
   ]
  },
  {
   "cell_type": "code",
   "execution_count": 74,
   "metadata": {},
   "outputs": [
    {
     "name": "stderr",
     "output_type": "stream",
     "text": [
      "/var/folders/k8/xm42xp_16cs6fgtvp6ymr9l40000gn/T/ipykernel_17372/2177007193.py:1: FutureWarning: weekofyear and week have been deprecated, please use DatetimeIndex.isocalendar().week instead, which returns a Series. To exactly reproduce the behavior of week and weekofyear and return an Index, you may call pd.Int64Index(idx.isocalendar().week)\n",
      "  close.index.week\n"
     ]
    },
    {
     "data": {
      "text/plain": "Int64Index([1, 1, 1, 1, 1, 2, 2, 2, 2, 2,\n            ...\n            4, 4, 4, 5, 5, 5, 5, 5, 6, 6],\n           dtype='int64', name='Date', length=2288)"
     },
     "execution_count": 74,
     "metadata": {},
     "output_type": "execute_result"
    }
   ],
   "source": [
    "close.index.week"
   ]
  },
  {
   "cell_type": "code",
   "execution_count": 75,
   "metadata": {},
   "outputs": [
    {
     "name": "stderr",
     "output_type": "stream",
     "text": [
      "/var/folders/k8/xm42xp_16cs6fgtvp6ymr9l40000gn/T/ipykernel_17372/3635336598.py:1: FutureWarning: weekofyear and week have been deprecated, please use DatetimeIndex.isocalendar().week instead, which returns a Series. To exactly reproduce the behavior of week and weekofyear and return an Index, you may call pd.Int64Index(idx.isocalendar().week)\n",
      "  close.index.weekofyear\n"
     ]
    },
    {
     "data": {
      "text/plain": "Int64Index([1, 1, 1, 1, 1, 2, 2, 2, 2, 2,\n            ...\n            4, 4, 4, 5, 5, 5, 5, 5, 6, 6],\n           dtype='int64', name='Date', length=2288)"
     },
     "execution_count": 75,
     "metadata": {},
     "output_type": "execute_result"
    }
   ],
   "source": [
    "close.index.weekofyear"
   ]
  },
  {
   "cell_type": "code",
   "execution_count": 76,
   "metadata": {
    "scrolled": true
   },
   "outputs": [
    {
     "data": {
      "text/plain": "array([False, False, False, ..., False, False, False])"
     },
     "execution_count": 76,
     "metadata": {},
     "output_type": "execute_result"
    }
   ],
   "source": [
    "close.index.is_month_end"
   ]
  },
  {
   "cell_type": "code",
   "execution_count": 77,
   "metadata": {},
   "outputs": [],
   "source": [
    "close[\"Day\"] = stocks.index.day_name()\n",
    "close[\"Quarter\"] = stocks.index.quarter"
   ]
  },
  {
   "cell_type": "code",
   "execution_count": 78,
   "metadata": {
    "scrolled": true
   },
   "outputs": [
    {
     "data": {
      "text/plain": "                AAPL         BA        DIS         IBM         KO       MSFT  \\\nDate                                                                           \n2010-01-04  7.643214  56.180000  32.070000  126.625237  28.520000  30.950001   \n2010-01-05  7.656429  58.020000  31.990000  125.095604  28.174999  30.959999   \n2010-01-06  7.534643  59.779999  31.820000  124.282982  28.165001  30.770000   \n2010-01-07  7.520714  62.200001  31.830000  123.852776  28.094999  30.450001   \n2010-01-08  7.570714  61.599998  31.879999  125.095604  27.575001  30.660000   \n\n                  Day  Quarter  \nDate                            \n2010-01-04     Monday        1  \n2010-01-05    Tuesday        1  \n2010-01-06  Wednesday        1  \n2010-01-07   Thursday        1  \n2010-01-08     Friday        1  ",
      "text/html": "<div>\n<style scoped>\n    .dataframe tbody tr th:only-of-type {\n        vertical-align: middle;\n    }\n\n    .dataframe tbody tr th {\n        vertical-align: top;\n    }\n\n    .dataframe thead th {\n        text-align: right;\n    }\n</style>\n<table border=\"1\" class=\"dataframe\">\n  <thead>\n    <tr style=\"text-align: right;\">\n      <th></th>\n      <th>AAPL</th>\n      <th>BA</th>\n      <th>DIS</th>\n      <th>IBM</th>\n      <th>KO</th>\n      <th>MSFT</th>\n      <th>Day</th>\n      <th>Quarter</th>\n    </tr>\n    <tr>\n      <th>Date</th>\n      <th></th>\n      <th></th>\n      <th></th>\n      <th></th>\n      <th></th>\n      <th></th>\n      <th></th>\n      <th></th>\n    </tr>\n  </thead>\n  <tbody>\n    <tr>\n      <th>2010-01-04</th>\n      <td>7.643214</td>\n      <td>56.180000</td>\n      <td>32.070000</td>\n      <td>126.625237</td>\n      <td>28.520000</td>\n      <td>30.950001</td>\n      <td>Monday</td>\n      <td>1</td>\n    </tr>\n    <tr>\n      <th>2010-01-05</th>\n      <td>7.656429</td>\n      <td>58.020000</td>\n      <td>31.990000</td>\n      <td>125.095604</td>\n      <td>28.174999</td>\n      <td>30.959999</td>\n      <td>Tuesday</td>\n      <td>1</td>\n    </tr>\n    <tr>\n      <th>2010-01-06</th>\n      <td>7.534643</td>\n      <td>59.779999</td>\n      <td>31.820000</td>\n      <td>124.282982</td>\n      <td>28.165001</td>\n      <td>30.770000</td>\n      <td>Wednesday</td>\n      <td>1</td>\n    </tr>\n    <tr>\n      <th>2010-01-07</th>\n      <td>7.520714</td>\n      <td>62.200001</td>\n      <td>31.830000</td>\n      <td>123.852776</td>\n      <td>28.094999</td>\n      <td>30.450001</td>\n      <td>Thursday</td>\n      <td>1</td>\n    </tr>\n    <tr>\n      <th>2010-01-08</th>\n      <td>7.570714</td>\n      <td>61.599998</td>\n      <td>31.879999</td>\n      <td>125.095604</td>\n      <td>27.575001</td>\n      <td>30.660000</td>\n      <td>Friday</td>\n      <td>1</td>\n    </tr>\n  </tbody>\n</table>\n</div>"
     },
     "execution_count": 78,
     "metadata": {},
     "output_type": "execute_result"
    }
   ],
   "source": [
    "close.head()"
   ]
  },
  {
   "cell_type": "code",
   "execution_count": 78,
   "metadata": {},
   "outputs": [],
   "source": []
  },
  {
   "cell_type": "markdown",
   "metadata": {},
   "source": [
    "## Filling NA Values with bfill, ffill and interpolation"
   ]
  },
  {
   "cell_type": "code",
   "execution_count": 79,
   "metadata": {},
   "outputs": [
    {
     "data": {
      "text/plain": "                AAPL         BA        DIS         IBM         KO       MSFT  \\\nDate                                                                           \n2010-01-04  7.643214  56.180000  32.070000  126.625237  28.520000  30.950001   \n2010-01-05  7.656429  58.020000  31.990000  125.095604  28.174999  30.959999   \n2010-01-06  7.534643  59.779999  31.820000  124.282982  28.165001  30.770000   \n2010-01-07  7.520714  62.200001  31.830000  123.852776  28.094999  30.450001   \n2010-01-08  7.570714  61.599998  31.879999  125.095604  27.575001  30.660000   \n\n                  Day  Quarter  \nDate                            \n2010-01-04     Monday        1  \n2010-01-05    Tuesday        1  \n2010-01-06  Wednesday        1  \n2010-01-07   Thursday        1  \n2010-01-08     Friday        1  ",
      "text/html": "<div>\n<style scoped>\n    .dataframe tbody tr th:only-of-type {\n        vertical-align: middle;\n    }\n\n    .dataframe tbody tr th {\n        vertical-align: top;\n    }\n\n    .dataframe thead th {\n        text-align: right;\n    }\n</style>\n<table border=\"1\" class=\"dataframe\">\n  <thead>\n    <tr style=\"text-align: right;\">\n      <th></th>\n      <th>AAPL</th>\n      <th>BA</th>\n      <th>DIS</th>\n      <th>IBM</th>\n      <th>KO</th>\n      <th>MSFT</th>\n      <th>Day</th>\n      <th>Quarter</th>\n    </tr>\n    <tr>\n      <th>Date</th>\n      <th></th>\n      <th></th>\n      <th></th>\n      <th></th>\n      <th></th>\n      <th></th>\n      <th></th>\n      <th></th>\n    </tr>\n  </thead>\n  <tbody>\n    <tr>\n      <th>2010-01-04</th>\n      <td>7.643214</td>\n      <td>56.180000</td>\n      <td>32.070000</td>\n      <td>126.625237</td>\n      <td>28.520000</td>\n      <td>30.950001</td>\n      <td>Monday</td>\n      <td>1</td>\n    </tr>\n    <tr>\n      <th>2010-01-05</th>\n      <td>7.656429</td>\n      <td>58.020000</td>\n      <td>31.990000</td>\n      <td>125.095604</td>\n      <td>28.174999</td>\n      <td>30.959999</td>\n      <td>Tuesday</td>\n      <td>1</td>\n    </tr>\n    <tr>\n      <th>2010-01-06</th>\n      <td>7.534643</td>\n      <td>59.779999</td>\n      <td>31.820000</td>\n      <td>124.282982</td>\n      <td>28.165001</td>\n      <td>30.770000</td>\n      <td>Wednesday</td>\n      <td>1</td>\n    </tr>\n    <tr>\n      <th>2010-01-07</th>\n      <td>7.520714</td>\n      <td>62.200001</td>\n      <td>31.830000</td>\n      <td>123.852776</td>\n      <td>28.094999</td>\n      <td>30.450001</td>\n      <td>Thursday</td>\n      <td>1</td>\n    </tr>\n    <tr>\n      <th>2010-01-08</th>\n      <td>7.570714</td>\n      <td>61.599998</td>\n      <td>31.879999</td>\n      <td>125.095604</td>\n      <td>27.575001</td>\n      <td>30.660000</td>\n      <td>Friday</td>\n      <td>1</td>\n    </tr>\n  </tbody>\n</table>\n</div>"
     },
     "execution_count": 79,
     "metadata": {},
     "output_type": "execute_result"
    }
   ],
   "source": [
    "close.head()"
   ]
  },
  {
   "cell_type": "code",
   "execution_count": 80,
   "metadata": {},
   "outputs": [
    {
     "data": {
      "text/plain": "                 AAPL          BA         DIS         IBM         KO  \\\nDate                                                                   \n2019-01-30  41.312500  387.720001  110.129997  128.470367  47.860001   \n2019-01-31  41.610001  385.619995  111.519997  128.508606  48.130001   \n2019-02-01  41.630001  387.429993  111.300003  128.202682  48.700001   \n2019-02-04  42.812500  397.000000  111.800003  129.244736  49.250000   \n2019-02-05  43.544998  410.179993  112.660004  129.588913  49.259998   \n\n                  MSFT        Day  Quarter  \nDate                                        \n2019-01-30  106.379997  Wednesday        1  \n2019-01-31  104.430000   Thursday        1  \n2019-02-01  102.779999     Friday        1  \n2019-02-04  105.739998     Monday        1  \n2019-02-05  107.220001    Tuesday        1  ",
      "text/html": "<div>\n<style scoped>\n    .dataframe tbody tr th:only-of-type {\n        vertical-align: middle;\n    }\n\n    .dataframe tbody tr th {\n        vertical-align: top;\n    }\n\n    .dataframe thead th {\n        text-align: right;\n    }\n</style>\n<table border=\"1\" class=\"dataframe\">\n  <thead>\n    <tr style=\"text-align: right;\">\n      <th></th>\n      <th>AAPL</th>\n      <th>BA</th>\n      <th>DIS</th>\n      <th>IBM</th>\n      <th>KO</th>\n      <th>MSFT</th>\n      <th>Day</th>\n      <th>Quarter</th>\n    </tr>\n    <tr>\n      <th>Date</th>\n      <th></th>\n      <th></th>\n      <th></th>\n      <th></th>\n      <th></th>\n      <th></th>\n      <th></th>\n      <th></th>\n    </tr>\n  </thead>\n  <tbody>\n    <tr>\n      <th>2019-01-30</th>\n      <td>41.312500</td>\n      <td>387.720001</td>\n      <td>110.129997</td>\n      <td>128.470367</td>\n      <td>47.860001</td>\n      <td>106.379997</td>\n      <td>Wednesday</td>\n      <td>1</td>\n    </tr>\n    <tr>\n      <th>2019-01-31</th>\n      <td>41.610001</td>\n      <td>385.619995</td>\n      <td>111.519997</td>\n      <td>128.508606</td>\n      <td>48.130001</td>\n      <td>104.430000</td>\n      <td>Thursday</td>\n      <td>1</td>\n    </tr>\n    <tr>\n      <th>2019-02-01</th>\n      <td>41.630001</td>\n      <td>387.429993</td>\n      <td>111.300003</td>\n      <td>128.202682</td>\n      <td>48.700001</td>\n      <td>102.779999</td>\n      <td>Friday</td>\n      <td>1</td>\n    </tr>\n    <tr>\n      <th>2019-02-04</th>\n      <td>42.812500</td>\n      <td>397.000000</td>\n      <td>111.800003</td>\n      <td>129.244736</td>\n      <td>49.250000</td>\n      <td>105.739998</td>\n      <td>Monday</td>\n      <td>1</td>\n    </tr>\n    <tr>\n      <th>2019-02-05</th>\n      <td>43.544998</td>\n      <td>410.179993</td>\n      <td>112.660004</td>\n      <td>129.588913</td>\n      <td>49.259998</td>\n      <td>107.220001</td>\n      <td>Tuesday</td>\n      <td>1</td>\n    </tr>\n  </tbody>\n</table>\n</div>"
     },
     "execution_count": 80,
     "metadata": {},
     "output_type": "execute_result"
    }
   ],
   "source": [
    "close.tail()"
   ]
  },
  {
   "cell_type": "code",
   "execution_count": 81,
   "metadata": {},
   "outputs": [
    {
     "data": {
      "text/plain": "DatetimeIndex(['2009-12-31', '2010-01-01', '2010-01-02', '2010-01-03',\n               '2010-01-04', '2010-01-05', '2010-01-06', '2010-01-07',\n               '2010-01-08', '2010-01-09',\n               ...\n               '2019-01-28', '2019-01-29', '2019-01-30', '2019-01-31',\n               '2019-02-01', '2019-02-02', '2019-02-03', '2019-02-04',\n               '2019-02-05', '2019-02-06'],\n              dtype='datetime64[ns]', length=3325, freq='D')"
     },
     "execution_count": 81,
     "metadata": {},
     "output_type": "execute_result"
    }
   ],
   "source": [
    "all_days = pd.date_range(start = \"2009-12-31\", end = \"2019-02-06\", freq = \"D\")\n",
    "all_days # 모든 날을 다 포함"
   ]
  },
  {
   "cell_type": "code",
   "execution_count": 82,
   "metadata": {
    "scrolled": true
   },
   "outputs": [],
   "source": [
    "close = close.reindex(all_days) # all_days의 index로 close 재정렬"
   ]
  },
  {
   "cell_type": "code",
   "execution_count": 84,
   "metadata": {},
   "outputs": [
    {
     "data": {
      "text/plain": "                 AAPL          BA         DIS         IBM         KO  \\\n2019-01-18  39.205002  364.730011  111.040001  118.374763  47.610001   \n2019-01-19        NaN         NaN         NaN         NaN        NaN   \n2019-01-20        NaN         NaN         NaN         NaN        NaN   \n2019-01-21        NaN         NaN         NaN         NaN        NaN   \n2019-01-22  38.325001  357.899994  110.599998  117.131927  47.720001   \n2019-01-23  38.480000  358.609985  111.120003  127.045891  48.270000   \n2019-01-24  38.174999  358.269989  110.550003  126.701721  47.689999   \n2019-01-25  39.439999  364.200012  111.089996  128.078400  47.369999   \n2019-01-26        NaN         NaN         NaN         NaN        NaN   \n2019-01-27        NaN         NaN         NaN         NaN        NaN   \n2019-01-28  39.075001  362.970001  110.809998  128.365204  47.169998   \n2019-01-29  38.669998  364.910004  110.900002  128.422562  47.400002   \n2019-01-30  41.312500  387.720001  110.129997  128.470367  47.860001   \n2019-01-31  41.610001  385.619995  111.519997  128.508606  48.130001   \n2019-02-01  41.630001  387.429993  111.300003  128.202682  48.700001   \n2019-02-02        NaN         NaN         NaN         NaN        NaN   \n2019-02-03        NaN         NaN         NaN         NaN        NaN   \n2019-02-04  42.812500  397.000000  111.800003  129.244736  49.250000   \n2019-02-05  43.544998  410.179993  112.660004  129.588913  49.259998   \n2019-02-06        NaN         NaN         NaN         NaN        NaN   \n\n                  MSFT        Day  Quarter  \n2019-01-18  107.709999     Friday      1.0  \n2019-01-19         NaN        NaN      NaN  \n2019-01-20         NaN        NaN      NaN  \n2019-01-21         NaN        NaN      NaN  \n2019-01-22  105.680000    Tuesday      1.0  \n2019-01-23  106.709999  Wednesday      1.0  \n2019-01-24  106.199997   Thursday      1.0  \n2019-01-25  107.169998     Friday      1.0  \n2019-01-26         NaN        NaN      NaN  \n2019-01-27         NaN        NaN      NaN  \n2019-01-28  105.080002     Monday      1.0  \n2019-01-29  102.940002    Tuesday      1.0  \n2019-01-30  106.379997  Wednesday      1.0  \n2019-01-31  104.430000   Thursday      1.0  \n2019-02-01  102.779999     Friday      1.0  \n2019-02-02         NaN        NaN      NaN  \n2019-02-03         NaN        NaN      NaN  \n2019-02-04  105.739998     Monday      1.0  \n2019-02-05  107.220001    Tuesday      1.0  \n2019-02-06         NaN        NaN      NaN  ",
      "text/html": "<div>\n<style scoped>\n    .dataframe tbody tr th:only-of-type {\n        vertical-align: middle;\n    }\n\n    .dataframe tbody tr th {\n        vertical-align: top;\n    }\n\n    .dataframe thead th {\n        text-align: right;\n    }\n</style>\n<table border=\"1\" class=\"dataframe\">\n  <thead>\n    <tr style=\"text-align: right;\">\n      <th></th>\n      <th>AAPL</th>\n      <th>BA</th>\n      <th>DIS</th>\n      <th>IBM</th>\n      <th>KO</th>\n      <th>MSFT</th>\n      <th>Day</th>\n      <th>Quarter</th>\n    </tr>\n  </thead>\n  <tbody>\n    <tr>\n      <th>2019-01-18</th>\n      <td>39.205002</td>\n      <td>364.730011</td>\n      <td>111.040001</td>\n      <td>118.374763</td>\n      <td>47.610001</td>\n      <td>107.709999</td>\n      <td>Friday</td>\n      <td>1.0</td>\n    </tr>\n    <tr>\n      <th>2019-01-19</th>\n      <td>NaN</td>\n      <td>NaN</td>\n      <td>NaN</td>\n      <td>NaN</td>\n      <td>NaN</td>\n      <td>NaN</td>\n      <td>NaN</td>\n      <td>NaN</td>\n    </tr>\n    <tr>\n      <th>2019-01-20</th>\n      <td>NaN</td>\n      <td>NaN</td>\n      <td>NaN</td>\n      <td>NaN</td>\n      <td>NaN</td>\n      <td>NaN</td>\n      <td>NaN</td>\n      <td>NaN</td>\n    </tr>\n    <tr>\n      <th>2019-01-21</th>\n      <td>NaN</td>\n      <td>NaN</td>\n      <td>NaN</td>\n      <td>NaN</td>\n      <td>NaN</td>\n      <td>NaN</td>\n      <td>NaN</td>\n      <td>NaN</td>\n    </tr>\n    <tr>\n      <th>2019-01-22</th>\n      <td>38.325001</td>\n      <td>357.899994</td>\n      <td>110.599998</td>\n      <td>117.131927</td>\n      <td>47.720001</td>\n      <td>105.680000</td>\n      <td>Tuesday</td>\n      <td>1.0</td>\n    </tr>\n    <tr>\n      <th>2019-01-23</th>\n      <td>38.480000</td>\n      <td>358.609985</td>\n      <td>111.120003</td>\n      <td>127.045891</td>\n      <td>48.270000</td>\n      <td>106.709999</td>\n      <td>Wednesday</td>\n      <td>1.0</td>\n    </tr>\n    <tr>\n      <th>2019-01-24</th>\n      <td>38.174999</td>\n      <td>358.269989</td>\n      <td>110.550003</td>\n      <td>126.701721</td>\n      <td>47.689999</td>\n      <td>106.199997</td>\n      <td>Thursday</td>\n      <td>1.0</td>\n    </tr>\n    <tr>\n      <th>2019-01-25</th>\n      <td>39.439999</td>\n      <td>364.200012</td>\n      <td>111.089996</td>\n      <td>128.078400</td>\n      <td>47.369999</td>\n      <td>107.169998</td>\n      <td>Friday</td>\n      <td>1.0</td>\n    </tr>\n    <tr>\n      <th>2019-01-26</th>\n      <td>NaN</td>\n      <td>NaN</td>\n      <td>NaN</td>\n      <td>NaN</td>\n      <td>NaN</td>\n      <td>NaN</td>\n      <td>NaN</td>\n      <td>NaN</td>\n    </tr>\n    <tr>\n      <th>2019-01-27</th>\n      <td>NaN</td>\n      <td>NaN</td>\n      <td>NaN</td>\n      <td>NaN</td>\n      <td>NaN</td>\n      <td>NaN</td>\n      <td>NaN</td>\n      <td>NaN</td>\n    </tr>\n    <tr>\n      <th>2019-01-28</th>\n      <td>39.075001</td>\n      <td>362.970001</td>\n      <td>110.809998</td>\n      <td>128.365204</td>\n      <td>47.169998</td>\n      <td>105.080002</td>\n      <td>Monday</td>\n      <td>1.0</td>\n    </tr>\n    <tr>\n      <th>2019-01-29</th>\n      <td>38.669998</td>\n      <td>364.910004</td>\n      <td>110.900002</td>\n      <td>128.422562</td>\n      <td>47.400002</td>\n      <td>102.940002</td>\n      <td>Tuesday</td>\n      <td>1.0</td>\n    </tr>\n    <tr>\n      <th>2019-01-30</th>\n      <td>41.312500</td>\n      <td>387.720001</td>\n      <td>110.129997</td>\n      <td>128.470367</td>\n      <td>47.860001</td>\n      <td>106.379997</td>\n      <td>Wednesday</td>\n      <td>1.0</td>\n    </tr>\n    <tr>\n      <th>2019-01-31</th>\n      <td>41.610001</td>\n      <td>385.619995</td>\n      <td>111.519997</td>\n      <td>128.508606</td>\n      <td>48.130001</td>\n      <td>104.430000</td>\n      <td>Thursday</td>\n      <td>1.0</td>\n    </tr>\n    <tr>\n      <th>2019-02-01</th>\n      <td>41.630001</td>\n      <td>387.429993</td>\n      <td>111.300003</td>\n      <td>128.202682</td>\n      <td>48.700001</td>\n      <td>102.779999</td>\n      <td>Friday</td>\n      <td>1.0</td>\n    </tr>\n    <tr>\n      <th>2019-02-02</th>\n      <td>NaN</td>\n      <td>NaN</td>\n      <td>NaN</td>\n      <td>NaN</td>\n      <td>NaN</td>\n      <td>NaN</td>\n      <td>NaN</td>\n      <td>NaN</td>\n    </tr>\n    <tr>\n      <th>2019-02-03</th>\n      <td>NaN</td>\n      <td>NaN</td>\n      <td>NaN</td>\n      <td>NaN</td>\n      <td>NaN</td>\n      <td>NaN</td>\n      <td>NaN</td>\n      <td>NaN</td>\n    </tr>\n    <tr>\n      <th>2019-02-04</th>\n      <td>42.812500</td>\n      <td>397.000000</td>\n      <td>111.800003</td>\n      <td>129.244736</td>\n      <td>49.250000</td>\n      <td>105.739998</td>\n      <td>Monday</td>\n      <td>1.0</td>\n    </tr>\n    <tr>\n      <th>2019-02-05</th>\n      <td>43.544998</td>\n      <td>410.179993</td>\n      <td>112.660004</td>\n      <td>129.588913</td>\n      <td>49.259998</td>\n      <td>107.220001</td>\n      <td>Tuesday</td>\n      <td>1.0</td>\n    </tr>\n    <tr>\n      <th>2019-02-06</th>\n      <td>NaN</td>\n      <td>NaN</td>\n      <td>NaN</td>\n      <td>NaN</td>\n      <td>NaN</td>\n      <td>NaN</td>\n      <td>NaN</td>\n      <td>NaN</td>\n    </tr>\n  </tbody>\n</table>\n</div>"
     },
     "execution_count": 84,
     "metadata": {},
     "output_type": "execute_result"
    }
   ],
   "source": [
    "close.tail(20) # 공휴일 주말이 표시된다."
   ]
  },
  {
   "cell_type": "code",
   "execution_count": 85,
   "metadata": {},
   "outputs": [],
   "source": [
    "close.Day = close.index.day_name()\n",
    "close.Quarter = close.index.quarter"
   ]
  },
  {
   "cell_type": "code",
   "execution_count": 92,
   "metadata": {
    "scrolled": true
   },
   "outputs": [],
   "source": [
    "close.fillna(method = \"ffill\", inplace= True) # 앞의 값으로 뒤의 결측치를 채운다."
   ]
  },
  {
   "cell_type": "code",
   "execution_count": 93,
   "metadata": {},
   "outputs": [
    {
     "data": {
      "text/plain": "                 AAPL          BA         DIS         IBM         KO  \\\n2019-01-18  39.205002  364.730011  111.040001  118.374763  47.610001   \n2019-01-19  39.205002  364.730011  111.040001  118.374763  47.610001   \n2019-01-20  39.205002  364.730011  111.040001  118.374763  47.610001   \n2019-01-21  39.205002  364.730011  111.040001  118.374763  47.610001   \n2019-01-22  38.325001  357.899994  110.599998  117.131927  47.720001   \n2019-01-23  38.480000  358.609985  111.120003  127.045891  48.270000   \n2019-01-24  38.174999  358.269989  110.550003  126.701721  47.689999   \n2019-01-25  39.439999  364.200012  111.089996  128.078400  47.369999   \n2019-01-26  39.439999  364.200012  111.089996  128.078400  47.369999   \n2019-01-27  39.439999  364.200012  111.089996  128.078400  47.369999   \n2019-01-28  39.075001  362.970001  110.809998  128.365204  47.169998   \n2019-01-29  38.669998  364.910004  110.900002  128.422562  47.400002   \n2019-01-30  41.312500  387.720001  110.129997  128.470367  47.860001   \n2019-01-31  41.610001  385.619995  111.519997  128.508606  48.130001   \n2019-02-01  41.630001  387.429993  111.300003  128.202682  48.700001   \n2019-02-02  41.630001  387.429993  111.300003  128.202682  48.700001   \n2019-02-03  41.630001  387.429993  111.300003  128.202682  48.700001   \n2019-02-04  42.812500  397.000000  111.800003  129.244736  49.250000   \n2019-02-05  43.544998  410.179993  112.660004  129.588913  49.259998   \n2019-02-06  43.544998  410.179993  112.660004  129.588913  49.259998   \n\n                  MSFT        Day  Quarter  \n2019-01-18  107.709999     Friday        1  \n2019-01-19  107.709999   Saturday        1  \n2019-01-20  107.709999     Sunday        1  \n2019-01-21  107.709999     Monday        1  \n2019-01-22  105.680000    Tuesday        1  \n2019-01-23  106.709999  Wednesday        1  \n2019-01-24  106.199997   Thursday        1  \n2019-01-25  107.169998     Friday        1  \n2019-01-26  107.169998   Saturday        1  \n2019-01-27  107.169998     Sunday        1  \n2019-01-28  105.080002     Monday        1  \n2019-01-29  102.940002    Tuesday        1  \n2019-01-30  106.379997  Wednesday        1  \n2019-01-31  104.430000   Thursday        1  \n2019-02-01  102.779999     Friday        1  \n2019-02-02  102.779999   Saturday        1  \n2019-02-03  102.779999     Sunday        1  \n2019-02-04  105.739998     Monday        1  \n2019-02-05  107.220001    Tuesday        1  \n2019-02-06  107.220001  Wednesday        1  ",
      "text/html": "<div>\n<style scoped>\n    .dataframe tbody tr th:only-of-type {\n        vertical-align: middle;\n    }\n\n    .dataframe tbody tr th {\n        vertical-align: top;\n    }\n\n    .dataframe thead th {\n        text-align: right;\n    }\n</style>\n<table border=\"1\" class=\"dataframe\">\n  <thead>\n    <tr style=\"text-align: right;\">\n      <th></th>\n      <th>AAPL</th>\n      <th>BA</th>\n      <th>DIS</th>\n      <th>IBM</th>\n      <th>KO</th>\n      <th>MSFT</th>\n      <th>Day</th>\n      <th>Quarter</th>\n    </tr>\n  </thead>\n  <tbody>\n    <tr>\n      <th>2019-01-18</th>\n      <td>39.205002</td>\n      <td>364.730011</td>\n      <td>111.040001</td>\n      <td>118.374763</td>\n      <td>47.610001</td>\n      <td>107.709999</td>\n      <td>Friday</td>\n      <td>1</td>\n    </tr>\n    <tr>\n      <th>2019-01-19</th>\n      <td>39.205002</td>\n      <td>364.730011</td>\n      <td>111.040001</td>\n      <td>118.374763</td>\n      <td>47.610001</td>\n      <td>107.709999</td>\n      <td>Saturday</td>\n      <td>1</td>\n    </tr>\n    <tr>\n      <th>2019-01-20</th>\n      <td>39.205002</td>\n      <td>364.730011</td>\n      <td>111.040001</td>\n      <td>118.374763</td>\n      <td>47.610001</td>\n      <td>107.709999</td>\n      <td>Sunday</td>\n      <td>1</td>\n    </tr>\n    <tr>\n      <th>2019-01-21</th>\n      <td>39.205002</td>\n      <td>364.730011</td>\n      <td>111.040001</td>\n      <td>118.374763</td>\n      <td>47.610001</td>\n      <td>107.709999</td>\n      <td>Monday</td>\n      <td>1</td>\n    </tr>\n    <tr>\n      <th>2019-01-22</th>\n      <td>38.325001</td>\n      <td>357.899994</td>\n      <td>110.599998</td>\n      <td>117.131927</td>\n      <td>47.720001</td>\n      <td>105.680000</td>\n      <td>Tuesday</td>\n      <td>1</td>\n    </tr>\n    <tr>\n      <th>2019-01-23</th>\n      <td>38.480000</td>\n      <td>358.609985</td>\n      <td>111.120003</td>\n      <td>127.045891</td>\n      <td>48.270000</td>\n      <td>106.709999</td>\n      <td>Wednesday</td>\n      <td>1</td>\n    </tr>\n    <tr>\n      <th>2019-01-24</th>\n      <td>38.174999</td>\n      <td>358.269989</td>\n      <td>110.550003</td>\n      <td>126.701721</td>\n      <td>47.689999</td>\n      <td>106.199997</td>\n      <td>Thursday</td>\n      <td>1</td>\n    </tr>\n    <tr>\n      <th>2019-01-25</th>\n      <td>39.439999</td>\n      <td>364.200012</td>\n      <td>111.089996</td>\n      <td>128.078400</td>\n      <td>47.369999</td>\n      <td>107.169998</td>\n      <td>Friday</td>\n      <td>1</td>\n    </tr>\n    <tr>\n      <th>2019-01-26</th>\n      <td>39.439999</td>\n      <td>364.200012</td>\n      <td>111.089996</td>\n      <td>128.078400</td>\n      <td>47.369999</td>\n      <td>107.169998</td>\n      <td>Saturday</td>\n      <td>1</td>\n    </tr>\n    <tr>\n      <th>2019-01-27</th>\n      <td>39.439999</td>\n      <td>364.200012</td>\n      <td>111.089996</td>\n      <td>128.078400</td>\n      <td>47.369999</td>\n      <td>107.169998</td>\n      <td>Sunday</td>\n      <td>1</td>\n    </tr>\n    <tr>\n      <th>2019-01-28</th>\n      <td>39.075001</td>\n      <td>362.970001</td>\n      <td>110.809998</td>\n      <td>128.365204</td>\n      <td>47.169998</td>\n      <td>105.080002</td>\n      <td>Monday</td>\n      <td>1</td>\n    </tr>\n    <tr>\n      <th>2019-01-29</th>\n      <td>38.669998</td>\n      <td>364.910004</td>\n      <td>110.900002</td>\n      <td>128.422562</td>\n      <td>47.400002</td>\n      <td>102.940002</td>\n      <td>Tuesday</td>\n      <td>1</td>\n    </tr>\n    <tr>\n      <th>2019-01-30</th>\n      <td>41.312500</td>\n      <td>387.720001</td>\n      <td>110.129997</td>\n      <td>128.470367</td>\n      <td>47.860001</td>\n      <td>106.379997</td>\n      <td>Wednesday</td>\n      <td>1</td>\n    </tr>\n    <tr>\n      <th>2019-01-31</th>\n      <td>41.610001</td>\n      <td>385.619995</td>\n      <td>111.519997</td>\n      <td>128.508606</td>\n      <td>48.130001</td>\n      <td>104.430000</td>\n      <td>Thursday</td>\n      <td>1</td>\n    </tr>\n    <tr>\n      <th>2019-02-01</th>\n      <td>41.630001</td>\n      <td>387.429993</td>\n      <td>111.300003</td>\n      <td>128.202682</td>\n      <td>48.700001</td>\n      <td>102.779999</td>\n      <td>Friday</td>\n      <td>1</td>\n    </tr>\n    <tr>\n      <th>2019-02-02</th>\n      <td>41.630001</td>\n      <td>387.429993</td>\n      <td>111.300003</td>\n      <td>128.202682</td>\n      <td>48.700001</td>\n      <td>102.779999</td>\n      <td>Saturday</td>\n      <td>1</td>\n    </tr>\n    <tr>\n      <th>2019-02-03</th>\n      <td>41.630001</td>\n      <td>387.429993</td>\n      <td>111.300003</td>\n      <td>128.202682</td>\n      <td>48.700001</td>\n      <td>102.779999</td>\n      <td>Sunday</td>\n      <td>1</td>\n    </tr>\n    <tr>\n      <th>2019-02-04</th>\n      <td>42.812500</td>\n      <td>397.000000</td>\n      <td>111.800003</td>\n      <td>129.244736</td>\n      <td>49.250000</td>\n      <td>105.739998</td>\n      <td>Monday</td>\n      <td>1</td>\n    </tr>\n    <tr>\n      <th>2019-02-05</th>\n      <td>43.544998</td>\n      <td>410.179993</td>\n      <td>112.660004</td>\n      <td>129.588913</td>\n      <td>49.259998</td>\n      <td>107.220001</td>\n      <td>Tuesday</td>\n      <td>1</td>\n    </tr>\n    <tr>\n      <th>2019-02-06</th>\n      <td>43.544998</td>\n      <td>410.179993</td>\n      <td>112.660004</td>\n      <td>129.588913</td>\n      <td>49.259998</td>\n      <td>107.220001</td>\n      <td>Wednesday</td>\n      <td>1</td>\n    </tr>\n  </tbody>\n</table>\n</div>"
     },
     "execution_count": 93,
     "metadata": {},
     "output_type": "execute_result"
    }
   ],
   "source": [
    "close.tail(20)"
   ]
  },
  {
   "cell_type": "code",
   "execution_count": 94,
   "metadata": {},
   "outputs": [],
   "source": [
    "temp = pd.read_csv(\"temp.csv\", parse_dates=[\"datetime\"], index_col = \"datetime\")"
   ]
  },
  {
   "cell_type": "code",
   "execution_count": 95,
   "metadata": {},
   "outputs": [
    {
     "data": {
      "text/plain": "                       LA   NY\ndatetime                      \n2013-01-01 00:00:00  11.7 -1.1\n2013-01-01 01:00:00  10.7 -1.7\n2013-01-01 02:00:00   9.9 -2.0\n2013-01-01 03:00:00   9.3 -2.1\n2013-01-01 04:00:00   8.8 -2.3\n2013-01-01 05:00:00   8.7 -2.5\n2013-01-01 06:00:00   6.9 -3.2\n2013-01-01 07:00:00   7.8 -3.4\n2013-01-01 08:00:00   6.7 -3.0\n2013-01-01 09:00:00   6.6 -1.8",
      "text/html": "<div>\n<style scoped>\n    .dataframe tbody tr th:only-of-type {\n        vertical-align: middle;\n    }\n\n    .dataframe tbody tr th {\n        vertical-align: top;\n    }\n\n    .dataframe thead th {\n        text-align: right;\n    }\n</style>\n<table border=\"1\" class=\"dataframe\">\n  <thead>\n    <tr style=\"text-align: right;\">\n      <th></th>\n      <th>LA</th>\n      <th>NY</th>\n    </tr>\n    <tr>\n      <th>datetime</th>\n      <th></th>\n      <th></th>\n    </tr>\n  </thead>\n  <tbody>\n    <tr>\n      <th>2013-01-01 00:00:00</th>\n      <td>11.7</td>\n      <td>-1.1</td>\n    </tr>\n    <tr>\n      <th>2013-01-01 01:00:00</th>\n      <td>10.7</td>\n      <td>-1.7</td>\n    </tr>\n    <tr>\n      <th>2013-01-01 02:00:00</th>\n      <td>9.9</td>\n      <td>-2.0</td>\n    </tr>\n    <tr>\n      <th>2013-01-01 03:00:00</th>\n      <td>9.3</td>\n      <td>-2.1</td>\n    </tr>\n    <tr>\n      <th>2013-01-01 04:00:00</th>\n      <td>8.8</td>\n      <td>-2.3</td>\n    </tr>\n    <tr>\n      <th>2013-01-01 05:00:00</th>\n      <td>8.7</td>\n      <td>-2.5</td>\n    </tr>\n    <tr>\n      <th>2013-01-01 06:00:00</th>\n      <td>6.9</td>\n      <td>-3.2</td>\n    </tr>\n    <tr>\n      <th>2013-01-01 07:00:00</th>\n      <td>7.8</td>\n      <td>-3.4</td>\n    </tr>\n    <tr>\n      <th>2013-01-01 08:00:00</th>\n      <td>6.7</td>\n      <td>-3.0</td>\n    </tr>\n    <tr>\n      <th>2013-01-01 09:00:00</th>\n      <td>6.6</td>\n      <td>-1.8</td>\n    </tr>\n  </tbody>\n</table>\n</div>"
     },
     "execution_count": 95,
     "metadata": {},
     "output_type": "execute_result"
    }
   ],
   "source": [
    "temp.head(10)"
   ]
  },
  {
   "cell_type": "code",
   "execution_count": 96,
   "metadata": {
    "scrolled": true
   },
   "outputs": [
    {
     "data": {
      "text/plain": "                       LA   NY\ndatetime                      \n2013-01-01 00:00:00  11.7 -1.1\n2013-01-01 00:30:00   NaN  NaN\n2013-01-01 01:00:00  10.7 -1.7\n2013-01-01 01:30:00   NaN  NaN\n2013-01-01 02:00:00   9.9 -2.0\n2013-01-01 02:30:00   NaN  NaN\n2013-01-01 03:00:00   9.3 -2.1\n2013-01-01 03:30:00   NaN  NaN\n2013-01-01 04:00:00   8.8 -2.3\n2013-01-01 04:30:00   NaN  NaN",
      "text/html": "<div>\n<style scoped>\n    .dataframe tbody tr th:only-of-type {\n        vertical-align: middle;\n    }\n\n    .dataframe tbody tr th {\n        vertical-align: top;\n    }\n\n    .dataframe thead th {\n        text-align: right;\n    }\n</style>\n<table border=\"1\" class=\"dataframe\">\n  <thead>\n    <tr style=\"text-align: right;\">\n      <th></th>\n      <th>LA</th>\n      <th>NY</th>\n    </tr>\n    <tr>\n      <th>datetime</th>\n      <th></th>\n      <th></th>\n    </tr>\n  </thead>\n  <tbody>\n    <tr>\n      <th>2013-01-01 00:00:00</th>\n      <td>11.7</td>\n      <td>-1.1</td>\n    </tr>\n    <tr>\n      <th>2013-01-01 00:30:00</th>\n      <td>NaN</td>\n      <td>NaN</td>\n    </tr>\n    <tr>\n      <th>2013-01-01 01:00:00</th>\n      <td>10.7</td>\n      <td>-1.7</td>\n    </tr>\n    <tr>\n      <th>2013-01-01 01:30:00</th>\n      <td>NaN</td>\n      <td>NaN</td>\n    </tr>\n    <tr>\n      <th>2013-01-01 02:00:00</th>\n      <td>9.9</td>\n      <td>-2.0</td>\n    </tr>\n    <tr>\n      <th>2013-01-01 02:30:00</th>\n      <td>NaN</td>\n      <td>NaN</td>\n    </tr>\n    <tr>\n      <th>2013-01-01 03:00:00</th>\n      <td>9.3</td>\n      <td>-2.1</td>\n    </tr>\n    <tr>\n      <th>2013-01-01 03:30:00</th>\n      <td>NaN</td>\n      <td>NaN</td>\n    </tr>\n    <tr>\n      <th>2013-01-01 04:00:00</th>\n      <td>8.8</td>\n      <td>-2.3</td>\n    </tr>\n    <tr>\n      <th>2013-01-01 04:30:00</th>\n      <td>NaN</td>\n      <td>NaN</td>\n    </tr>\n  </tbody>\n</table>\n</div>"
     },
     "execution_count": 96,
     "metadata": {},
     "output_type": "execute_result"
    }
   ],
   "source": [
    "temp = temp.resample(\"30 Min\").mean()\n",
    "temp.head(10)"
   ]
  },
  {
   "cell_type": "code",
   "execution_count": 100,
   "metadata": {
    "scrolled": true
   },
   "outputs": [
    {
     "data": {
      "text/plain": "                        LA    NY\ndatetime                        \n2013-01-01 00:00:00  11.70 -1.10\n2013-01-01 00:30:00  11.20 -1.40\n2013-01-01 01:00:00  10.70 -1.70\n2013-01-01 01:30:00  10.30 -1.85\n2013-01-01 02:00:00   9.90 -2.00\n...                    ...   ...\n2016-12-31 21:00:00  12.80  5.80\n2016-12-31 21:30:00  12.55  5.75\n2016-12-31 22:00:00  12.30  5.70\n2016-12-31 22:30:00  12.10  5.60\n2016-12-31 23:00:00  11.90  5.50\n\n[70127 rows x 2 columns]",
      "text/html": "<div>\n<style scoped>\n    .dataframe tbody tr th:only-of-type {\n        vertical-align: middle;\n    }\n\n    .dataframe tbody tr th {\n        vertical-align: top;\n    }\n\n    .dataframe thead th {\n        text-align: right;\n    }\n</style>\n<table border=\"1\" class=\"dataframe\">\n  <thead>\n    <tr style=\"text-align: right;\">\n      <th></th>\n      <th>LA</th>\n      <th>NY</th>\n    </tr>\n    <tr>\n      <th>datetime</th>\n      <th></th>\n      <th></th>\n    </tr>\n  </thead>\n  <tbody>\n    <tr>\n      <th>2013-01-01 00:00:00</th>\n      <td>11.70</td>\n      <td>-1.10</td>\n    </tr>\n    <tr>\n      <th>2013-01-01 00:30:00</th>\n      <td>11.20</td>\n      <td>-1.40</td>\n    </tr>\n    <tr>\n      <th>2013-01-01 01:00:00</th>\n      <td>10.70</td>\n      <td>-1.70</td>\n    </tr>\n    <tr>\n      <th>2013-01-01 01:30:00</th>\n      <td>10.30</td>\n      <td>-1.85</td>\n    </tr>\n    <tr>\n      <th>2013-01-01 02:00:00</th>\n      <td>9.90</td>\n      <td>-2.00</td>\n    </tr>\n    <tr>\n      <th>...</th>\n      <td>...</td>\n      <td>...</td>\n    </tr>\n    <tr>\n      <th>2016-12-31 21:00:00</th>\n      <td>12.80</td>\n      <td>5.80</td>\n    </tr>\n    <tr>\n      <th>2016-12-31 21:30:00</th>\n      <td>12.55</td>\n      <td>5.75</td>\n    </tr>\n    <tr>\n      <th>2016-12-31 22:00:00</th>\n      <td>12.30</td>\n      <td>5.70</td>\n    </tr>\n    <tr>\n      <th>2016-12-31 22:30:00</th>\n      <td>12.10</td>\n      <td>5.60</td>\n    </tr>\n    <tr>\n      <th>2016-12-31 23:00:00</th>\n      <td>11.90</td>\n      <td>5.50</td>\n    </tr>\n  </tbody>\n</table>\n<p>70127 rows × 2 columns</p>\n</div>"
     },
     "execution_count": 100,
     "metadata": {},
     "output_type": "execute_result"
    }
   ],
   "source": [
    "temp.interpolate()"
   ]
  },
  {
   "cell_type": "code",
   "execution_count": null,
   "metadata": {},
   "outputs": [],
   "source": []
  },
  {
   "cell_type": "markdown",
   "metadata": {},
   "source": [
    "## Timezones and Converting (Part 1)"
   ]
  },
  {
   "cell_type": "code",
   "execution_count": 101,
   "metadata": {},
   "outputs": [],
   "source": [
    "import pandas as pd"
   ]
  },
  {
   "cell_type": "code",
   "execution_count": 102,
   "metadata": {},
   "outputs": [],
   "source": [
    "ge = pd.read_csv(\"GE_prices.csv\", parse_dates= [\"date\"], index_col= \"date\")"
   ]
  },
  {
   "cell_type": "code",
   "execution_count": 103,
   "metadata": {
    "scrolled": true
   },
   "outputs": [
    {
     "data": {
      "text/plain": "                     1. open  2. high   3. low  4. close   5. volume\ndate                                                                \n2019-07-29 10:00:00  10.5000  10.5800  10.4300   10.4400   4840329.0\n2019-07-29 10:30:00  10.4404  10.4847  10.3997   10.4104   3860280.0\n2019-07-29 11:00:00  10.4200  10.5000  10.4100   10.5000   1912153.0\n2019-07-29 11:30:00  10.4931  10.5300  10.4800   10.4850   1916453.0\n2019-07-29 12:00:00  10.4900  10.5000  10.4400   10.4500   2467638.0\n2019-07-29 12:30:00  10.4453  10.4652  10.4001   10.4153   3239894.0\n2019-07-29 13:00:00  10.4200  10.4500  10.4100   10.4400   1357248.0\n2019-07-29 13:30:00  10.4319  10.4701  10.4300   10.4554   2030041.0\n2019-07-29 14:00:00  10.4600  10.4600  10.4100   10.4200   1171359.0\n2019-07-29 14:30:00  10.4204  10.4500  10.4100   10.4349   1041398.0\n2019-07-29 15:00:00  10.4400  10.4400  10.3900   10.4200   1553265.0\n2019-07-29 15:30:00  10.4200  10.4250  10.4000   10.4050   1207811.0\n2019-07-29 16:00:00  10.4100  10.4100  10.3800   10.3800   5649305.0\n2019-07-30 10:00:00  10.3900  10.4200  10.2800   10.3600   6309034.0\n2019-07-30 10:30:00  10.3553  10.3801  10.3200   10.3383   3808618.0\n2019-07-30 11:00:00  10.3400  10.3900  10.3300   10.3400   2254152.0\n2019-07-30 11:30:00  10.3441  10.4400  10.3400   10.4131   2247660.0\n2019-07-30 12:00:00  10.4200  10.4400  10.4000   10.4200   2309264.0\n2019-07-30 12:30:00  10.4204  10.4800  10.4000   10.4554   2849662.0\n2019-07-30 13:00:00  10.4600  10.4700  10.4400   10.4600   1265244.0\n2019-07-30 13:30:00  10.4560  10.4700  10.4500   10.4550   1635434.0\n2019-07-30 14:00:00  10.4600  10.4900  10.4500   10.4900   1266372.0\n2019-07-30 14:30:00  10.4900  10.5200  10.4900   10.5100   2487611.0\n2019-07-30 15:00:00  10.5100  10.5600  10.5000   10.5200   3757587.0\n2019-07-30 15:30:00  10.5199  10.5300  10.4900   10.4900   2755634.0\n2019-07-30 16:00:00  10.4900  10.5800  10.4700   10.5100   8944676.0\n2019-07-31 10:00:00  10.6400  10.7900  10.3700   10.4800  42669453.0\n2019-07-31 10:30:00  10.4854  10.5101  10.0597   10.0904  16983457.0\n2019-07-31 11:00:00  10.1000  10.1900  10.0500   10.0600  12682783.0\n2019-07-31 11:30:00  10.0650  10.2700  10.0600   10.2200  10973783.0",
      "text/html": "<div>\n<style scoped>\n    .dataframe tbody tr th:only-of-type {\n        vertical-align: middle;\n    }\n\n    .dataframe tbody tr th {\n        vertical-align: top;\n    }\n\n    .dataframe thead th {\n        text-align: right;\n    }\n</style>\n<table border=\"1\" class=\"dataframe\">\n  <thead>\n    <tr style=\"text-align: right;\">\n      <th></th>\n      <th>1. open</th>\n      <th>2. high</th>\n      <th>3. low</th>\n      <th>4. close</th>\n      <th>5. volume</th>\n    </tr>\n    <tr>\n      <th>date</th>\n      <th></th>\n      <th></th>\n      <th></th>\n      <th></th>\n      <th></th>\n    </tr>\n  </thead>\n  <tbody>\n    <tr>\n      <th>2019-07-29 10:00:00</th>\n      <td>10.5000</td>\n      <td>10.5800</td>\n      <td>10.4300</td>\n      <td>10.4400</td>\n      <td>4840329.0</td>\n    </tr>\n    <tr>\n      <th>2019-07-29 10:30:00</th>\n      <td>10.4404</td>\n      <td>10.4847</td>\n      <td>10.3997</td>\n      <td>10.4104</td>\n      <td>3860280.0</td>\n    </tr>\n    <tr>\n      <th>2019-07-29 11:00:00</th>\n      <td>10.4200</td>\n      <td>10.5000</td>\n      <td>10.4100</td>\n      <td>10.5000</td>\n      <td>1912153.0</td>\n    </tr>\n    <tr>\n      <th>2019-07-29 11:30:00</th>\n      <td>10.4931</td>\n      <td>10.5300</td>\n      <td>10.4800</td>\n      <td>10.4850</td>\n      <td>1916453.0</td>\n    </tr>\n    <tr>\n      <th>2019-07-29 12:00:00</th>\n      <td>10.4900</td>\n      <td>10.5000</td>\n      <td>10.4400</td>\n      <td>10.4500</td>\n      <td>2467638.0</td>\n    </tr>\n    <tr>\n      <th>2019-07-29 12:30:00</th>\n      <td>10.4453</td>\n      <td>10.4652</td>\n      <td>10.4001</td>\n      <td>10.4153</td>\n      <td>3239894.0</td>\n    </tr>\n    <tr>\n      <th>2019-07-29 13:00:00</th>\n      <td>10.4200</td>\n      <td>10.4500</td>\n      <td>10.4100</td>\n      <td>10.4400</td>\n      <td>1357248.0</td>\n    </tr>\n    <tr>\n      <th>2019-07-29 13:30:00</th>\n      <td>10.4319</td>\n      <td>10.4701</td>\n      <td>10.4300</td>\n      <td>10.4554</td>\n      <td>2030041.0</td>\n    </tr>\n    <tr>\n      <th>2019-07-29 14:00:00</th>\n      <td>10.4600</td>\n      <td>10.4600</td>\n      <td>10.4100</td>\n      <td>10.4200</td>\n      <td>1171359.0</td>\n    </tr>\n    <tr>\n      <th>2019-07-29 14:30:00</th>\n      <td>10.4204</td>\n      <td>10.4500</td>\n      <td>10.4100</td>\n      <td>10.4349</td>\n      <td>1041398.0</td>\n    </tr>\n    <tr>\n      <th>2019-07-29 15:00:00</th>\n      <td>10.4400</td>\n      <td>10.4400</td>\n      <td>10.3900</td>\n      <td>10.4200</td>\n      <td>1553265.0</td>\n    </tr>\n    <tr>\n      <th>2019-07-29 15:30:00</th>\n      <td>10.4200</td>\n      <td>10.4250</td>\n      <td>10.4000</td>\n      <td>10.4050</td>\n      <td>1207811.0</td>\n    </tr>\n    <tr>\n      <th>2019-07-29 16:00:00</th>\n      <td>10.4100</td>\n      <td>10.4100</td>\n      <td>10.3800</td>\n      <td>10.3800</td>\n      <td>5649305.0</td>\n    </tr>\n    <tr>\n      <th>2019-07-30 10:00:00</th>\n      <td>10.3900</td>\n      <td>10.4200</td>\n      <td>10.2800</td>\n      <td>10.3600</td>\n      <td>6309034.0</td>\n    </tr>\n    <tr>\n      <th>2019-07-30 10:30:00</th>\n      <td>10.3553</td>\n      <td>10.3801</td>\n      <td>10.3200</td>\n      <td>10.3383</td>\n      <td>3808618.0</td>\n    </tr>\n    <tr>\n      <th>2019-07-30 11:00:00</th>\n      <td>10.3400</td>\n      <td>10.3900</td>\n      <td>10.3300</td>\n      <td>10.3400</td>\n      <td>2254152.0</td>\n    </tr>\n    <tr>\n      <th>2019-07-30 11:30:00</th>\n      <td>10.3441</td>\n      <td>10.4400</td>\n      <td>10.3400</td>\n      <td>10.4131</td>\n      <td>2247660.0</td>\n    </tr>\n    <tr>\n      <th>2019-07-30 12:00:00</th>\n      <td>10.4200</td>\n      <td>10.4400</td>\n      <td>10.4000</td>\n      <td>10.4200</td>\n      <td>2309264.0</td>\n    </tr>\n    <tr>\n      <th>2019-07-30 12:30:00</th>\n      <td>10.4204</td>\n      <td>10.4800</td>\n      <td>10.4000</td>\n      <td>10.4554</td>\n      <td>2849662.0</td>\n    </tr>\n    <tr>\n      <th>2019-07-30 13:00:00</th>\n      <td>10.4600</td>\n      <td>10.4700</td>\n      <td>10.4400</td>\n      <td>10.4600</td>\n      <td>1265244.0</td>\n    </tr>\n    <tr>\n      <th>2019-07-30 13:30:00</th>\n      <td>10.4560</td>\n      <td>10.4700</td>\n      <td>10.4500</td>\n      <td>10.4550</td>\n      <td>1635434.0</td>\n    </tr>\n    <tr>\n      <th>2019-07-30 14:00:00</th>\n      <td>10.4600</td>\n      <td>10.4900</td>\n      <td>10.4500</td>\n      <td>10.4900</td>\n      <td>1266372.0</td>\n    </tr>\n    <tr>\n      <th>2019-07-30 14:30:00</th>\n      <td>10.4900</td>\n      <td>10.5200</td>\n      <td>10.4900</td>\n      <td>10.5100</td>\n      <td>2487611.0</td>\n    </tr>\n    <tr>\n      <th>2019-07-30 15:00:00</th>\n      <td>10.5100</td>\n      <td>10.5600</td>\n      <td>10.5000</td>\n      <td>10.5200</td>\n      <td>3757587.0</td>\n    </tr>\n    <tr>\n      <th>2019-07-30 15:30:00</th>\n      <td>10.5199</td>\n      <td>10.5300</td>\n      <td>10.4900</td>\n      <td>10.4900</td>\n      <td>2755634.0</td>\n    </tr>\n    <tr>\n      <th>2019-07-30 16:00:00</th>\n      <td>10.4900</td>\n      <td>10.5800</td>\n      <td>10.4700</td>\n      <td>10.5100</td>\n      <td>8944676.0</td>\n    </tr>\n    <tr>\n      <th>2019-07-31 10:00:00</th>\n      <td>10.6400</td>\n      <td>10.7900</td>\n      <td>10.3700</td>\n      <td>10.4800</td>\n      <td>42669453.0</td>\n    </tr>\n    <tr>\n      <th>2019-07-31 10:30:00</th>\n      <td>10.4854</td>\n      <td>10.5101</td>\n      <td>10.0597</td>\n      <td>10.0904</td>\n      <td>16983457.0</td>\n    </tr>\n    <tr>\n      <th>2019-07-31 11:00:00</th>\n      <td>10.1000</td>\n      <td>10.1900</td>\n      <td>10.0500</td>\n      <td>10.0600</td>\n      <td>12682783.0</td>\n    </tr>\n    <tr>\n      <th>2019-07-31 11:30:00</th>\n      <td>10.0650</td>\n      <td>10.2700</td>\n      <td>10.0600</td>\n      <td>10.2200</td>\n      <td>10973783.0</td>\n    </tr>\n  </tbody>\n</table>\n</div>"
     },
     "execution_count": 103,
     "metadata": {},
     "output_type": "execute_result"
    }
   ],
   "source": [
    "ge.head(30)"
   ]
  },
  {
   "cell_type": "code",
   "execution_count": 104,
   "metadata": {
    "scrolled": true
   },
   "outputs": [
    {
     "name": "stdout",
     "output_type": "stream",
     "text": [
      "<class 'pandas.core.frame.DataFrame'>\n",
      "DatetimeIndex: 389 entries, 2019-07-29 10:00:00 to 2019-09-09 16:00:00\n",
      "Data columns (total 5 columns):\n",
      " #   Column     Non-Null Count  Dtype  \n",
      "---  ------     --------------  -----  \n",
      " 0   1. open    389 non-null    float64\n",
      " 1   2. high    389 non-null    float64\n",
      " 2   3. low     389 non-null    float64\n",
      " 3   4. close   389 non-null    float64\n",
      " 4   5. volume  389 non-null    float64\n",
      "dtypes: float64(5)\n",
      "memory usage: 18.2 KB\n"
     ]
    }
   ],
   "source": [
    "ge.info()"
   ]
  },
  {
   "cell_type": "code",
   "execution_count": 105,
   "metadata": {},
   "outputs": [
    {
     "data": {
      "text/plain": "DatetimeIndex(['2019-07-29 10:00:00', '2019-07-29 10:30:00',\n               '2019-07-29 11:00:00', '2019-07-29 11:30:00',\n               '2019-07-29 12:00:00', '2019-07-29 12:30:00',\n               '2019-07-29 13:00:00', '2019-07-29 13:30:00',\n               '2019-07-29 14:00:00', '2019-07-29 14:30:00',\n               ...\n               '2019-09-09 11:30:00', '2019-09-09 12:00:00',\n               '2019-09-09 12:30:00', '2019-09-09 13:00:00',\n               '2019-09-09 13:30:00', '2019-09-09 14:00:00',\n               '2019-09-09 14:30:00', '2019-09-09 15:00:00',\n               '2019-09-09 15:30:00', '2019-09-09 16:00:00'],\n              dtype='datetime64[ns]', name='date', length=389, freq=None)"
     },
     "execution_count": 105,
     "metadata": {},
     "output_type": "execute_result"
    }
   ],
   "source": [
    "ge.index"
   ]
  },
  {
   "cell_type": "code",
   "execution_count": 106,
   "metadata": {},
   "outputs": [
    {
     "name": "stdout",
     "output_type": "stream",
     "text": [
      "None\n"
     ]
    }
   ],
   "source": [
    "print(ge.index.tz) # timezone이 없다."
   ]
  },
  {
   "cell_type": "code",
   "execution_count": 107,
   "metadata": {
    "scrolled": true
   },
   "outputs": [
    {
     "data": {
      "text/plain": "                           1. open  2. high   3. low  4. close  5. volume\ndate                                                                     \n2019-07-29 10:00:00+00:00  10.5000  10.5800  10.4300   10.4400  4840329.0\n2019-07-29 10:30:00+00:00  10.4404  10.4847  10.3997   10.4104  3860280.0\n2019-07-29 11:00:00+00:00  10.4200  10.5000  10.4100   10.5000  1912153.0\n2019-07-29 11:30:00+00:00  10.4931  10.5300  10.4800   10.4850  1916453.0\n2019-07-29 12:00:00+00:00  10.4900  10.5000  10.4400   10.4500  2467638.0\n...                            ...      ...      ...       ...        ...\n2019-09-09 14:00:00+00:00   8.9900   8.9950   8.9700    8.9800  1740722.0\n2019-09-09 14:30:00+00:00   8.9735   9.0000   8.9700    8.9835  1412823.0\n2019-09-09 15:00:00+00:00   8.9900   9.0100   8.9350    8.9500  4177838.0\n2019-09-09 15:30:00+00:00   8.9453   8.9700   8.9300    8.9603  2254279.0\n2019-09-09 16:00:00+00:00   8.9600   8.9900   8.9200    8.9700  6887530.0\n\n[389 rows x 5 columns]",
      "text/html": "<div>\n<style scoped>\n    .dataframe tbody tr th:only-of-type {\n        vertical-align: middle;\n    }\n\n    .dataframe tbody tr th {\n        vertical-align: top;\n    }\n\n    .dataframe thead th {\n        text-align: right;\n    }\n</style>\n<table border=\"1\" class=\"dataframe\">\n  <thead>\n    <tr style=\"text-align: right;\">\n      <th></th>\n      <th>1. open</th>\n      <th>2. high</th>\n      <th>3. low</th>\n      <th>4. close</th>\n      <th>5. volume</th>\n    </tr>\n    <tr>\n      <th>date</th>\n      <th></th>\n      <th></th>\n      <th></th>\n      <th></th>\n      <th></th>\n    </tr>\n  </thead>\n  <tbody>\n    <tr>\n      <th>2019-07-29 10:00:00+00:00</th>\n      <td>10.5000</td>\n      <td>10.5800</td>\n      <td>10.4300</td>\n      <td>10.4400</td>\n      <td>4840329.0</td>\n    </tr>\n    <tr>\n      <th>2019-07-29 10:30:00+00:00</th>\n      <td>10.4404</td>\n      <td>10.4847</td>\n      <td>10.3997</td>\n      <td>10.4104</td>\n      <td>3860280.0</td>\n    </tr>\n    <tr>\n      <th>2019-07-29 11:00:00+00:00</th>\n      <td>10.4200</td>\n      <td>10.5000</td>\n      <td>10.4100</td>\n      <td>10.5000</td>\n      <td>1912153.0</td>\n    </tr>\n    <tr>\n      <th>2019-07-29 11:30:00+00:00</th>\n      <td>10.4931</td>\n      <td>10.5300</td>\n      <td>10.4800</td>\n      <td>10.4850</td>\n      <td>1916453.0</td>\n    </tr>\n    <tr>\n      <th>2019-07-29 12:00:00+00:00</th>\n      <td>10.4900</td>\n      <td>10.5000</td>\n      <td>10.4400</td>\n      <td>10.4500</td>\n      <td>2467638.0</td>\n    </tr>\n    <tr>\n      <th>...</th>\n      <td>...</td>\n      <td>...</td>\n      <td>...</td>\n      <td>...</td>\n      <td>...</td>\n    </tr>\n    <tr>\n      <th>2019-09-09 14:00:00+00:00</th>\n      <td>8.9900</td>\n      <td>8.9950</td>\n      <td>8.9700</td>\n      <td>8.9800</td>\n      <td>1740722.0</td>\n    </tr>\n    <tr>\n      <th>2019-09-09 14:30:00+00:00</th>\n      <td>8.9735</td>\n      <td>9.0000</td>\n      <td>8.9700</td>\n      <td>8.9835</td>\n      <td>1412823.0</td>\n    </tr>\n    <tr>\n      <th>2019-09-09 15:00:00+00:00</th>\n      <td>8.9900</td>\n      <td>9.0100</td>\n      <td>8.9350</td>\n      <td>8.9500</td>\n      <td>4177838.0</td>\n    </tr>\n    <tr>\n      <th>2019-09-09 15:30:00+00:00</th>\n      <td>8.9453</td>\n      <td>8.9700</td>\n      <td>8.9300</td>\n      <td>8.9603</td>\n      <td>2254279.0</td>\n    </tr>\n    <tr>\n      <th>2019-09-09 16:00:00+00:00</th>\n      <td>8.9600</td>\n      <td>8.9900</td>\n      <td>8.9200</td>\n      <td>8.9700</td>\n      <td>6887530.0</td>\n    </tr>\n  </tbody>\n</table>\n<p>389 rows × 5 columns</p>\n</div>"
     },
     "execution_count": 107,
     "metadata": {},
     "output_type": "execute_result"
    }
   ],
   "source": [
    "ge.tz_localize(\"UTC\") # 시간차를 볼 수 있다. +00:00"
   ]
  },
  {
   "cell_type": "code",
   "execution_count": 109,
   "metadata": {
    "scrolled": true
   },
   "outputs": [
    {
     "data": {
      "text/plain": "                           1. open  2. high   3. low  4. close  5. volume\ndate                                                                     \n2019-07-29 10:00:00-04:00  10.5000  10.5800  10.4300   10.4400  4840329.0\n2019-07-29 10:30:00-04:00  10.4404  10.4847  10.3997   10.4104  3860280.0\n2019-07-29 11:00:00-04:00  10.4200  10.5000  10.4100   10.5000  1912153.0\n2019-07-29 11:30:00-04:00  10.4931  10.5300  10.4800   10.4850  1916453.0\n2019-07-29 12:00:00-04:00  10.4900  10.5000  10.4400   10.4500  2467638.0\n...                            ...      ...      ...       ...        ...\n2019-09-09 14:00:00-04:00   8.9900   8.9950   8.9700    8.9800  1740722.0\n2019-09-09 14:30:00-04:00   8.9735   9.0000   8.9700    8.9835  1412823.0\n2019-09-09 15:00:00-04:00   8.9900   9.0100   8.9350    8.9500  4177838.0\n2019-09-09 15:30:00-04:00   8.9453   8.9700   8.9300    8.9603  2254279.0\n2019-09-09 16:00:00-04:00   8.9600   8.9900   8.9200    8.9700  6887530.0\n\n[389 rows x 5 columns]",
      "text/html": "<div>\n<style scoped>\n    .dataframe tbody tr th:only-of-type {\n        vertical-align: middle;\n    }\n\n    .dataframe tbody tr th {\n        vertical-align: top;\n    }\n\n    .dataframe thead th {\n        text-align: right;\n    }\n</style>\n<table border=\"1\" class=\"dataframe\">\n  <thead>\n    <tr style=\"text-align: right;\">\n      <th></th>\n      <th>1. open</th>\n      <th>2. high</th>\n      <th>3. low</th>\n      <th>4. close</th>\n      <th>5. volume</th>\n    </tr>\n    <tr>\n      <th>date</th>\n      <th></th>\n      <th></th>\n      <th></th>\n      <th></th>\n      <th></th>\n    </tr>\n  </thead>\n  <tbody>\n    <tr>\n      <th>2019-07-29 10:00:00-04:00</th>\n      <td>10.5000</td>\n      <td>10.5800</td>\n      <td>10.4300</td>\n      <td>10.4400</td>\n      <td>4840329.0</td>\n    </tr>\n    <tr>\n      <th>2019-07-29 10:30:00-04:00</th>\n      <td>10.4404</td>\n      <td>10.4847</td>\n      <td>10.3997</td>\n      <td>10.4104</td>\n      <td>3860280.0</td>\n    </tr>\n    <tr>\n      <th>2019-07-29 11:00:00-04:00</th>\n      <td>10.4200</td>\n      <td>10.5000</td>\n      <td>10.4100</td>\n      <td>10.5000</td>\n      <td>1912153.0</td>\n    </tr>\n    <tr>\n      <th>2019-07-29 11:30:00-04:00</th>\n      <td>10.4931</td>\n      <td>10.5300</td>\n      <td>10.4800</td>\n      <td>10.4850</td>\n      <td>1916453.0</td>\n    </tr>\n    <tr>\n      <th>2019-07-29 12:00:00-04:00</th>\n      <td>10.4900</td>\n      <td>10.5000</td>\n      <td>10.4400</td>\n      <td>10.4500</td>\n      <td>2467638.0</td>\n    </tr>\n    <tr>\n      <th>...</th>\n      <td>...</td>\n      <td>...</td>\n      <td>...</td>\n      <td>...</td>\n      <td>...</td>\n    </tr>\n    <tr>\n      <th>2019-09-09 14:00:00-04:00</th>\n      <td>8.9900</td>\n      <td>8.9950</td>\n      <td>8.9700</td>\n      <td>8.9800</td>\n      <td>1740722.0</td>\n    </tr>\n    <tr>\n      <th>2019-09-09 14:30:00-04:00</th>\n      <td>8.9735</td>\n      <td>9.0000</td>\n      <td>8.9700</td>\n      <td>8.9835</td>\n      <td>1412823.0</td>\n    </tr>\n    <tr>\n      <th>2019-09-09 15:00:00-04:00</th>\n      <td>8.9900</td>\n      <td>9.0100</td>\n      <td>8.9350</td>\n      <td>8.9500</td>\n      <td>4177838.0</td>\n    </tr>\n    <tr>\n      <th>2019-09-09 15:30:00-04:00</th>\n      <td>8.9453</td>\n      <td>8.9700</td>\n      <td>8.9300</td>\n      <td>8.9603</td>\n      <td>2254279.0</td>\n    </tr>\n    <tr>\n      <th>2019-09-09 16:00:00-04:00</th>\n      <td>8.9600</td>\n      <td>8.9900</td>\n      <td>8.9200</td>\n      <td>8.9700</td>\n      <td>6887530.0</td>\n    </tr>\n  </tbody>\n</table>\n<p>389 rows × 5 columns</p>\n</div>"
     },
     "execution_count": 109,
     "metadata": {},
     "output_type": "execute_result"
    }
   ],
   "source": [
    "ge.tz_localize(\"America/New_York\")\n",
    "# 뉴욕 동부시간대 10am에 해당하는 UTC는 2pm이 된다.\n",
    "# -04:00 => UTC보다 4시간 느리다."
   ]
  },
  {
   "cell_type": "code",
   "execution_count": 111,
   "metadata": {
    "scrolled": false
   },
   "outputs": [],
   "source": [
    "ge = ge.tz_localize(\"America/New_York\")"
   ]
  },
  {
   "cell_type": "code",
   "execution_count": 112,
   "metadata": {},
   "outputs": [
    {
     "data": {
      "text/plain": "                           1. open  2. high   3. low  4. close  5. volume\ndate                                                                     \n2019-07-29 10:00:00-04:00  10.5000  10.5800  10.4300   10.4400  4840329.0\n2019-07-29 10:30:00-04:00  10.4404  10.4847  10.3997   10.4104  3860280.0\n2019-07-29 11:00:00-04:00  10.4200  10.5000  10.4100   10.5000  1912153.0\n2019-07-29 11:30:00-04:00  10.4931  10.5300  10.4800   10.4850  1916453.0\n2019-07-29 12:00:00-04:00  10.4900  10.5000  10.4400   10.4500  2467638.0",
      "text/html": "<div>\n<style scoped>\n    .dataframe tbody tr th:only-of-type {\n        vertical-align: middle;\n    }\n\n    .dataframe tbody tr th {\n        vertical-align: top;\n    }\n\n    .dataframe thead th {\n        text-align: right;\n    }\n</style>\n<table border=\"1\" class=\"dataframe\">\n  <thead>\n    <tr style=\"text-align: right;\">\n      <th></th>\n      <th>1. open</th>\n      <th>2. high</th>\n      <th>3. low</th>\n      <th>4. close</th>\n      <th>5. volume</th>\n    </tr>\n    <tr>\n      <th>date</th>\n      <th></th>\n      <th></th>\n      <th></th>\n      <th></th>\n      <th></th>\n    </tr>\n  </thead>\n  <tbody>\n    <tr>\n      <th>2019-07-29 10:00:00-04:00</th>\n      <td>10.5000</td>\n      <td>10.5800</td>\n      <td>10.4300</td>\n      <td>10.4400</td>\n      <td>4840329.0</td>\n    </tr>\n    <tr>\n      <th>2019-07-29 10:30:00-04:00</th>\n      <td>10.4404</td>\n      <td>10.4847</td>\n      <td>10.3997</td>\n      <td>10.4104</td>\n      <td>3860280.0</td>\n    </tr>\n    <tr>\n      <th>2019-07-29 11:00:00-04:00</th>\n      <td>10.4200</td>\n      <td>10.5000</td>\n      <td>10.4100</td>\n      <td>10.5000</td>\n      <td>1912153.0</td>\n    </tr>\n    <tr>\n      <th>2019-07-29 11:30:00-04:00</th>\n      <td>10.4931</td>\n      <td>10.5300</td>\n      <td>10.4800</td>\n      <td>10.4850</td>\n      <td>1916453.0</td>\n    </tr>\n    <tr>\n      <th>2019-07-29 12:00:00-04:00</th>\n      <td>10.4900</td>\n      <td>10.5000</td>\n      <td>10.4400</td>\n      <td>10.4500</td>\n      <td>2467638.0</td>\n    </tr>\n  </tbody>\n</table>\n</div>"
     },
     "execution_count": 112,
     "metadata": {},
     "output_type": "execute_result"
    }
   ],
   "source": [
    "ge.head()"
   ]
  },
  {
   "cell_type": "markdown",
   "metadata": {},
   "source": [
    "## Timezones and Converting (Part 2)"
   ]
  },
  {
   "cell_type": "code",
   "execution_count": 113,
   "metadata": {},
   "outputs": [
    {
     "data": {
      "text/plain": "<DstTzInfo 'America/New_York' LMT-1 day, 19:04:00 STD>"
     },
     "execution_count": 113,
     "metadata": {},
     "output_type": "execute_result"
    }
   ],
   "source": [
    "ge.index.tz # timezone이 New_York(동부시간대)로 설정되었다."
   ]
  },
  {
   "cell_type": "code",
   "execution_count": 114,
   "metadata": {
    "scrolled": true
   },
   "outputs": [
    {
     "data": {
      "text/plain": "                           1. open  2. high   3. low  4. close  5. volume\ndate                                                                     \n2019-07-29 14:00:00+00:00  10.5000  10.5800  10.4300   10.4400  4840329.0\n2019-07-29 14:30:00+00:00  10.4404  10.4847  10.3997   10.4104  3860280.0\n2019-07-29 15:00:00+00:00  10.4200  10.5000  10.4100   10.5000  1912153.0\n2019-07-29 15:30:00+00:00  10.4931  10.5300  10.4800   10.4850  1916453.0\n2019-07-29 16:00:00+00:00  10.4900  10.5000  10.4400   10.4500  2467638.0\n...                            ...      ...      ...       ...        ...\n2019-09-09 18:00:00+00:00   8.9900   8.9950   8.9700    8.9800  1740722.0\n2019-09-09 18:30:00+00:00   8.9735   9.0000   8.9700    8.9835  1412823.0\n2019-09-09 19:00:00+00:00   8.9900   9.0100   8.9350    8.9500  4177838.0\n2019-09-09 19:30:00+00:00   8.9453   8.9700   8.9300    8.9603  2254279.0\n2019-09-09 20:00:00+00:00   8.9600   8.9900   8.9200    8.9700  6887530.0\n\n[389 rows x 5 columns]",
      "text/html": "<div>\n<style scoped>\n    .dataframe tbody tr th:only-of-type {\n        vertical-align: middle;\n    }\n\n    .dataframe tbody tr th {\n        vertical-align: top;\n    }\n\n    .dataframe thead th {\n        text-align: right;\n    }\n</style>\n<table border=\"1\" class=\"dataframe\">\n  <thead>\n    <tr style=\"text-align: right;\">\n      <th></th>\n      <th>1. open</th>\n      <th>2. high</th>\n      <th>3. low</th>\n      <th>4. close</th>\n      <th>5. volume</th>\n    </tr>\n    <tr>\n      <th>date</th>\n      <th></th>\n      <th></th>\n      <th></th>\n      <th></th>\n      <th></th>\n    </tr>\n  </thead>\n  <tbody>\n    <tr>\n      <th>2019-07-29 14:00:00+00:00</th>\n      <td>10.5000</td>\n      <td>10.5800</td>\n      <td>10.4300</td>\n      <td>10.4400</td>\n      <td>4840329.0</td>\n    </tr>\n    <tr>\n      <th>2019-07-29 14:30:00+00:00</th>\n      <td>10.4404</td>\n      <td>10.4847</td>\n      <td>10.3997</td>\n      <td>10.4104</td>\n      <td>3860280.0</td>\n    </tr>\n    <tr>\n      <th>2019-07-29 15:00:00+00:00</th>\n      <td>10.4200</td>\n      <td>10.5000</td>\n      <td>10.4100</td>\n      <td>10.5000</td>\n      <td>1912153.0</td>\n    </tr>\n    <tr>\n      <th>2019-07-29 15:30:00+00:00</th>\n      <td>10.4931</td>\n      <td>10.5300</td>\n      <td>10.4800</td>\n      <td>10.4850</td>\n      <td>1916453.0</td>\n    </tr>\n    <tr>\n      <th>2019-07-29 16:00:00+00:00</th>\n      <td>10.4900</td>\n      <td>10.5000</td>\n      <td>10.4400</td>\n      <td>10.4500</td>\n      <td>2467638.0</td>\n    </tr>\n    <tr>\n      <th>...</th>\n      <td>...</td>\n      <td>...</td>\n      <td>...</td>\n      <td>...</td>\n      <td>...</td>\n    </tr>\n    <tr>\n      <th>2019-09-09 18:00:00+00:00</th>\n      <td>8.9900</td>\n      <td>8.9950</td>\n      <td>8.9700</td>\n      <td>8.9800</td>\n      <td>1740722.0</td>\n    </tr>\n    <tr>\n      <th>2019-09-09 18:30:00+00:00</th>\n      <td>8.9735</td>\n      <td>9.0000</td>\n      <td>8.9700</td>\n      <td>8.9835</td>\n      <td>1412823.0</td>\n    </tr>\n    <tr>\n      <th>2019-09-09 19:00:00+00:00</th>\n      <td>8.9900</td>\n      <td>9.0100</td>\n      <td>8.9350</td>\n      <td>8.9500</td>\n      <td>4177838.0</td>\n    </tr>\n    <tr>\n      <th>2019-09-09 19:30:00+00:00</th>\n      <td>8.9453</td>\n      <td>8.9700</td>\n      <td>8.9300</td>\n      <td>8.9603</td>\n      <td>2254279.0</td>\n    </tr>\n    <tr>\n      <th>2019-09-09 20:00:00+00:00</th>\n      <td>8.9600</td>\n      <td>8.9900</td>\n      <td>8.9200</td>\n      <td>8.9700</td>\n      <td>6887530.0</td>\n    </tr>\n  </tbody>\n</table>\n<p>389 rows × 5 columns</p>\n</div>"
     },
     "execution_count": 114,
     "metadata": {},
     "output_type": "execute_result"
    }
   ],
   "source": [
    "ge.tz_convert(\"UTC\") # 10am에 해당하는 UTC는 14pm이 된다."
   ]
  },
  {
   "cell_type": "code",
   "execution_count": 116,
   "metadata": {
    "scrolled": true
   },
   "outputs": [
    {
     "data": {
      "text/plain": "                           1. open  2. high   3. low  4. close  5. volume\ndate                                                                     \n2019-07-29 07:00:00-07:00  10.5000  10.5800  10.4300   10.4400  4840329.0\n2019-07-29 07:30:00-07:00  10.4404  10.4847  10.3997   10.4104  3860280.0\n2019-07-29 08:00:00-07:00  10.4200  10.5000  10.4100   10.5000  1912153.0\n2019-07-29 08:30:00-07:00  10.4931  10.5300  10.4800   10.4850  1916453.0\n2019-07-29 09:00:00-07:00  10.4900  10.5000  10.4400   10.4500  2467638.0\n...                            ...      ...      ...       ...        ...\n2019-09-09 11:00:00-07:00   8.9900   8.9950   8.9700    8.9800  1740722.0\n2019-09-09 11:30:00-07:00   8.9735   9.0000   8.9700    8.9835  1412823.0\n2019-09-09 12:00:00-07:00   8.9900   9.0100   8.9350    8.9500  4177838.0\n2019-09-09 12:30:00-07:00   8.9453   8.9700   8.9300    8.9603  2254279.0\n2019-09-09 13:00:00-07:00   8.9600   8.9900   8.9200    8.9700  6887530.0\n\n[389 rows x 5 columns]",
      "text/html": "<div>\n<style scoped>\n    .dataframe tbody tr th:only-of-type {\n        vertical-align: middle;\n    }\n\n    .dataframe tbody tr th {\n        vertical-align: top;\n    }\n\n    .dataframe thead th {\n        text-align: right;\n    }\n</style>\n<table border=\"1\" class=\"dataframe\">\n  <thead>\n    <tr style=\"text-align: right;\">\n      <th></th>\n      <th>1. open</th>\n      <th>2. high</th>\n      <th>3. low</th>\n      <th>4. close</th>\n      <th>5. volume</th>\n    </tr>\n    <tr>\n      <th>date</th>\n      <th></th>\n      <th></th>\n      <th></th>\n      <th></th>\n      <th></th>\n    </tr>\n  </thead>\n  <tbody>\n    <tr>\n      <th>2019-07-29 07:00:00-07:00</th>\n      <td>10.5000</td>\n      <td>10.5800</td>\n      <td>10.4300</td>\n      <td>10.4400</td>\n      <td>4840329.0</td>\n    </tr>\n    <tr>\n      <th>2019-07-29 07:30:00-07:00</th>\n      <td>10.4404</td>\n      <td>10.4847</td>\n      <td>10.3997</td>\n      <td>10.4104</td>\n      <td>3860280.0</td>\n    </tr>\n    <tr>\n      <th>2019-07-29 08:00:00-07:00</th>\n      <td>10.4200</td>\n      <td>10.5000</td>\n      <td>10.4100</td>\n      <td>10.5000</td>\n      <td>1912153.0</td>\n    </tr>\n    <tr>\n      <th>2019-07-29 08:30:00-07:00</th>\n      <td>10.4931</td>\n      <td>10.5300</td>\n      <td>10.4800</td>\n      <td>10.4850</td>\n      <td>1916453.0</td>\n    </tr>\n    <tr>\n      <th>2019-07-29 09:00:00-07:00</th>\n      <td>10.4900</td>\n      <td>10.5000</td>\n      <td>10.4400</td>\n      <td>10.4500</td>\n      <td>2467638.0</td>\n    </tr>\n    <tr>\n      <th>...</th>\n      <td>...</td>\n      <td>...</td>\n      <td>...</td>\n      <td>...</td>\n      <td>...</td>\n    </tr>\n    <tr>\n      <th>2019-09-09 11:00:00-07:00</th>\n      <td>8.9900</td>\n      <td>8.9950</td>\n      <td>8.9700</td>\n      <td>8.9800</td>\n      <td>1740722.0</td>\n    </tr>\n    <tr>\n      <th>2019-09-09 11:30:00-07:00</th>\n      <td>8.9735</td>\n      <td>9.0000</td>\n      <td>8.9700</td>\n      <td>8.9835</td>\n      <td>1412823.0</td>\n    </tr>\n    <tr>\n      <th>2019-09-09 12:00:00-07:00</th>\n      <td>8.9900</td>\n      <td>9.0100</td>\n      <td>8.9350</td>\n      <td>8.9500</td>\n      <td>4177838.0</td>\n    </tr>\n    <tr>\n      <th>2019-09-09 12:30:00-07:00</th>\n      <td>8.9453</td>\n      <td>8.9700</td>\n      <td>8.9300</td>\n      <td>8.9603</td>\n      <td>2254279.0</td>\n    </tr>\n    <tr>\n      <th>2019-09-09 13:00:00-07:00</th>\n      <td>8.9600</td>\n      <td>8.9900</td>\n      <td>8.9200</td>\n      <td>8.9700</td>\n      <td>6887530.0</td>\n    </tr>\n  </tbody>\n</table>\n<p>389 rows × 5 columns</p>\n</div>"
     },
     "execution_count": 116,
     "metadata": {},
     "output_type": "execute_result"
    }
   ],
   "source": [
    "ge.tz_convert(\"America/Los_Angeles\")"
   ]
  },
  {
   "cell_type": "code",
   "execution_count": 117,
   "metadata": {},
   "outputs": [],
   "source": [
    "ge_la = ge.tz_convert(\"America/Los_Angeles\")"
   ]
  },
  {
   "cell_type": "code",
   "execution_count": 118,
   "metadata": {},
   "outputs": [
    {
     "data": {
      "text/plain": "                           1. open  2. high   3. low  4. close  5. volume\ndate                                                                     \n2019-07-29 07:00:00-07:00  10.5000  10.5800  10.4300   10.4400  4840329.0\n2019-07-29 07:30:00-07:00  10.4404  10.4847  10.3997   10.4104  3860280.0\n2019-07-29 08:00:00-07:00  10.4200  10.5000  10.4100   10.5000  1912153.0\n2019-07-29 08:30:00-07:00  10.4931  10.5300  10.4800   10.4850  1916453.0\n2019-07-29 09:00:00-07:00  10.4900  10.5000  10.4400   10.4500  2467638.0",
      "text/html": "<div>\n<style scoped>\n    .dataframe tbody tr th:only-of-type {\n        vertical-align: middle;\n    }\n\n    .dataframe tbody tr th {\n        vertical-align: top;\n    }\n\n    .dataframe thead th {\n        text-align: right;\n    }\n</style>\n<table border=\"1\" class=\"dataframe\">\n  <thead>\n    <tr style=\"text-align: right;\">\n      <th></th>\n      <th>1. open</th>\n      <th>2. high</th>\n      <th>3. low</th>\n      <th>4. close</th>\n      <th>5. volume</th>\n    </tr>\n    <tr>\n      <th>date</th>\n      <th></th>\n      <th></th>\n      <th></th>\n      <th></th>\n      <th></th>\n    </tr>\n  </thead>\n  <tbody>\n    <tr>\n      <th>2019-07-29 07:00:00-07:00</th>\n      <td>10.5000</td>\n      <td>10.5800</td>\n      <td>10.4300</td>\n      <td>10.4400</td>\n      <td>4840329.0</td>\n    </tr>\n    <tr>\n      <th>2019-07-29 07:30:00-07:00</th>\n      <td>10.4404</td>\n      <td>10.4847</td>\n      <td>10.3997</td>\n      <td>10.4104</td>\n      <td>3860280.0</td>\n    </tr>\n    <tr>\n      <th>2019-07-29 08:00:00-07:00</th>\n      <td>10.4200</td>\n      <td>10.5000</td>\n      <td>10.4100</td>\n      <td>10.5000</td>\n      <td>1912153.0</td>\n    </tr>\n    <tr>\n      <th>2019-07-29 08:30:00-07:00</th>\n      <td>10.4931</td>\n      <td>10.5300</td>\n      <td>10.4800</td>\n      <td>10.4850</td>\n      <td>1916453.0</td>\n    </tr>\n    <tr>\n      <th>2019-07-29 09:00:00-07:00</th>\n      <td>10.4900</td>\n      <td>10.5000</td>\n      <td>10.4400</td>\n      <td>10.4500</td>\n      <td>2467638.0</td>\n    </tr>\n  </tbody>\n</table>\n</div>"
     },
     "execution_count": 118,
     "metadata": {},
     "output_type": "execute_result"
    }
   ],
   "source": [
    "ge_la.head()"
   ]
  },
  {
   "cell_type": "code",
   "execution_count": 119,
   "metadata": {},
   "outputs": [
    {
     "data": {
      "text/plain": "                           1. open  2. high   3. low  4. close  5. volume\ndate                                                                     \n2019-07-29 10:00:00-04:00  10.5000  10.5800  10.4300   10.4400  4840329.0\n2019-07-29 10:30:00-04:00  10.4404  10.4847  10.3997   10.4104  3860280.0\n2019-07-29 11:00:00-04:00  10.4200  10.5000  10.4100   10.5000  1912153.0\n2019-07-29 11:30:00-04:00  10.4931  10.5300  10.4800   10.4850  1916453.0\n2019-07-29 12:00:00-04:00  10.4900  10.5000  10.4400   10.4500  2467638.0",
      "text/html": "<div>\n<style scoped>\n    .dataframe tbody tr th:only-of-type {\n        vertical-align: middle;\n    }\n\n    .dataframe tbody tr th {\n        vertical-align: top;\n    }\n\n    .dataframe thead th {\n        text-align: right;\n    }\n</style>\n<table border=\"1\" class=\"dataframe\">\n  <thead>\n    <tr style=\"text-align: right;\">\n      <th></th>\n      <th>1. open</th>\n      <th>2. high</th>\n      <th>3. low</th>\n      <th>4. close</th>\n      <th>5. volume</th>\n    </tr>\n    <tr>\n      <th>date</th>\n      <th></th>\n      <th></th>\n      <th></th>\n      <th></th>\n      <th></th>\n    </tr>\n  </thead>\n  <tbody>\n    <tr>\n      <th>2019-07-29 10:00:00-04:00</th>\n      <td>10.5000</td>\n      <td>10.5800</td>\n      <td>10.4300</td>\n      <td>10.4400</td>\n      <td>4840329.0</td>\n    </tr>\n    <tr>\n      <th>2019-07-29 10:30:00-04:00</th>\n      <td>10.4404</td>\n      <td>10.4847</td>\n      <td>10.3997</td>\n      <td>10.4104</td>\n      <td>3860280.0</td>\n    </tr>\n    <tr>\n      <th>2019-07-29 11:00:00-04:00</th>\n      <td>10.4200</td>\n      <td>10.5000</td>\n      <td>10.4100</td>\n      <td>10.5000</td>\n      <td>1912153.0</td>\n    </tr>\n    <tr>\n      <th>2019-07-29 11:30:00-04:00</th>\n      <td>10.4931</td>\n      <td>10.5300</td>\n      <td>10.4800</td>\n      <td>10.4850</td>\n      <td>1916453.0</td>\n    </tr>\n    <tr>\n      <th>2019-07-29 12:00:00-04:00</th>\n      <td>10.4900</td>\n      <td>10.5000</td>\n      <td>10.4400</td>\n      <td>10.4500</td>\n      <td>2467638.0</td>\n    </tr>\n  </tbody>\n</table>\n</div>"
     },
     "execution_count": 119,
     "metadata": {},
     "output_type": "execute_result"
    }
   ],
   "source": [
    "ge.head()"
   ]
  },
  {
   "cell_type": "code",
   "execution_count": 120,
   "metadata": {},
   "outputs": [],
   "source": [
    "comb = pd.concat([ge, ge_la], axis = 1)"
   ]
  },
  {
   "cell_type": "code",
   "execution_count": 121,
   "metadata": {},
   "outputs": [
    {
     "data": {
      "text/plain": "                           1. open  2. high   3. low  4. close  5. volume  \\\ndate                                                                        \n2019-07-29 14:00:00+00:00  10.5000  10.5800  10.4300   10.4400  4840329.0   \n2019-07-29 14:30:00+00:00  10.4404  10.4847  10.3997   10.4104  3860280.0   \n2019-07-29 15:00:00+00:00  10.4200  10.5000  10.4100   10.5000  1912153.0   \n2019-07-29 15:30:00+00:00  10.4931  10.5300  10.4800   10.4850  1916453.0   \n2019-07-29 16:00:00+00:00  10.4900  10.5000  10.4400   10.4500  2467638.0   \n\n                           1. open  2. high   3. low  4. close  5. volume  \ndate                                                                       \n2019-07-29 14:00:00+00:00  10.5000  10.5800  10.4300   10.4400  4840329.0  \n2019-07-29 14:30:00+00:00  10.4404  10.4847  10.3997   10.4104  3860280.0  \n2019-07-29 15:00:00+00:00  10.4200  10.5000  10.4100   10.5000  1912153.0  \n2019-07-29 15:30:00+00:00  10.4931  10.5300  10.4800   10.4850  1916453.0  \n2019-07-29 16:00:00+00:00  10.4900  10.5000  10.4400   10.4500  2467638.0  ",
      "text/html": "<div>\n<style scoped>\n    .dataframe tbody tr th:only-of-type {\n        vertical-align: middle;\n    }\n\n    .dataframe tbody tr th {\n        vertical-align: top;\n    }\n\n    .dataframe thead th {\n        text-align: right;\n    }\n</style>\n<table border=\"1\" class=\"dataframe\">\n  <thead>\n    <tr style=\"text-align: right;\">\n      <th></th>\n      <th>1. open</th>\n      <th>2. high</th>\n      <th>3. low</th>\n      <th>4. close</th>\n      <th>5. volume</th>\n      <th>1. open</th>\n      <th>2. high</th>\n      <th>3. low</th>\n      <th>4. close</th>\n      <th>5. volume</th>\n    </tr>\n    <tr>\n      <th>date</th>\n      <th></th>\n      <th></th>\n      <th></th>\n      <th></th>\n      <th></th>\n      <th></th>\n      <th></th>\n      <th></th>\n      <th></th>\n      <th></th>\n    </tr>\n  </thead>\n  <tbody>\n    <tr>\n      <th>2019-07-29 14:00:00+00:00</th>\n      <td>10.5000</td>\n      <td>10.5800</td>\n      <td>10.4300</td>\n      <td>10.4400</td>\n      <td>4840329.0</td>\n      <td>10.5000</td>\n      <td>10.5800</td>\n      <td>10.4300</td>\n      <td>10.4400</td>\n      <td>4840329.0</td>\n    </tr>\n    <tr>\n      <th>2019-07-29 14:30:00+00:00</th>\n      <td>10.4404</td>\n      <td>10.4847</td>\n      <td>10.3997</td>\n      <td>10.4104</td>\n      <td>3860280.0</td>\n      <td>10.4404</td>\n      <td>10.4847</td>\n      <td>10.3997</td>\n      <td>10.4104</td>\n      <td>3860280.0</td>\n    </tr>\n    <tr>\n      <th>2019-07-29 15:00:00+00:00</th>\n      <td>10.4200</td>\n      <td>10.5000</td>\n      <td>10.4100</td>\n      <td>10.5000</td>\n      <td>1912153.0</td>\n      <td>10.4200</td>\n      <td>10.5000</td>\n      <td>10.4100</td>\n      <td>10.5000</td>\n      <td>1912153.0</td>\n    </tr>\n    <tr>\n      <th>2019-07-29 15:30:00+00:00</th>\n      <td>10.4931</td>\n      <td>10.5300</td>\n      <td>10.4800</td>\n      <td>10.4850</td>\n      <td>1916453.0</td>\n      <td>10.4931</td>\n      <td>10.5300</td>\n      <td>10.4800</td>\n      <td>10.4850</td>\n      <td>1916453.0</td>\n    </tr>\n    <tr>\n      <th>2019-07-29 16:00:00+00:00</th>\n      <td>10.4900</td>\n      <td>10.5000</td>\n      <td>10.4400</td>\n      <td>10.4500</td>\n      <td>2467638.0</td>\n      <td>10.4900</td>\n      <td>10.5000</td>\n      <td>10.4400</td>\n      <td>10.4500</td>\n      <td>2467638.0</td>\n    </tr>\n  </tbody>\n</table>\n</div>"
     },
     "execution_count": 121,
     "metadata": {},
     "output_type": "execute_result"
    }
   ],
   "source": [
    "comb.head() # 두개의 timezone이 같은 시간을 가리키고 있다. UTC 기준으로 concat"
   ]
  },
  {
   "cell_type": "code",
   "execution_count": 122,
   "metadata": {},
   "outputs": [
    {
     "data": {
      "text/plain": "DatetimeIndex(['2019-07-29 14:00:00+00:00', '2019-07-29 14:30:00+00:00',\n               '2019-07-29 15:00:00+00:00', '2019-07-29 15:30:00+00:00',\n               '2019-07-29 16:00:00+00:00', '2019-07-29 16:30:00+00:00',\n               '2019-07-29 17:00:00+00:00', '2019-07-29 17:30:00+00:00',\n               '2019-07-29 18:00:00+00:00', '2019-07-29 18:30:00+00:00',\n               ...\n               '2019-09-09 15:30:00+00:00', '2019-09-09 16:00:00+00:00',\n               '2019-09-09 16:30:00+00:00', '2019-09-09 17:00:00+00:00',\n               '2019-09-09 17:30:00+00:00', '2019-09-09 18:00:00+00:00',\n               '2019-09-09 18:30:00+00:00', '2019-09-09 19:00:00+00:00',\n               '2019-09-09 19:30:00+00:00', '2019-09-09 20:00:00+00:00'],\n              dtype='datetime64[ns, UTC]', name='date', length=389, freq=None)"
     },
     "execution_count": 122,
     "metadata": {},
     "output_type": "execute_result"
    }
   ],
   "source": [
    "comb.index"
   ]
  },
  {
   "cell_type": "code",
   "execution_count": 123,
   "metadata": {},
   "outputs": [],
   "source": [
    "comb[\"NY_time\"] = comb.index.tz_convert(\"America/New_York\")\n",
    "comb[\"LA_time\"] = comb.index.tz_convert(\"America/Los_Angeles\")"
   ]
  },
  {
   "cell_type": "code",
   "execution_count": 124,
   "metadata": {},
   "outputs": [
    {
     "data": {
      "text/plain": "                           1. open  2. high   3. low  4. close  5. volume  \\\ndate                                                                        \n2019-07-29 14:00:00+00:00  10.5000  10.5800  10.4300   10.4400  4840329.0   \n2019-07-29 14:30:00+00:00  10.4404  10.4847  10.3997   10.4104  3860280.0   \n2019-07-29 15:00:00+00:00  10.4200  10.5000  10.4100   10.5000  1912153.0   \n2019-07-29 15:30:00+00:00  10.4931  10.5300  10.4800   10.4850  1916453.0   \n2019-07-29 16:00:00+00:00  10.4900  10.5000  10.4400   10.4500  2467638.0   \n\n                           1. open  2. high   3. low  4. close  5. volume  \\\ndate                                                                        \n2019-07-29 14:00:00+00:00  10.5000  10.5800  10.4300   10.4400  4840329.0   \n2019-07-29 14:30:00+00:00  10.4404  10.4847  10.3997   10.4104  3860280.0   \n2019-07-29 15:00:00+00:00  10.4200  10.5000  10.4100   10.5000  1912153.0   \n2019-07-29 15:30:00+00:00  10.4931  10.5300  10.4800   10.4850  1916453.0   \n2019-07-29 16:00:00+00:00  10.4900  10.5000  10.4400   10.4500  2467638.0   \n\n                                            NY_time                   LA_time  \ndate                                                                           \n2019-07-29 14:00:00+00:00 2019-07-29 10:00:00-04:00 2019-07-29 07:00:00-07:00  \n2019-07-29 14:30:00+00:00 2019-07-29 10:30:00-04:00 2019-07-29 07:30:00-07:00  \n2019-07-29 15:00:00+00:00 2019-07-29 11:00:00-04:00 2019-07-29 08:00:00-07:00  \n2019-07-29 15:30:00+00:00 2019-07-29 11:30:00-04:00 2019-07-29 08:30:00-07:00  \n2019-07-29 16:00:00+00:00 2019-07-29 12:00:00-04:00 2019-07-29 09:00:00-07:00  ",
      "text/html": "<div>\n<style scoped>\n    .dataframe tbody tr th:only-of-type {\n        vertical-align: middle;\n    }\n\n    .dataframe tbody tr th {\n        vertical-align: top;\n    }\n\n    .dataframe thead th {\n        text-align: right;\n    }\n</style>\n<table border=\"1\" class=\"dataframe\">\n  <thead>\n    <tr style=\"text-align: right;\">\n      <th></th>\n      <th>1. open</th>\n      <th>2. high</th>\n      <th>3. low</th>\n      <th>4. close</th>\n      <th>5. volume</th>\n      <th>1. open</th>\n      <th>2. high</th>\n      <th>3. low</th>\n      <th>4. close</th>\n      <th>5. volume</th>\n      <th>NY_time</th>\n      <th>LA_time</th>\n    </tr>\n    <tr>\n      <th>date</th>\n      <th></th>\n      <th></th>\n      <th></th>\n      <th></th>\n      <th></th>\n      <th></th>\n      <th></th>\n      <th></th>\n      <th></th>\n      <th></th>\n      <th></th>\n      <th></th>\n    </tr>\n  </thead>\n  <tbody>\n    <tr>\n      <th>2019-07-29 14:00:00+00:00</th>\n      <td>10.5000</td>\n      <td>10.5800</td>\n      <td>10.4300</td>\n      <td>10.4400</td>\n      <td>4840329.0</td>\n      <td>10.5000</td>\n      <td>10.5800</td>\n      <td>10.4300</td>\n      <td>10.4400</td>\n      <td>4840329.0</td>\n      <td>2019-07-29 10:00:00-04:00</td>\n      <td>2019-07-29 07:00:00-07:00</td>\n    </tr>\n    <tr>\n      <th>2019-07-29 14:30:00+00:00</th>\n      <td>10.4404</td>\n      <td>10.4847</td>\n      <td>10.3997</td>\n      <td>10.4104</td>\n      <td>3860280.0</td>\n      <td>10.4404</td>\n      <td>10.4847</td>\n      <td>10.3997</td>\n      <td>10.4104</td>\n      <td>3860280.0</td>\n      <td>2019-07-29 10:30:00-04:00</td>\n      <td>2019-07-29 07:30:00-07:00</td>\n    </tr>\n    <tr>\n      <th>2019-07-29 15:00:00+00:00</th>\n      <td>10.4200</td>\n      <td>10.5000</td>\n      <td>10.4100</td>\n      <td>10.5000</td>\n      <td>1912153.0</td>\n      <td>10.4200</td>\n      <td>10.5000</td>\n      <td>10.4100</td>\n      <td>10.5000</td>\n      <td>1912153.0</td>\n      <td>2019-07-29 11:00:00-04:00</td>\n      <td>2019-07-29 08:00:00-07:00</td>\n    </tr>\n    <tr>\n      <th>2019-07-29 15:30:00+00:00</th>\n      <td>10.4931</td>\n      <td>10.5300</td>\n      <td>10.4800</td>\n      <td>10.4850</td>\n      <td>1916453.0</td>\n      <td>10.4931</td>\n      <td>10.5300</td>\n      <td>10.4800</td>\n      <td>10.4850</td>\n      <td>1916453.0</td>\n      <td>2019-07-29 11:30:00-04:00</td>\n      <td>2019-07-29 08:30:00-07:00</td>\n    </tr>\n    <tr>\n      <th>2019-07-29 16:00:00+00:00</th>\n      <td>10.4900</td>\n      <td>10.5000</td>\n      <td>10.4400</td>\n      <td>10.4500</td>\n      <td>2467638.0</td>\n      <td>10.4900</td>\n      <td>10.5000</td>\n      <td>10.4400</td>\n      <td>10.4500</td>\n      <td>2467638.0</td>\n      <td>2019-07-29 12:00:00-04:00</td>\n      <td>2019-07-29 09:00:00-07:00</td>\n    </tr>\n  </tbody>\n</table>\n</div>"
     },
     "execution_count": 124,
     "metadata": {},
     "output_type": "execute_result"
    }
   ],
   "source": [
    "comb.head()"
   ]
  },
  {
   "cell_type": "code",
   "execution_count": 125,
   "metadata": {},
   "outputs": [],
   "source": [
    "import pytz"
   ]
  },
  {
   "cell_type": "code",
   "execution_count": 126,
   "metadata": {
    "scrolled": true
   },
   "outputs": [
    {
     "data": {
      "text/plain": "596"
     },
     "execution_count": 126,
     "metadata": {},
     "output_type": "execute_result"
    }
   ],
   "source": [
    "len(pytz.all_timezones)"
   ]
  },
  {
   "cell_type": "code",
   "execution_count": 127,
   "metadata": {
    "scrolled": true
   },
   "outputs": [
    {
     "data": {
      "text/plain": "['Africa/Abidjan', 'Africa/Accra', 'Africa/Addis_Ababa', 'Africa/Algiers', 'Africa/Asmara', 'Africa/Bamako', 'Africa/Bangui', 'Africa/Banjul', 'Africa/Bissau', 'Africa/Blantyre', 'Africa/Brazzaville', 'Africa/Bujumbura', 'Africa/Cairo', 'Africa/Casablanca', 'Africa/Ceuta', 'Africa/Conakry', 'Africa/Dakar', 'Africa/Dar_es_Salaam', 'Africa/Djibouti', 'Africa/Douala', 'Africa/El_Aaiun', 'Africa/Freetown', 'Africa/Gaborone', 'Africa/Harare', 'Africa/Johannesburg', 'Africa/Juba', 'Africa/Kampala', 'Africa/Khartoum', 'Africa/Kigali', 'Africa/Kinshasa', 'Africa/Lagos', 'Africa/Libreville', 'Africa/Lome', 'Africa/Luanda', 'Africa/Lubumbashi', 'Africa/Lusaka', 'Africa/Malabo', 'Africa/Maputo', 'Africa/Maseru', 'Africa/Mbabane', 'Africa/Mogadishu', 'Africa/Monrovia', 'Africa/Nairobi', 'Africa/Ndjamena', 'Africa/Niamey', 'Africa/Nouakchott', 'Africa/Ouagadougou', 'Africa/Porto-Novo', 'Africa/Sao_Tome', 'Africa/Tripoli', 'Africa/Tunis', 'Africa/Windhoek', 'America/Adak', 'America/Anchorage', 'America/Anguilla', 'America/Antigua', 'America/Araguaina', 'America/Argentina/Buenos_Aires', 'America/Argentina/Catamarca', 'America/Argentina/Cordoba', 'America/Argentina/Jujuy', 'America/Argentina/La_Rioja', 'America/Argentina/Mendoza', 'America/Argentina/Rio_Gallegos', 'America/Argentina/Salta', 'America/Argentina/San_Juan', 'America/Argentina/San_Luis', 'America/Argentina/Tucuman', 'America/Argentina/Ushuaia', 'America/Aruba', 'America/Asuncion', 'America/Atikokan', 'America/Bahia', 'America/Bahia_Banderas', 'America/Barbados', 'America/Belem', 'America/Belize', 'America/Blanc-Sablon', 'America/Boa_Vista', 'America/Bogota', 'America/Boise', 'America/Cambridge_Bay', 'America/Campo_Grande', 'America/Cancun', 'America/Caracas', 'America/Cayenne', 'America/Cayman', 'America/Chicago', 'America/Chihuahua', 'America/Ciudad_Juarez', 'America/Costa_Rica', 'America/Creston', 'America/Cuiaba', 'America/Curacao', 'America/Danmarkshavn', 'America/Dawson', 'America/Dawson_Creek', 'America/Denver', 'America/Detroit', 'America/Dominica', 'America/Edmonton', 'America/Eirunepe', 'America/El_Salvador', 'America/Fort_Nelson', 'America/Fortaleza', 'America/Glace_Bay', 'America/Goose_Bay', 'America/Grand_Turk', 'America/Grenada', 'America/Guadeloupe', 'America/Guatemala', 'America/Guayaquil', 'America/Guyana', 'America/Halifax', 'America/Havana', 'America/Hermosillo', 'America/Indiana/Indianapolis', 'America/Indiana/Knox', 'America/Indiana/Marengo', 'America/Indiana/Petersburg', 'America/Indiana/Tell_City', 'America/Indiana/Vevay', 'America/Indiana/Vincennes', 'America/Indiana/Winamac', 'America/Inuvik', 'America/Iqaluit', 'America/Jamaica', 'America/Juneau', 'America/Kentucky/Louisville', 'America/Kentucky/Monticello', 'America/Kralendijk', 'America/La_Paz', 'America/Lima', 'America/Los_Angeles', 'America/Lower_Princes', 'America/Maceio', 'America/Managua', 'America/Manaus', 'America/Marigot', 'America/Martinique', 'America/Matamoros', 'America/Mazatlan', 'America/Menominee', 'America/Merida', 'America/Metlakatla', 'America/Mexico_City', 'America/Miquelon', 'America/Moncton', 'America/Monterrey', 'America/Montevideo', 'America/Montserrat', 'America/Nassau', 'America/New_York', 'America/Nome', 'America/Noronha', 'America/North_Dakota/Beulah', 'America/North_Dakota/Center', 'America/North_Dakota/New_Salem', 'America/Nuuk', 'America/Ojinaga', 'America/Panama', 'America/Paramaribo', 'America/Phoenix', 'America/Port-au-Prince', 'America/Port_of_Spain', 'America/Porto_Velho', 'America/Puerto_Rico', 'America/Punta_Arenas', 'America/Rankin_Inlet', 'America/Recife', 'America/Regina', 'America/Resolute', 'America/Rio_Branco', 'America/Santarem', 'America/Santiago', 'America/Santo_Domingo', 'America/Sao_Paulo', 'America/Scoresbysund', 'America/Sitka', 'America/St_Barthelemy', 'America/St_Johns', 'America/St_Kitts', 'America/St_Lucia', 'America/St_Thomas', 'America/St_Vincent', 'America/Swift_Current', 'America/Tegucigalpa', 'America/Thule', 'America/Tijuana', 'America/Toronto', 'America/Tortola', 'America/Vancouver', 'America/Whitehorse', 'America/Winnipeg', 'America/Yakutat', 'Antarctica/Casey', 'Antarctica/Davis', 'Antarctica/DumontDUrville', 'Antarctica/Macquarie', 'Antarctica/Mawson', 'Antarctica/McMurdo', 'Antarctica/Palmer', 'Antarctica/Rothera', 'Antarctica/Syowa', 'Antarctica/Troll', 'Antarctica/Vostok', 'Arctic/Longyearbyen', 'Asia/Aden', 'Asia/Almaty', 'Asia/Amman', 'Asia/Anadyr', 'Asia/Aqtau', 'Asia/Aqtobe', 'Asia/Ashgabat', 'Asia/Atyrau', 'Asia/Baghdad', 'Asia/Bahrain', 'Asia/Baku', 'Asia/Bangkok', 'Asia/Barnaul', 'Asia/Beirut', 'Asia/Bishkek', 'Asia/Brunei', 'Asia/Chita', 'Asia/Choibalsan', 'Asia/Colombo', 'Asia/Damascus', 'Asia/Dhaka', 'Asia/Dili', 'Asia/Dubai', 'Asia/Dushanbe', 'Asia/Famagusta', 'Asia/Gaza', 'Asia/Hebron', 'Asia/Ho_Chi_Minh', 'Asia/Hong_Kong', 'Asia/Hovd', 'Asia/Irkutsk', 'Asia/Jakarta', 'Asia/Jayapura', 'Asia/Jerusalem', 'Asia/Kabul', 'Asia/Kamchatka', 'Asia/Karachi', 'Asia/Kathmandu', 'Asia/Khandyga', 'Asia/Kolkata', 'Asia/Krasnoyarsk', 'Asia/Kuala_Lumpur', 'Asia/Kuching', 'Asia/Kuwait', 'Asia/Macau', 'Asia/Magadan', 'Asia/Makassar', 'Asia/Manila', 'Asia/Muscat', 'Asia/Nicosia', 'Asia/Novokuznetsk', 'Asia/Novosibirsk', 'Asia/Omsk', 'Asia/Oral', 'Asia/Phnom_Penh', 'Asia/Pontianak', 'Asia/Pyongyang', 'Asia/Qatar', 'Asia/Qostanay', 'Asia/Qyzylorda', 'Asia/Riyadh', 'Asia/Sakhalin', 'Asia/Samarkand', 'Asia/Seoul', 'Asia/Shanghai', 'Asia/Singapore', 'Asia/Srednekolymsk', 'Asia/Taipei', 'Asia/Tashkent', 'Asia/Tbilisi', 'Asia/Tehran', 'Asia/Thimphu', 'Asia/Tokyo', 'Asia/Tomsk', 'Asia/Ulaanbaatar', 'Asia/Urumqi', 'Asia/Ust-Nera', 'Asia/Vientiane', 'Asia/Vladivostok', 'Asia/Yakutsk', 'Asia/Yangon', 'Asia/Yekaterinburg', 'Asia/Yerevan', 'Atlantic/Azores', 'Atlantic/Bermuda', 'Atlantic/Canary', 'Atlantic/Cape_Verde', 'Atlantic/Faroe', 'Atlantic/Madeira', 'Atlantic/Reykjavik', 'Atlantic/South_Georgia', 'Atlantic/St_Helena', 'Atlantic/Stanley', 'Australia/Adelaide', 'Australia/Brisbane', 'Australia/Broken_Hill', 'Australia/Darwin', 'Australia/Eucla', 'Australia/Hobart', 'Australia/Lindeman', 'Australia/Lord_Howe', 'Australia/Melbourne', 'Australia/Perth', 'Australia/Sydney', 'Canada/Atlantic', 'Canada/Central', 'Canada/Eastern', 'Canada/Mountain', 'Canada/Newfoundland', 'Canada/Pacific', 'Europe/Amsterdam', 'Europe/Andorra', 'Europe/Astrakhan', 'Europe/Athens', 'Europe/Belgrade', 'Europe/Berlin', 'Europe/Bratislava', 'Europe/Brussels', 'Europe/Bucharest', 'Europe/Budapest', 'Europe/Busingen', 'Europe/Chisinau', 'Europe/Copenhagen', 'Europe/Dublin', 'Europe/Gibraltar', 'Europe/Guernsey', 'Europe/Helsinki', 'Europe/Isle_of_Man', 'Europe/Istanbul', 'Europe/Jersey', 'Europe/Kaliningrad', 'Europe/Kirov', 'Europe/Kyiv', 'Europe/Lisbon', 'Europe/Ljubljana', 'Europe/London', 'Europe/Luxembourg', 'Europe/Madrid', 'Europe/Malta', 'Europe/Mariehamn', 'Europe/Minsk', 'Europe/Monaco', 'Europe/Moscow', 'Europe/Oslo', 'Europe/Paris', 'Europe/Podgorica', 'Europe/Prague', 'Europe/Riga', 'Europe/Rome', 'Europe/Samara', 'Europe/San_Marino', 'Europe/Sarajevo', 'Europe/Saratov', 'Europe/Simferopol', 'Europe/Skopje', 'Europe/Sofia', 'Europe/Stockholm', 'Europe/Tallinn', 'Europe/Tirane', 'Europe/Ulyanovsk', 'Europe/Vaduz', 'Europe/Vatican', 'Europe/Vienna', 'Europe/Vilnius', 'Europe/Volgograd', 'Europe/Warsaw', 'Europe/Zagreb', 'Europe/Zurich', 'GMT', 'Indian/Antananarivo', 'Indian/Chagos', 'Indian/Christmas', 'Indian/Cocos', 'Indian/Comoro', 'Indian/Kerguelen', 'Indian/Mahe', 'Indian/Maldives', 'Indian/Mauritius', 'Indian/Mayotte', 'Indian/Reunion', 'Pacific/Apia', 'Pacific/Auckland', 'Pacific/Bougainville', 'Pacific/Chatham', 'Pacific/Chuuk', 'Pacific/Easter', 'Pacific/Efate', 'Pacific/Fakaofo', 'Pacific/Fiji', 'Pacific/Funafuti', 'Pacific/Galapagos', 'Pacific/Gambier', 'Pacific/Guadalcanal', 'Pacific/Guam', 'Pacific/Honolulu', 'Pacific/Kanton', 'Pacific/Kiritimati', 'Pacific/Kosrae', 'Pacific/Kwajalein', 'Pacific/Majuro', 'Pacific/Marquesas', 'Pacific/Midway', 'Pacific/Nauru', 'Pacific/Niue', 'Pacific/Norfolk', 'Pacific/Noumea', 'Pacific/Pago_Pago', 'Pacific/Palau', 'Pacific/Pitcairn', 'Pacific/Pohnpei', 'Pacific/Port_Moresby', 'Pacific/Rarotonga', 'Pacific/Saipan', 'Pacific/Tahiti', 'Pacific/Tarawa', 'Pacific/Tongatapu', 'Pacific/Wake', 'Pacific/Wallis', 'US/Alaska', 'US/Arizona', 'US/Central', 'US/Eastern', 'US/Hawaii', 'US/Mountain', 'US/Pacific', 'UTC']"
     },
     "execution_count": 127,
     "metadata": {},
     "output_type": "execute_result"
    }
   ],
   "source": [
    "pytz.common_timezones"
   ]
  },
  {
   "cell_type": "code",
   "execution_count": null,
   "metadata": {},
   "outputs": [],
   "source": []
  }
 ],
 "metadata": {
  "kernelspec": {
   "display_name": "Python 3",
   "language": "python",
   "name": "python3"
  },
  "language_info": {
   "codemirror_mode": {
    "name": "ipython",
    "version": 3
   },
   "file_extension": ".py",
   "mimetype": "text/x-python",
   "name": "python",
   "nbconvert_exporter": "python",
   "pygments_lexer": "ipython3",
   "version": "3.7.4"
  }
 },
 "nbformat": 4,
 "nbformat_minor": 2
}
