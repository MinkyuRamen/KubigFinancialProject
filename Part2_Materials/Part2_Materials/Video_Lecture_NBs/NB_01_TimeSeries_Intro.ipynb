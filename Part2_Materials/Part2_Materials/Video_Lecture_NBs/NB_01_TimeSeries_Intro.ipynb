{
 "cells": [
  {
   "cell_type": "markdown",
   "metadata": {},
   "source": [
    "# Time Series Basics"
   ]
  },
  {
   "cell_type": "markdown",
   "metadata": {},
   "source": [
    "## Importing Time Series Data from csv-Files"
   ]
  },
  {
   "cell_type": "code",
   "execution_count": null,
   "metadata": {
    "pycharm": {
     "is_executing": true
    }
   },
   "outputs": [],
   "source": [
    "import pandas as pd"
   ]
  },
  {
   "cell_type": "code",
   "execution_count": 19,
   "metadata": {},
   "outputs": [],
   "source": [
    "temp = pd.read_csv(\"temp.csv\", parse_dates = [\"datetime\"], index_col= \"datetime\")\n",
    "# parse_dates => datetime을 timestap으로 바꿔줌\n",
    "# index_col => datetime을 index label로 만들어줌"
   ]
  },
  {
   "cell_type": "code",
   "execution_count": 20,
   "metadata": {},
   "outputs": [
    {
     "data": {
      "text/plain": "                       LA   NY\ndatetime                      \n2013-01-01 00:00:00  11.7 -1.1\n2013-01-01 01:00:00  10.7 -1.7\n2013-01-01 02:00:00   9.9 -2.0\n2013-01-01 03:00:00   9.3 -2.1\n2013-01-01 04:00:00   8.8 -2.3",
      "text/html": "<div>\n<style scoped>\n    .dataframe tbody tr th:only-of-type {\n        vertical-align: middle;\n    }\n\n    .dataframe tbody tr th {\n        vertical-align: top;\n    }\n\n    .dataframe thead th {\n        text-align: right;\n    }\n</style>\n<table border=\"1\" class=\"dataframe\">\n  <thead>\n    <tr style=\"text-align: right;\">\n      <th></th>\n      <th>LA</th>\n      <th>NY</th>\n    </tr>\n    <tr>\n      <th>datetime</th>\n      <th></th>\n      <th></th>\n    </tr>\n  </thead>\n  <tbody>\n    <tr>\n      <th>2013-01-01 00:00:00</th>\n      <td>11.7</td>\n      <td>-1.1</td>\n    </tr>\n    <tr>\n      <th>2013-01-01 01:00:00</th>\n      <td>10.7</td>\n      <td>-1.7</td>\n    </tr>\n    <tr>\n      <th>2013-01-01 02:00:00</th>\n      <td>9.9</td>\n      <td>-2.0</td>\n    </tr>\n    <tr>\n      <th>2013-01-01 03:00:00</th>\n      <td>9.3</td>\n      <td>-2.1</td>\n    </tr>\n    <tr>\n      <th>2013-01-01 04:00:00</th>\n      <td>8.8</td>\n      <td>-2.3</td>\n    </tr>\n  </tbody>\n</table>\n</div>"
     },
     "execution_count": 20,
     "metadata": {},
     "output_type": "execute_result"
    }
   ],
   "source": [
    "temp.head()"
   ]
  },
  {
   "cell_type": "code",
   "execution_count": 21,
   "metadata": {},
   "outputs": [
    {
     "name": "stdout",
     "output_type": "stream",
     "text": [
      "<class 'pandas.core.frame.DataFrame'>\n",
      "DatetimeIndex: 35064 entries, 2013-01-01 00:00:00 to 2016-12-31 23:00:00\n",
      "Data columns (total 2 columns):\n",
      " #   Column  Non-Null Count  Dtype  \n",
      "---  ------  --------------  -----  \n",
      " 0   LA      35062 non-null  float64\n",
      " 1   NY      35064 non-null  float64\n",
      "dtypes: float64(2)\n",
      "memory usage: 821.8 KB\n"
     ]
    }
   ],
   "source": [
    "temp.info()"
   ]
  },
  {
   "cell_type": "code",
   "execution_count": 22,
   "outputs": [
    {
     "data": {
      "text/plain": "11.7"
     },
     "execution_count": 22,
     "metadata": {},
     "output_type": "execute_result"
    }
   ],
   "source": [
    "temp.iloc[0, 0]"
   ],
   "metadata": {
    "collapsed": false
   }
  },
  {
   "cell_type": "code",
   "execution_count": 23,
   "metadata": {},
   "outputs": [
    {
     "data": {
      "text/plain": "numpy.float64"
     },
     "execution_count": 23,
     "metadata": {},
     "output_type": "execute_result"
    }
   ],
   "source": [
    "type(temp.iloc[0, 0])"
   ]
  },
  {
   "cell_type": "code",
   "execution_count": 24,
   "metadata": {},
   "outputs": [
    {
     "data": {
      "text/plain": "DatetimeIndex(['2013-01-01 00:00:00', '2013-01-01 01:00:00',\n               '2013-01-01 02:00:00', '2013-01-01 03:00:00',\n               '2013-01-01 04:00:00', '2013-01-01 05:00:00',\n               '2013-01-01 06:00:00', '2013-01-01 07:00:00',\n               '2013-01-01 08:00:00', '2013-01-01 09:00:00',\n               ...\n               '2016-12-31 14:00:00', '2016-12-31 15:00:00',\n               '2016-12-31 16:00:00', '2016-12-31 17:00:00',\n               '2016-12-31 18:00:00', '2016-12-31 19:00:00',\n               '2016-12-31 20:00:00', '2016-12-31 21:00:00',\n               '2016-12-31 22:00:00', '2016-12-31 23:00:00'],\n              dtype='datetime64[ns]', name='datetime', length=35064, freq=None)"
     },
     "execution_count": 24,
     "metadata": {},
     "output_type": "execute_result"
    }
   ],
   "source": [
    "temp.index"
   ]
  },
  {
   "cell_type": "code",
   "execution_count": 25,
   "metadata": {},
   "outputs": [
    {
     "data": {
      "text/plain": "Timestamp('2013-01-01 00:00:00')"
     },
     "execution_count": 25,
     "metadata": {},
     "output_type": "execute_result"
    }
   ],
   "source": [
    "temp.index[0]"
   ]
  },
  {
   "cell_type": "code",
   "execution_count": null,
   "metadata": {},
   "outputs": [],
   "source": []
  },
  {
   "cell_type": "markdown",
   "metadata": {},
   "source": [
    "## Converting strings to datetime objects with pd.to_datetime()"
   ]
  },
  {
   "cell_type": "code",
   "execution_count": 26,
   "metadata": {},
   "outputs": [],
   "source": [
    "import pandas as pd"
   ]
  },
  {
   "cell_type": "code",
   "execution_count": 38,
   "metadata": {},
   "outputs": [],
   "source": [
    "temp = pd.read_csv(\"temp.csv\")"
   ]
  },
  {
   "cell_type": "code",
   "execution_count": 28,
   "metadata": {},
   "outputs": [
    {
     "data": {
      "text/plain": "              datetime    LA   NY\n0  2013-01-01 00:00:00  11.7 -1.1\n1  2013-01-01 01:00:00  10.7 -1.7\n2  2013-01-01 02:00:00   9.9 -2.0\n3  2013-01-01 03:00:00   9.3 -2.1\n4  2013-01-01 04:00:00   8.8 -2.3",
      "text/html": "<div>\n<style scoped>\n    .dataframe tbody tr th:only-of-type {\n        vertical-align: middle;\n    }\n\n    .dataframe tbody tr th {\n        vertical-align: top;\n    }\n\n    .dataframe thead th {\n        text-align: right;\n    }\n</style>\n<table border=\"1\" class=\"dataframe\">\n  <thead>\n    <tr style=\"text-align: right;\">\n      <th></th>\n      <th>datetime</th>\n      <th>LA</th>\n      <th>NY</th>\n    </tr>\n  </thead>\n  <tbody>\n    <tr>\n      <th>0</th>\n      <td>2013-01-01 00:00:00</td>\n      <td>11.7</td>\n      <td>-1.1</td>\n    </tr>\n    <tr>\n      <th>1</th>\n      <td>2013-01-01 01:00:00</td>\n      <td>10.7</td>\n      <td>-1.7</td>\n    </tr>\n    <tr>\n      <th>2</th>\n      <td>2013-01-01 02:00:00</td>\n      <td>9.9</td>\n      <td>-2.0</td>\n    </tr>\n    <tr>\n      <th>3</th>\n      <td>2013-01-01 03:00:00</td>\n      <td>9.3</td>\n      <td>-2.1</td>\n    </tr>\n    <tr>\n      <th>4</th>\n      <td>2013-01-01 04:00:00</td>\n      <td>8.8</td>\n      <td>-2.3</td>\n    </tr>\n  </tbody>\n</table>\n</div>"
     },
     "execution_count": 28,
     "metadata": {},
     "output_type": "execute_result"
    }
   ],
   "source": [
    "temp.head()"
   ]
  },
  {
   "cell_type": "code",
   "execution_count": 29,
   "metadata": {},
   "outputs": [
    {
     "name": "stdout",
     "output_type": "stream",
     "text": [
      "<class 'pandas.core.frame.DataFrame'>\n",
      "RangeIndex: 35064 entries, 0 to 35063\n",
      "Data columns (total 3 columns):\n",
      " #   Column    Non-Null Count  Dtype  \n",
      "---  ------    --------------  -----  \n",
      " 0   datetime  35064 non-null  object \n",
      " 1   LA        35062 non-null  float64\n",
      " 2   NY        35064 non-null  float64\n",
      "dtypes: float64(2), object(1)\n",
      "memory usage: 821.9+ KB\n"
     ]
    }
   ],
   "source": [
    "temp.info()"
   ]
  },
  {
   "cell_type": "code",
   "execution_count": 31,
   "metadata": {
    "scrolled": true
   },
   "outputs": [
    {
     "data": {
      "text/plain": "0        2013-01-01 00:00:00\n1        2013-01-01 01:00:00\n2        2013-01-01 02:00:00\n3        2013-01-01 03:00:00\n4        2013-01-01 04:00:00\n                ...         \n35059    2016-12-31 19:00:00\n35060    2016-12-31 20:00:00\n35061    2016-12-31 21:00:00\n35062    2016-12-31 22:00:00\n35063    2016-12-31 23:00:00\nName: datetime, Length: 35064, dtype: object"
     },
     "execution_count": 31,
     "metadata": {},
     "output_type": "execute_result"
    }
   ],
   "source": [
    "temp.datetime # object"
   ]
  },
  {
   "cell_type": "code",
   "execution_count": 32,
   "metadata": {
    "scrolled": true
   },
   "outputs": [
    {
     "data": {
      "text/plain": "0       2013-01-01 00:00:00\n1       2013-01-01 01:00:00\n2       2013-01-01 02:00:00\n3       2013-01-01 03:00:00\n4       2013-01-01 04:00:00\n                ...        \n35059   2016-12-31 19:00:00\n35060   2016-12-31 20:00:00\n35061   2016-12-31 21:00:00\n35062   2016-12-31 22:00:00\n35063   2016-12-31 23:00:00\nName: datetime, Length: 35064, dtype: datetime64[ns]"
     },
     "execution_count": 32,
     "metadata": {},
     "output_type": "execute_result"
    }
   ],
   "source": [
    "pd.to_datetime(temp.datetime) # datetime64"
   ]
  },
  {
   "cell_type": "code",
   "execution_count": 41,
   "metadata": {
    "scrolled": true
   },
   "outputs": [
    {
     "data": {
      "text/plain": "                                datetime    LA   NY\ndatetime                                           \n2013-01-01 00:00:00  2013-01-01 00:00:00  11.7 -1.1\n2013-01-01 01:00:00  2013-01-01 01:00:00  10.7 -1.7\n2013-01-01 02:00:00  2013-01-01 02:00:00   9.9 -2.0\n2013-01-01 03:00:00  2013-01-01 03:00:00   9.3 -2.1\n2013-01-01 04:00:00  2013-01-01 04:00:00   8.8 -2.3",
      "text/html": "<div>\n<style scoped>\n    .dataframe tbody tr th:only-of-type {\n        vertical-align: middle;\n    }\n\n    .dataframe tbody tr th {\n        vertical-align: top;\n    }\n\n    .dataframe thead th {\n        text-align: right;\n    }\n</style>\n<table border=\"1\" class=\"dataframe\">\n  <thead>\n    <tr style=\"text-align: right;\">\n      <th></th>\n      <th>datetime</th>\n      <th>LA</th>\n      <th>NY</th>\n    </tr>\n    <tr>\n      <th>datetime</th>\n      <th></th>\n      <th></th>\n      <th></th>\n    </tr>\n  </thead>\n  <tbody>\n    <tr>\n      <th>2013-01-01 00:00:00</th>\n      <td>2013-01-01 00:00:00</td>\n      <td>11.7</td>\n      <td>-1.1</td>\n    </tr>\n    <tr>\n      <th>2013-01-01 01:00:00</th>\n      <td>2013-01-01 01:00:00</td>\n      <td>10.7</td>\n      <td>-1.7</td>\n    </tr>\n    <tr>\n      <th>2013-01-01 02:00:00</th>\n      <td>2013-01-01 02:00:00</td>\n      <td>9.9</td>\n      <td>-2.0</td>\n    </tr>\n    <tr>\n      <th>2013-01-01 03:00:00</th>\n      <td>2013-01-01 03:00:00</td>\n      <td>9.3</td>\n      <td>-2.1</td>\n    </tr>\n    <tr>\n      <th>2013-01-01 04:00:00</th>\n      <td>2013-01-01 04:00:00</td>\n      <td>8.8</td>\n      <td>-2.3</td>\n    </tr>\n  </tbody>\n</table>\n</div>"
     },
     "execution_count": 41,
     "metadata": {},
     "output_type": "execute_result"
    }
   ],
   "source": [
    "temp = temp.set_index(pd.to_datetime(temp.datetime))#.drop(\"datetime\", axis = 1)\n",
    "temp.head()"
   ]
  },
  {
   "cell_type": "code",
   "execution_count": 42,
   "metadata": {},
   "outputs": [
    {
     "data": {
      "text/plain": "                       LA   NY\ndatetime                      \n2013-01-01 00:00:00  11.7 -1.1\n2013-01-01 01:00:00  10.7 -1.7\n2013-01-01 02:00:00   9.9 -2.0\n2013-01-01 03:00:00   9.3 -2.1\n2013-01-01 04:00:00   8.8 -2.3",
      "text/html": "<div>\n<style scoped>\n    .dataframe tbody tr th:only-of-type {\n        vertical-align: middle;\n    }\n\n    .dataframe tbody tr th {\n        vertical-align: top;\n    }\n\n    .dataframe thead th {\n        text-align: right;\n    }\n</style>\n<table border=\"1\" class=\"dataframe\">\n  <thead>\n    <tr style=\"text-align: right;\">\n      <th></th>\n      <th>LA</th>\n      <th>NY</th>\n    </tr>\n    <tr>\n      <th>datetime</th>\n      <th></th>\n      <th></th>\n    </tr>\n  </thead>\n  <tbody>\n    <tr>\n      <th>2013-01-01 00:00:00</th>\n      <td>11.7</td>\n      <td>-1.1</td>\n    </tr>\n    <tr>\n      <th>2013-01-01 01:00:00</th>\n      <td>10.7</td>\n      <td>-1.7</td>\n    </tr>\n    <tr>\n      <th>2013-01-01 02:00:00</th>\n      <td>9.9</td>\n      <td>-2.0</td>\n    </tr>\n    <tr>\n      <th>2013-01-01 03:00:00</th>\n      <td>9.3</td>\n      <td>-2.1</td>\n    </tr>\n    <tr>\n      <th>2013-01-01 04:00:00</th>\n      <td>8.8</td>\n      <td>-2.3</td>\n    </tr>\n  </tbody>\n</table>\n</div>"
     },
     "execution_count": 42,
     "metadata": {},
     "output_type": "execute_result"
    }
   ],
   "source": [
    "temp = temp.set_index(pd.to_datetime(temp.datetime)).drop(\"datetime\", axis = 1)\n",
    "temp.head()"
   ]
  },
  {
   "cell_type": "code",
   "execution_count": 43,
   "metadata": {},
   "outputs": [
    {
     "name": "stdout",
     "output_type": "stream",
     "text": [
      "<class 'pandas.core.frame.DataFrame'>\n",
      "DatetimeIndex: 35064 entries, 2013-01-01 00:00:00 to 2016-12-31 23:00:00\n",
      "Data columns (total 2 columns):\n",
      " #   Column  Non-Null Count  Dtype  \n",
      "---  ------  --------------  -----  \n",
      " 0   LA      35062 non-null  float64\n",
      " 1   NY      35064 non-null  float64\n",
      "dtypes: float64(2)\n",
      "memory usage: 821.8 KB\n"
     ]
    }
   ],
   "source": [
    "temp.info()"
   ]
  },
  {
   "cell_type": "code",
   "execution_count": 44,
   "metadata": {},
   "outputs": [
    {
     "data": {
      "text/plain": "Timestamp('2013-01-01 00:00:00')"
     },
     "execution_count": 44,
     "metadata": {},
     "output_type": "execute_result"
    }
   ],
   "source": [
    "temp.index[0]"
   ]
  },
  {
   "cell_type": "code",
   "execution_count": 45,
   "metadata": {},
   "outputs": [
    {
     "data": {
      "text/plain": "Timestamp('2015-05-20 10:30:20')"
     },
     "execution_count": 45,
     "metadata": {},
     "output_type": "execute_result"
    }
   ],
   "source": [
    "pd.to_datetime(\"2015-05-20 10:30:20\")"
   ]
  },
  {
   "cell_type": "code",
   "execution_count": 46,
   "metadata": {},
   "outputs": [
    {
     "data": {
      "text/plain": "Timestamp('2015-05-20 00:00:00')"
     },
     "execution_count": 46,
     "metadata": {},
     "output_type": "execute_result"
    }
   ],
   "source": [
    "pd.to_datetime(\"20150520\")"
   ]
  },
  {
   "cell_type": "code",
   "execution_count": 47,
   "metadata": {},
   "outputs": [
    {
     "data": {
      "text/plain": "Timestamp('2015-05-20 00:00:00')"
     },
     "execution_count": 47,
     "metadata": {},
     "output_type": "execute_result"
    }
   ],
   "source": [
    "pd.to_datetime(\"2015/05/20\")"
   ]
  },
  {
   "cell_type": "code",
   "execution_count": 48,
   "metadata": {},
   "outputs": [
    {
     "data": {
      "text/plain": "Timestamp('2015-05-20 00:00:00')"
     },
     "execution_count": 48,
     "metadata": {},
     "output_type": "execute_result"
    }
   ],
   "source": [
    "pd.to_datetime(\"2015 05 20\")"
   ]
  },
  {
   "cell_type": "code",
   "execution_count": 49,
   "metadata": {
    "scrolled": true
   },
   "outputs": [],
   "source": [
    "#pd.to_datetime(\"2015-20-05\")"
   ]
  },
  {
   "cell_type": "code",
   "execution_count": 50,
   "metadata": {},
   "outputs": [
    {
     "data": {
      "text/plain": "Timestamp('2015-05-20 00:00:00')"
     },
     "execution_count": 50,
     "metadata": {},
     "output_type": "execute_result"
    }
   ],
   "source": [
    "pd.to_datetime(\"2015 May 20\")"
   ]
  },
  {
   "cell_type": "code",
   "execution_count": 51,
   "metadata": {},
   "outputs": [
    {
     "data": {
      "text/plain": "Timestamp('2015-05-20 00:00:00')"
     },
     "execution_count": 51,
     "metadata": {},
     "output_type": "execute_result"
    }
   ],
   "source": [
    "pd.to_datetime(\"May 2015 20\")"
   ]
  },
  {
   "cell_type": "code",
   "execution_count": 52,
   "metadata": {},
   "outputs": [
    {
     "data": {
      "text/plain": "Timestamp('2015-05-20 00:00:00')"
     },
     "execution_count": 52,
     "metadata": {},
     "output_type": "execute_result"
    }
   ],
   "source": [
    "pd.to_datetime(\"2015 20th may\")"
   ]
  },
  {
   "cell_type": "code",
   "execution_count": 53,
   "metadata": {},
   "outputs": [
    {
     "data": {
      "text/plain": "DatetimeIndex(['2015-05-20', '2015-02-20'], dtype='datetime64[ns]', freq=None)"
     },
     "execution_count": 53,
     "metadata": {},
     "output_type": "execute_result"
    }
   ],
   "source": [
    "pd.to_datetime([\"2015-05-20\", \"Feb 20 2015\"])"
   ]
  },
  {
   "cell_type": "code",
   "execution_count": 54,
   "metadata": {
    "scrolled": true
   },
   "outputs": [
    {
     "data": {
      "text/plain": "DatetimeIndex(['2015-05-20', '2015-02-20', 'NaT'], dtype='datetime64[ns]', freq=None)"
     },
     "execution_count": 54,
     "metadata": {},
     "output_type": "execute_result"
    }
   ],
   "source": [
    "pd.to_datetime([\"2015-05-20\", \"Feb 20 2015\", \"Elephant\"], errors=\"coerce\")"
   ]
  },
  {
   "cell_type": "code",
   "execution_count": null,
   "metadata": {},
   "outputs": [],
   "source": []
  },
  {
   "cell_type": "markdown",
   "metadata": {},
   "source": [
    "## Indexing and Slicing Time Series"
   ]
  },
  {
   "cell_type": "code",
   "execution_count": 55,
   "metadata": {},
   "outputs": [],
   "source": [
    "import pandas as pd"
   ]
  },
  {
   "cell_type": "code",
   "execution_count": 56,
   "metadata": {},
   "outputs": [],
   "source": [
    "temp = pd.read_csv(\"temp.csv\", parse_dates= [\"datetime\"], index_col= \"datetime\")"
   ]
  },
  {
   "cell_type": "code",
   "execution_count": 59,
   "metadata": {},
   "outputs": [
    {
     "data": {
      "text/plain": "                       LA   NY\ndatetime                      \n2013-01-01 00:00:00  11.7 -1.1\n2013-01-01 01:00:00  10.7 -1.7\n2013-01-01 02:00:00   9.9 -2.0\n2013-01-01 03:00:00   9.3 -2.1\n2013-01-01 04:00:00   8.8 -2.3",
      "text/html": "<div>\n<style scoped>\n    .dataframe tbody tr th:only-of-type {\n        vertical-align: middle;\n    }\n\n    .dataframe tbody tr th {\n        vertical-align: top;\n    }\n\n    .dataframe thead th {\n        text-align: right;\n    }\n</style>\n<table border=\"1\" class=\"dataframe\">\n  <thead>\n    <tr style=\"text-align: right;\">\n      <th></th>\n      <th>LA</th>\n      <th>NY</th>\n    </tr>\n    <tr>\n      <th>datetime</th>\n      <th></th>\n      <th></th>\n    </tr>\n  </thead>\n  <tbody>\n    <tr>\n      <th>2013-01-01 00:00:00</th>\n      <td>11.7</td>\n      <td>-1.1</td>\n    </tr>\n    <tr>\n      <th>2013-01-01 01:00:00</th>\n      <td>10.7</td>\n      <td>-1.7</td>\n    </tr>\n    <tr>\n      <th>2013-01-01 02:00:00</th>\n      <td>9.9</td>\n      <td>-2.0</td>\n    </tr>\n    <tr>\n      <th>2013-01-01 03:00:00</th>\n      <td>9.3</td>\n      <td>-2.1</td>\n    </tr>\n    <tr>\n      <th>2013-01-01 04:00:00</th>\n      <td>8.8</td>\n      <td>-2.3</td>\n    </tr>\n  </tbody>\n</table>\n</div>"
     },
     "execution_count": 59,
     "metadata": {},
     "output_type": "execute_result"
    }
   ],
   "source": [
    "temp.head()"
   ]
  },
  {
   "cell_type": "code",
   "execution_count": 61,
   "metadata": {},
   "outputs": [
    {
     "data": {
      "text/plain": "pandas.core.indexes.datetimes.DatetimeIndex"
     },
     "execution_count": 61,
     "metadata": {},
     "output_type": "execute_result"
    }
   ],
   "source": [
    "type(temp.index)"
   ]
  },
  {
   "cell_type": "code",
   "execution_count": 62,
   "metadata": {},
   "outputs": [
    {
     "data": {
      "text/plain": "LA    10.7\nNY    -1.7\nName: 2013-01-01 01:00:00, dtype: float64"
     },
     "execution_count": 62,
     "metadata": {},
     "output_type": "execute_result"
    }
   ],
   "source": [
    "temp.loc[\"2013-01-01 01:00:00\"]"
   ]
  },
  {
   "cell_type": "code",
   "execution_count": 63,
   "metadata": {
    "scrolled": true
   },
   "outputs": [
    {
     "data": {
      "text/plain": "                       LA   NY\ndatetime                      \n2015-01-01 00:00:00   3.8 -5.1\n2015-01-01 01:00:00   4.4 -5.1\n2015-01-01 02:00:00   3.2 -6.0\n2015-01-01 03:00:00   1.2 -6.0\n2015-01-01 04:00:00   0.2 -6.0\n...                   ...  ...\n2015-12-31 19:00:00  16.0  8.1\n2015-12-31 20:00:00  16.0  8.1\n2015-12-31 21:00:00  16.4  7.9\n2015-12-31 22:00:00  16.6  7.2\n2015-12-31 23:00:00  16.8  6.2\n\n[8760 rows x 2 columns]",
      "text/html": "<div>\n<style scoped>\n    .dataframe tbody tr th:only-of-type {\n        vertical-align: middle;\n    }\n\n    .dataframe tbody tr th {\n        vertical-align: top;\n    }\n\n    .dataframe thead th {\n        text-align: right;\n    }\n</style>\n<table border=\"1\" class=\"dataframe\">\n  <thead>\n    <tr style=\"text-align: right;\">\n      <th></th>\n      <th>LA</th>\n      <th>NY</th>\n    </tr>\n    <tr>\n      <th>datetime</th>\n      <th></th>\n      <th></th>\n    </tr>\n  </thead>\n  <tbody>\n    <tr>\n      <th>2015-01-01 00:00:00</th>\n      <td>3.8</td>\n      <td>-5.1</td>\n    </tr>\n    <tr>\n      <th>2015-01-01 01:00:00</th>\n      <td>4.4</td>\n      <td>-5.1</td>\n    </tr>\n    <tr>\n      <th>2015-01-01 02:00:00</th>\n      <td>3.2</td>\n      <td>-6.0</td>\n    </tr>\n    <tr>\n      <th>2015-01-01 03:00:00</th>\n      <td>1.2</td>\n      <td>-6.0</td>\n    </tr>\n    <tr>\n      <th>2015-01-01 04:00:00</th>\n      <td>0.2</td>\n      <td>-6.0</td>\n    </tr>\n    <tr>\n      <th>...</th>\n      <td>...</td>\n      <td>...</td>\n    </tr>\n    <tr>\n      <th>2015-12-31 19:00:00</th>\n      <td>16.0</td>\n      <td>8.1</td>\n    </tr>\n    <tr>\n      <th>2015-12-31 20:00:00</th>\n      <td>16.0</td>\n      <td>8.1</td>\n    </tr>\n    <tr>\n      <th>2015-12-31 21:00:00</th>\n      <td>16.4</td>\n      <td>7.9</td>\n    </tr>\n    <tr>\n      <th>2015-12-31 22:00:00</th>\n      <td>16.6</td>\n      <td>7.2</td>\n    </tr>\n    <tr>\n      <th>2015-12-31 23:00:00</th>\n      <td>16.8</td>\n      <td>6.2</td>\n    </tr>\n  </tbody>\n</table>\n<p>8760 rows × 2 columns</p>\n</div>"
     },
     "execution_count": 63,
     "metadata": {},
     "output_type": "execute_result"
    }
   ],
   "source": [
    "temp.loc[\"2015\"] # 2015년 전부를 slicing"
   ]
  },
  {
   "cell_type": "code",
   "execution_count": 64,
   "metadata": {
    "scrolled": true
   },
   "outputs": [
    {
     "data": {
      "text/plain": "                       LA    NY\ndatetime                       \n2015-05-01 00:00:00  25.5  13.9\n2015-05-01 01:00:00  25.7  13.9\n2015-05-01 02:00:00  23.8  10.5\n2015-05-01 03:00:00  22.0  10.2\n2015-05-01 04:00:00  20.1   8.6\n...                   ...   ...\n2015-05-31 19:00:00  25.4  25.5\n2015-05-31 20:00:00  26.0  23.9\n2015-05-31 21:00:00  24.9  22.5\n2015-05-31 22:00:00  26.0  21.3\n2015-05-31 23:00:00  25.5  19.9\n\n[744 rows x 2 columns]",
      "text/html": "<div>\n<style scoped>\n    .dataframe tbody tr th:only-of-type {\n        vertical-align: middle;\n    }\n\n    .dataframe tbody tr th {\n        vertical-align: top;\n    }\n\n    .dataframe thead th {\n        text-align: right;\n    }\n</style>\n<table border=\"1\" class=\"dataframe\">\n  <thead>\n    <tr style=\"text-align: right;\">\n      <th></th>\n      <th>LA</th>\n      <th>NY</th>\n    </tr>\n    <tr>\n      <th>datetime</th>\n      <th></th>\n      <th></th>\n    </tr>\n  </thead>\n  <tbody>\n    <tr>\n      <th>2015-05-01 00:00:00</th>\n      <td>25.5</td>\n      <td>13.9</td>\n    </tr>\n    <tr>\n      <th>2015-05-01 01:00:00</th>\n      <td>25.7</td>\n      <td>13.9</td>\n    </tr>\n    <tr>\n      <th>2015-05-01 02:00:00</th>\n      <td>23.8</td>\n      <td>10.5</td>\n    </tr>\n    <tr>\n      <th>2015-05-01 03:00:00</th>\n      <td>22.0</td>\n      <td>10.2</td>\n    </tr>\n    <tr>\n      <th>2015-05-01 04:00:00</th>\n      <td>20.1</td>\n      <td>8.6</td>\n    </tr>\n    <tr>\n      <th>...</th>\n      <td>...</td>\n      <td>...</td>\n    </tr>\n    <tr>\n      <th>2015-05-31 19:00:00</th>\n      <td>25.4</td>\n      <td>25.5</td>\n    </tr>\n    <tr>\n      <th>2015-05-31 20:00:00</th>\n      <td>26.0</td>\n      <td>23.9</td>\n    </tr>\n    <tr>\n      <th>2015-05-31 21:00:00</th>\n      <td>24.9</td>\n      <td>22.5</td>\n    </tr>\n    <tr>\n      <th>2015-05-31 22:00:00</th>\n      <td>26.0</td>\n      <td>21.3</td>\n    </tr>\n    <tr>\n      <th>2015-05-31 23:00:00</th>\n      <td>25.5</td>\n      <td>19.9</td>\n    </tr>\n  </tbody>\n</table>\n<p>744 rows × 2 columns</p>\n</div>"
     },
     "execution_count": 64,
     "metadata": {},
     "output_type": "execute_result"
    }
   ],
   "source": [
    "temp.loc[\"2015-05\"]"
   ]
  },
  {
   "cell_type": "code",
   "execution_count": 65,
   "metadata": {
    "scrolled": true
   },
   "outputs": [
    {
     "data": {
      "text/plain": "(24, 2)"
     },
     "execution_count": 65,
     "metadata": {},
     "output_type": "execute_result"
    }
   ],
   "source": [
    "temp.loc[\"2015-05-20\"].shape"
   ]
  },
  {
   "cell_type": "code",
   "execution_count": 66,
   "metadata": {},
   "outputs": [
    {
     "data": {
      "text/plain": "LA     7.8\nNY    13.3\nName: 2015-05-20 10:00:00, dtype: float64"
     },
     "execution_count": 66,
     "metadata": {},
     "output_type": "execute_result"
    }
   ],
   "source": [
    "temp.loc[\"2015-05-20 10:00:00\"]"
   ]
  },
  {
   "cell_type": "code",
   "execution_count": 71,
   "metadata": {
    "scrolled": true
   },
   "outputs": [
    {
     "name": "stdout",
     "output_type": "stream",
     "text": [
      "Unexpected exception formatting exception. Falling back to standard exception\n"
     ]
    },
    {
     "name": "stderr",
     "output_type": "stream",
     "text": [
      "Traceback (most recent call last):\n",
      "  File \"pandas/_libs/index.pyx\", line 548, in pandas._libs.index.DatetimeEngine.get_loc\n",
      "  File \"pandas/_libs/hashtable_class_helper.pxi\", line 2263, in pandas._libs.hashtable.Int64HashTable.get_item\n",
      "  File \"pandas/_libs/hashtable_class_helper.pxi\", line 2273, in pandas._libs.hashtable.Int64HashTable.get_item\n",
      "KeyError: 1432116600000000000\n",
      "\n",
      "During handling of the above exception, another exception occurred:\n",
      "\n",
      "Traceback (most recent call last):\n",
      "  File \"/Users/minkyuramen/Desktop/kubig_financial/venv/lib/python3.10/site-packages/pandas/core/indexes/base.py\", line 3802, in get_loc\n",
      "    return self._engine.get_loc(casted_key)\n",
      "  File \"pandas/_libs/index.pyx\", line 516, in pandas._libs.index.DatetimeEngine.get_loc\n",
      "  File \"pandas/_libs/index.pyx\", line 550, in pandas._libs.index.DatetimeEngine.get_loc\n",
      "KeyError: Timestamp('2015-05-20 10:10:00')\n",
      "\n",
      "The above exception was the direct cause of the following exception:\n",
      "\n",
      "Traceback (most recent call last):\n",
      "  File \"/Users/minkyuramen/Desktop/kubig_financial/venv/lib/python3.10/site-packages/pandas/core/indexes/datetimes.py\", line 736, in get_loc\n",
      "    return Index.get_loc(self, key, method, tolerance)\n",
      "  File \"/Users/minkyuramen/Desktop/kubig_financial/venv/lib/python3.10/site-packages/pandas/core/indexes/base.py\", line 3804, in get_loc\n",
      "    raise KeyError(key) from err\n",
      "KeyError: Timestamp('2015-05-20 10:10:00')\n",
      "\n",
      "The above exception was the direct cause of the following exception:\n",
      "\n",
      "Traceback (most recent call last):\n",
      "  File \"/Users/minkyuramen/Desktop/kubig_financial/venv/lib/python3.10/site-packages/IPython/core/interactiveshell.py\", line 3460, in run_code\n",
      "    exec(code_obj, self.user_global_ns, self.user_ns)\n",
      "  File \"/var/folders/k8/xm42xp_16cs6fgtvp6ymr9l40000gn/T/ipykernel_18818/693642299.py\", line 1, in <module>\n",
      "    temp.loc[\"2015-05-20 10:10:00\"]\n",
      "  File \"/Users/minkyuramen/Desktop/kubig_financial/venv/lib/python3.10/site-packages/pandas/core/indexing.py\", line 1073, in __getitem__\n",
      "    return self._getitem_axis(maybe_callable, axis=axis)\n",
      "  File \"/Users/minkyuramen/Desktop/kubig_financial/venv/lib/python3.10/site-packages/pandas/core/indexing.py\", line 1312, in _getitem_axis\n",
      "    return self._get_label(key, axis=axis)\n",
      "  File \"/Users/minkyuramen/Desktop/kubig_financial/venv/lib/python3.10/site-packages/pandas/core/indexing.py\", line 1260, in _get_label\n",
      "    return self.obj.xs(label, axis=axis)\n",
      "  File \"/Users/minkyuramen/Desktop/kubig_financial/venv/lib/python3.10/site-packages/pandas/core/generic.py\", line 4056, in xs\n",
      "    loc = index.get_loc(key)\n",
      "  File \"/Users/minkyuramen/Desktop/kubig_financial/venv/lib/python3.10/site-packages/pandas/core/indexes/datetimes.py\", line 738, in get_loc\n",
      "    raise KeyError(orig_key) from err\n",
      "KeyError: '2015-05-20 10:10:00'\n",
      "\n",
      "During handling of the above exception, another exception occurred:\n",
      "\n",
      "Traceback (most recent call last):\n",
      "  File \"/Users/minkyuramen/Desktop/kubig_financial/venv/lib/python3.10/site-packages/IPython/core/interactiveshell.py\", line 2057, in showtraceback\n",
      "    stb = self.InteractiveTB.structured_traceback(\n",
      "  File \"/Users/minkyuramen/Desktop/kubig_financial/venv/lib/python3.10/site-packages/IPython/core/ultratb.py\", line 1288, in structured_traceback\n",
      "    return FormattedTB.structured_traceback(\n",
      "  File \"/Users/minkyuramen/Desktop/kubig_financial/venv/lib/python3.10/site-packages/IPython/core/ultratb.py\", line 1177, in structured_traceback\n",
      "    return VerboseTB.structured_traceback(\n",
      "  File \"/Users/minkyuramen/Desktop/kubig_financial/venv/lib/python3.10/site-packages/IPython/core/ultratb.py\", line 1049, in structured_traceback\n",
      "    formatted_exceptions += self.format_exception_as_a_whole(etype, evalue, etb, lines_of_context,\n",
      "  File \"/Users/minkyuramen/Desktop/kubig_financial/venv/lib/python3.10/site-packages/IPython/core/ultratb.py\", line 935, in format_exception_as_a_whole\n",
      "    self.get_records(etb, number_of_lines_of_context, tb_offset) if etb else []\n",
      "  File \"/Users/minkyuramen/Desktop/kubig_financial/venv/lib/python3.10/site-packages/IPython/core/ultratb.py\", line 1003, in get_records\n",
      "    lines, first = inspect.getsourcelines(etb.tb_frame)\n",
      "  File \"/Library/Frameworks/Python.framework/Versions/3.10/lib/python3.10/inspect.py\", line 1129, in getsourcelines\n",
      "    lines, lnum = findsource(object)\n",
      "  File \"/Library/Frameworks/Python.framework/Versions/3.10/lib/python3.10/inspect.py\", line 958, in findsource\n",
      "    raise OSError('could not get source code')\n",
      "OSError: could not get source code\n"
     ]
    }
   ],
   "source": [
    "temp.loc[\"2015-05-20 10:10:00\"] # 해당 정보가 dataframe안에 없다."
   ]
  },
  {
   "cell_type": "code",
   "execution_count": 70,
   "metadata": {
    "scrolled": true
   },
   "outputs": [
    {
     "data": {
      "text/plain": "                       LA   NY\ndatetime                      \n2015-01-01 00:00:00   3.8 -5.1\n2015-01-01 01:00:00   4.4 -5.1\n2015-01-01 02:00:00   3.2 -6.0\n2015-01-01 03:00:00   1.2 -6.0\n2015-01-01 04:00:00   0.2 -6.0\n...                   ...  ...\n2015-12-31 19:00:00  16.0  8.1\n2015-12-31 20:00:00  16.0  8.1\n2015-12-31 21:00:00  16.4  7.9\n2015-12-31 22:00:00  16.6  7.2\n2015-12-31 23:00:00  16.8  6.2\n\n[8760 rows x 2 columns]",
      "text/html": "<div>\n<style scoped>\n    .dataframe tbody tr th:only-of-type {\n        vertical-align: middle;\n    }\n\n    .dataframe tbody tr th {\n        vertical-align: top;\n    }\n\n    .dataframe thead th {\n        text-align: right;\n    }\n</style>\n<table border=\"1\" class=\"dataframe\">\n  <thead>\n    <tr style=\"text-align: right;\">\n      <th></th>\n      <th>LA</th>\n      <th>NY</th>\n    </tr>\n    <tr>\n      <th>datetime</th>\n      <th></th>\n      <th></th>\n    </tr>\n  </thead>\n  <tbody>\n    <tr>\n      <th>2015-01-01 00:00:00</th>\n      <td>3.8</td>\n      <td>-5.1</td>\n    </tr>\n    <tr>\n      <th>2015-01-01 01:00:00</th>\n      <td>4.4</td>\n      <td>-5.1</td>\n    </tr>\n    <tr>\n      <th>2015-01-01 02:00:00</th>\n      <td>3.2</td>\n      <td>-6.0</td>\n    </tr>\n    <tr>\n      <th>2015-01-01 03:00:00</th>\n      <td>1.2</td>\n      <td>-6.0</td>\n    </tr>\n    <tr>\n      <th>2015-01-01 04:00:00</th>\n      <td>0.2</td>\n      <td>-6.0</td>\n    </tr>\n    <tr>\n      <th>...</th>\n      <td>...</td>\n      <td>...</td>\n    </tr>\n    <tr>\n      <th>2015-12-31 19:00:00</th>\n      <td>16.0</td>\n      <td>8.1</td>\n    </tr>\n    <tr>\n      <th>2015-12-31 20:00:00</th>\n      <td>16.0</td>\n      <td>8.1</td>\n    </tr>\n    <tr>\n      <th>2015-12-31 21:00:00</th>\n      <td>16.4</td>\n      <td>7.9</td>\n    </tr>\n    <tr>\n      <th>2015-12-31 22:00:00</th>\n      <td>16.6</td>\n      <td>7.2</td>\n    </tr>\n    <tr>\n      <th>2015-12-31 23:00:00</th>\n      <td>16.8</td>\n      <td>6.2</td>\n    </tr>\n  </tbody>\n</table>\n<p>8760 rows × 2 columns</p>\n</div>"
     },
     "execution_count": 70,
     "metadata": {},
     "output_type": "execute_result"
    }
   ],
   "source": [
    "temp.loc[\"2015-01-01\" : \"2015-12-31\"]"
   ]
  },
  {
   "cell_type": "code",
   "execution_count": 72,
   "metadata": {},
   "outputs": [
    {
     "data": {
      "text/plain": "True"
     },
     "execution_count": 72,
     "metadata": {},
     "output_type": "execute_result"
    }
   ],
   "source": [
    "temp.loc[\"2015-01-01\" : \"2015-12-31\"].equals(temp.loc[\"2015\"])"
   ]
  },
  {
   "cell_type": "code",
   "execution_count": 73,
   "metadata": {
    "scrolled": true
   },
   "outputs": [
    {
     "data": {
      "text/plain": "                       LA    NY\ndatetime                       \n2015-04-15 00:00:00  19.1  12.8\n2015-04-15 01:00:00  20.0  12.0\n2015-04-15 02:00:00  17.7  11.3\n2015-04-15 03:00:00  15.5  11.2\n2015-04-15 04:00:00  13.3  10.4\n...                   ...   ...\n2016-02-23 19:00:00  23.4   2.6\n2016-02-23 20:00:00  23.4   2.2\n2016-02-23 21:00:00  26.8   2.2\n2016-02-23 22:00:00  26.8   2.0\n2016-02-23 23:00:00  26.8   2.3\n\n[7560 rows x 2 columns]",
      "text/html": "<div>\n<style scoped>\n    .dataframe tbody tr th:only-of-type {\n        vertical-align: middle;\n    }\n\n    .dataframe tbody tr th {\n        vertical-align: top;\n    }\n\n    .dataframe thead th {\n        text-align: right;\n    }\n</style>\n<table border=\"1\" class=\"dataframe\">\n  <thead>\n    <tr style=\"text-align: right;\">\n      <th></th>\n      <th>LA</th>\n      <th>NY</th>\n    </tr>\n    <tr>\n      <th>datetime</th>\n      <th></th>\n      <th></th>\n    </tr>\n  </thead>\n  <tbody>\n    <tr>\n      <th>2015-04-15 00:00:00</th>\n      <td>19.1</td>\n      <td>12.8</td>\n    </tr>\n    <tr>\n      <th>2015-04-15 01:00:00</th>\n      <td>20.0</td>\n      <td>12.0</td>\n    </tr>\n    <tr>\n      <th>2015-04-15 02:00:00</th>\n      <td>17.7</td>\n      <td>11.3</td>\n    </tr>\n    <tr>\n      <th>2015-04-15 03:00:00</th>\n      <td>15.5</td>\n      <td>11.2</td>\n    </tr>\n    <tr>\n      <th>2015-04-15 04:00:00</th>\n      <td>13.3</td>\n      <td>10.4</td>\n    </tr>\n    <tr>\n      <th>...</th>\n      <td>...</td>\n      <td>...</td>\n    </tr>\n    <tr>\n      <th>2016-02-23 19:00:00</th>\n      <td>23.4</td>\n      <td>2.6</td>\n    </tr>\n    <tr>\n      <th>2016-02-23 20:00:00</th>\n      <td>23.4</td>\n      <td>2.2</td>\n    </tr>\n    <tr>\n      <th>2016-02-23 21:00:00</th>\n      <td>26.8</td>\n      <td>2.2</td>\n    </tr>\n    <tr>\n      <th>2016-02-23 22:00:00</th>\n      <td>26.8</td>\n      <td>2.0</td>\n    </tr>\n    <tr>\n      <th>2016-02-23 23:00:00</th>\n      <td>26.8</td>\n      <td>2.3</td>\n    </tr>\n  </tbody>\n</table>\n<p>7560 rows × 2 columns</p>\n</div>"
     },
     "execution_count": 73,
     "metadata": {},
     "output_type": "execute_result"
    }
   ],
   "source": [
    "temp.loc[\"2015-04-15\" : \"2016-02-23\"]"
   ]
  },
  {
   "cell_type": "code",
   "execution_count": 74,
   "metadata": {
    "scrolled": true
   },
   "outputs": [
    {
     "data": {
      "text/plain": "                       LA    NY\ndatetime                       \n2015-05-20 00:00:00  17.7  19.8\n2015-05-20 01:00:00  18.0  19.7\n2015-05-20 02:00:00  16.6  19.0\n2015-05-20 03:00:00  14.4  19.0\n2015-05-20 04:00:00  13.3  19.7\n...                   ...   ...\n2016-12-31 19:00:00  13.5   4.6\n2016-12-31 20:00:00  13.2   5.7\n2016-12-31 21:00:00  12.8   5.8\n2016-12-31 22:00:00  12.3   5.7\n2016-12-31 23:00:00  11.9   5.5\n\n[14208 rows x 2 columns]",
      "text/html": "<div>\n<style scoped>\n    .dataframe tbody tr th:only-of-type {\n        vertical-align: middle;\n    }\n\n    .dataframe tbody tr th {\n        vertical-align: top;\n    }\n\n    .dataframe thead th {\n        text-align: right;\n    }\n</style>\n<table border=\"1\" class=\"dataframe\">\n  <thead>\n    <tr style=\"text-align: right;\">\n      <th></th>\n      <th>LA</th>\n      <th>NY</th>\n    </tr>\n    <tr>\n      <th>datetime</th>\n      <th></th>\n      <th></th>\n    </tr>\n  </thead>\n  <tbody>\n    <tr>\n      <th>2015-05-20 00:00:00</th>\n      <td>17.7</td>\n      <td>19.8</td>\n    </tr>\n    <tr>\n      <th>2015-05-20 01:00:00</th>\n      <td>18.0</td>\n      <td>19.7</td>\n    </tr>\n    <tr>\n      <th>2015-05-20 02:00:00</th>\n      <td>16.6</td>\n      <td>19.0</td>\n    </tr>\n    <tr>\n      <th>2015-05-20 03:00:00</th>\n      <td>14.4</td>\n      <td>19.0</td>\n    </tr>\n    <tr>\n      <th>2015-05-20 04:00:00</th>\n      <td>13.3</td>\n      <td>19.7</td>\n    </tr>\n    <tr>\n      <th>...</th>\n      <td>...</td>\n      <td>...</td>\n    </tr>\n    <tr>\n      <th>2016-12-31 19:00:00</th>\n      <td>13.5</td>\n      <td>4.6</td>\n    </tr>\n    <tr>\n      <th>2016-12-31 20:00:00</th>\n      <td>13.2</td>\n      <td>5.7</td>\n    </tr>\n    <tr>\n      <th>2016-12-31 21:00:00</th>\n      <td>12.8</td>\n      <td>5.8</td>\n    </tr>\n    <tr>\n      <th>2016-12-31 22:00:00</th>\n      <td>12.3</td>\n      <td>5.7</td>\n    </tr>\n    <tr>\n      <th>2016-12-31 23:00:00</th>\n      <td>11.9</td>\n      <td>5.5</td>\n    </tr>\n  </tbody>\n</table>\n<p>14208 rows × 2 columns</p>\n</div>"
     },
     "execution_count": 74,
     "metadata": {},
     "output_type": "execute_result"
    }
   ],
   "source": [
    "temp.loc[\"2015-05-20\":]"
   ]
  },
  {
   "cell_type": "code",
   "execution_count": 75,
   "metadata": {
    "scrolled": true
   },
   "outputs": [
    {
     "data": {
      "text/plain": "                       LA    NY\ndatetime                       \n2013-01-01 00:00:00  11.7  -1.1\n2013-01-01 01:00:00  10.7  -1.7\n2013-01-01 02:00:00   9.9  -2.0\n2013-01-01 03:00:00   9.3  -2.1\n2013-01-01 04:00:00   8.8  -2.3\n...                   ...   ...\n2015-05-20 19:00:00  17.7  18.1\n2015-05-20 20:00:00  18.4  17.8\n2015-05-20 21:00:00  18.0  17.8\n2015-05-20 22:00:00  19.1  14.2\n2015-05-20 23:00:00  19.1  14.2\n\n[20880 rows x 2 columns]",
      "text/html": "<div>\n<style scoped>\n    .dataframe tbody tr th:only-of-type {\n        vertical-align: middle;\n    }\n\n    .dataframe tbody tr th {\n        vertical-align: top;\n    }\n\n    .dataframe thead th {\n        text-align: right;\n    }\n</style>\n<table border=\"1\" class=\"dataframe\">\n  <thead>\n    <tr style=\"text-align: right;\">\n      <th></th>\n      <th>LA</th>\n      <th>NY</th>\n    </tr>\n    <tr>\n      <th>datetime</th>\n      <th></th>\n      <th></th>\n    </tr>\n  </thead>\n  <tbody>\n    <tr>\n      <th>2013-01-01 00:00:00</th>\n      <td>11.7</td>\n      <td>-1.1</td>\n    </tr>\n    <tr>\n      <th>2013-01-01 01:00:00</th>\n      <td>10.7</td>\n      <td>-1.7</td>\n    </tr>\n    <tr>\n      <th>2013-01-01 02:00:00</th>\n      <td>9.9</td>\n      <td>-2.0</td>\n    </tr>\n    <tr>\n      <th>2013-01-01 03:00:00</th>\n      <td>9.3</td>\n      <td>-2.1</td>\n    </tr>\n    <tr>\n      <th>2013-01-01 04:00:00</th>\n      <td>8.8</td>\n      <td>-2.3</td>\n    </tr>\n    <tr>\n      <th>...</th>\n      <td>...</td>\n      <td>...</td>\n    </tr>\n    <tr>\n      <th>2015-05-20 19:00:00</th>\n      <td>17.7</td>\n      <td>18.1</td>\n    </tr>\n    <tr>\n      <th>2015-05-20 20:00:00</th>\n      <td>18.4</td>\n      <td>17.8</td>\n    </tr>\n    <tr>\n      <th>2015-05-20 21:00:00</th>\n      <td>18.0</td>\n      <td>17.8</td>\n    </tr>\n    <tr>\n      <th>2015-05-20 22:00:00</th>\n      <td>19.1</td>\n      <td>14.2</td>\n    </tr>\n    <tr>\n      <th>2015-05-20 23:00:00</th>\n      <td>19.1</td>\n      <td>14.2</td>\n    </tr>\n  </tbody>\n</table>\n<p>20880 rows × 2 columns</p>\n</div>"
     },
     "execution_count": 75,
     "metadata": {},
     "output_type": "execute_result"
    }
   ],
   "source": [
    "temp.loc[:\"2015-05-20\"]"
   ]
  },
  {
   "cell_type": "code",
   "execution_count": 76,
   "metadata": {},
   "outputs": [
    {
     "data": {
      "text/plain": "                       LA    NY\ndatetime                       \n2015-02-20 00:00:00  16.4 -12.4\n2015-02-20 01:00:00  17.5 -12.4\n2015-02-20 02:00:00  14.6 -14.5\n2015-02-20 03:00:00  13.9 -14.5\n2015-02-20 04:00:00  10.3 -14.5\n2015-02-20 05:00:00   8.9 -15.9\n2015-02-20 06:00:00   9.0 -15.9\n2015-02-20 07:00:00   7.1 -15.9\n2015-02-20 08:00:00   6.6 -16.8\n2015-02-20 09:00:00   6.3 -16.8\n2015-02-20 10:00:00   5.8 -16.8\n2015-02-20 11:00:00   5.5 -17.4\n2015-02-20 12:00:00   5.8 -17.4\n2015-02-20 13:00:00   5.2 -17.4\n2015-02-20 14:00:00   5.3 -14.0\n2015-02-20 15:00:00  10.5 -14.2\n2015-02-20 16:00:00   8.9 -14.0\n2015-02-20 17:00:00  12.4 -10.4\n2015-02-20 18:00:00  12.0 -10.2\n2015-02-20 19:00:00  16.8  -9.9\n2015-02-20 20:00:00  17.7  -9.3\n2015-02-20 21:00:00  17.2  -9.3\n2015-02-20 22:00:00  18.5  -9.3\n2015-02-20 23:00:00  18.5 -14.0",
      "text/html": "<div>\n<style scoped>\n    .dataframe tbody tr th:only-of-type {\n        vertical-align: middle;\n    }\n\n    .dataframe tbody tr th {\n        vertical-align: top;\n    }\n\n    .dataframe thead th {\n        text-align: right;\n    }\n</style>\n<table border=\"1\" class=\"dataframe\">\n  <thead>\n    <tr style=\"text-align: right;\">\n      <th></th>\n      <th>LA</th>\n      <th>NY</th>\n    </tr>\n    <tr>\n      <th>datetime</th>\n      <th></th>\n      <th></th>\n    </tr>\n  </thead>\n  <tbody>\n    <tr>\n      <th>2015-02-20 00:00:00</th>\n      <td>16.4</td>\n      <td>-12.4</td>\n    </tr>\n    <tr>\n      <th>2015-02-20 01:00:00</th>\n      <td>17.5</td>\n      <td>-12.4</td>\n    </tr>\n    <tr>\n      <th>2015-02-20 02:00:00</th>\n      <td>14.6</td>\n      <td>-14.5</td>\n    </tr>\n    <tr>\n      <th>2015-02-20 03:00:00</th>\n      <td>13.9</td>\n      <td>-14.5</td>\n    </tr>\n    <tr>\n      <th>2015-02-20 04:00:00</th>\n      <td>10.3</td>\n      <td>-14.5</td>\n    </tr>\n    <tr>\n      <th>2015-02-20 05:00:00</th>\n      <td>8.9</td>\n      <td>-15.9</td>\n    </tr>\n    <tr>\n      <th>2015-02-20 06:00:00</th>\n      <td>9.0</td>\n      <td>-15.9</td>\n    </tr>\n    <tr>\n      <th>2015-02-20 07:00:00</th>\n      <td>7.1</td>\n      <td>-15.9</td>\n    </tr>\n    <tr>\n      <th>2015-02-20 08:00:00</th>\n      <td>6.6</td>\n      <td>-16.8</td>\n    </tr>\n    <tr>\n      <th>2015-02-20 09:00:00</th>\n      <td>6.3</td>\n      <td>-16.8</td>\n    </tr>\n    <tr>\n      <th>2015-02-20 10:00:00</th>\n      <td>5.8</td>\n      <td>-16.8</td>\n    </tr>\n    <tr>\n      <th>2015-02-20 11:00:00</th>\n      <td>5.5</td>\n      <td>-17.4</td>\n    </tr>\n    <tr>\n      <th>2015-02-20 12:00:00</th>\n      <td>5.8</td>\n      <td>-17.4</td>\n    </tr>\n    <tr>\n      <th>2015-02-20 13:00:00</th>\n      <td>5.2</td>\n      <td>-17.4</td>\n    </tr>\n    <tr>\n      <th>2015-02-20 14:00:00</th>\n      <td>5.3</td>\n      <td>-14.0</td>\n    </tr>\n    <tr>\n      <th>2015-02-20 15:00:00</th>\n      <td>10.5</td>\n      <td>-14.2</td>\n    </tr>\n    <tr>\n      <th>2015-02-20 16:00:00</th>\n      <td>8.9</td>\n      <td>-14.0</td>\n    </tr>\n    <tr>\n      <th>2015-02-20 17:00:00</th>\n      <td>12.4</td>\n      <td>-10.4</td>\n    </tr>\n    <tr>\n      <th>2015-02-20 18:00:00</th>\n      <td>12.0</td>\n      <td>-10.2</td>\n    </tr>\n    <tr>\n      <th>2015-02-20 19:00:00</th>\n      <td>16.8</td>\n      <td>-9.9</td>\n    </tr>\n    <tr>\n      <th>2015-02-20 20:00:00</th>\n      <td>17.7</td>\n      <td>-9.3</td>\n    </tr>\n    <tr>\n      <th>2015-02-20 21:00:00</th>\n      <td>17.2</td>\n      <td>-9.3</td>\n    </tr>\n    <tr>\n      <th>2015-02-20 22:00:00</th>\n      <td>18.5</td>\n      <td>-9.3</td>\n    </tr>\n    <tr>\n      <th>2015-02-20 23:00:00</th>\n      <td>18.5</td>\n      <td>-14.0</td>\n    </tr>\n  </tbody>\n</table>\n</div>"
     },
     "execution_count": 76,
     "metadata": {},
     "output_type": "execute_result"
    }
   ],
   "source": [
    "temp.loc[\"20FEBRUARY2015\"]"
   ]
  },
  {
   "cell_type": "code",
   "execution_count": 80,
   "metadata": {
    "scrolled": true
   },
   "outputs": [
    {
     "data": {
      "text/plain": "                      LA    NY\ndatetime                      \n2015-05-20 10:00:00  7.8  13.3\n2015-05-20 12:00:00  9.7  13.6",
      "text/html": "<div>\n<style scoped>\n    .dataframe tbody tr th:only-of-type {\n        vertical-align: middle;\n    }\n\n    .dataframe tbody tr th {\n        vertical-align: top;\n    }\n\n    .dataframe thead th {\n        text-align: right;\n    }\n</style>\n<table border=\"1\" class=\"dataframe\">\n  <thead>\n    <tr style=\"text-align: right;\">\n      <th></th>\n      <th>LA</th>\n      <th>NY</th>\n    </tr>\n    <tr>\n      <th>datetime</th>\n      <th></th>\n      <th></th>\n    </tr>\n  </thead>\n  <tbody>\n    <tr>\n      <th>2015-05-20 10:00:00</th>\n      <td>7.8</td>\n      <td>13.3</td>\n    </tr>\n    <tr>\n      <th>2015-05-20 12:00:00</th>\n      <td>9.7</td>\n      <td>13.6</td>\n    </tr>\n  </tbody>\n</table>\n</div>"
     },
     "execution_count": 80,
     "metadata": {},
     "output_type": "execute_result"
    }
   ],
   "source": [
    "temp.loc[[\"2015-05-20 10:00:00\", \"2015-05-20 12:00:00\"]] # 두개 tuple slicing"
   ]
  },
  {
   "cell_type": "code",
   "execution_count": 81,
   "metadata": {},
   "outputs": [
    {
     "data": {
      "text/plain": "DatetimeIndex(['2015-05-20 10:00:00', '2015-05-20 12:00:00'], dtype='datetime64[ns]', freq=None)"
     },
     "execution_count": 81,
     "metadata": {},
     "output_type": "execute_result"
    }
   ],
   "source": [
    "two_timestamps = pd.to_datetime([\"2015-05-20 10:00:00\", \"2015-05-20 12:00:00\"])\n",
    "two_timestamps"
   ]
  },
  {
   "cell_type": "code",
   "execution_count": 82,
   "metadata": {},
   "outputs": [
    {
     "data": {
      "text/plain": "                      LA    NY\n2015-05-20 10:00:00  7.8  13.3\n2015-05-20 12:00:00  9.7  13.6",
      "text/html": "<div>\n<style scoped>\n    .dataframe tbody tr th:only-of-type {\n        vertical-align: middle;\n    }\n\n    .dataframe tbody tr th {\n        vertical-align: top;\n    }\n\n    .dataframe thead th {\n        text-align: right;\n    }\n</style>\n<table border=\"1\" class=\"dataframe\">\n  <thead>\n    <tr style=\"text-align: right;\">\n      <th></th>\n      <th>LA</th>\n      <th>NY</th>\n    </tr>\n  </thead>\n  <tbody>\n    <tr>\n      <th>2015-05-20 10:00:00</th>\n      <td>7.8</td>\n      <td>13.3</td>\n    </tr>\n    <tr>\n      <th>2015-05-20 12:00:00</th>\n      <td>9.7</td>\n      <td>13.6</td>\n    </tr>\n  </tbody>\n</table>\n</div>"
     },
     "execution_count": 82,
     "metadata": {},
     "output_type": "execute_result"
    }
   ],
   "source": [
    "temp.loc[two_timestamps]"
   ]
  },
  {
   "cell_type": "code",
   "execution_count": null,
   "metadata": {},
   "outputs": [],
   "source": []
  },
  {
   "cell_type": "markdown",
   "metadata": {},
   "source": [
    "## Downsampling Time Series with resample()"
   ]
  },
  {
   "cell_type": "code",
   "execution_count": 84,
   "metadata": {},
   "outputs": [
    {
     "name": "stderr",
     "output_type": "stream",
     "text": [
      "/var/folders/k8/xm42xp_16cs6fgtvp6ymr9l40000gn/T/ipykernel_18818/430243705.py:3: MatplotlibDeprecationWarning: The seaborn styles shipped by Matplotlib are deprecated since 3.6, as they no longer correspond to the styles shipped by seaborn. However, they will remain available as 'seaborn-v0_8-<style>'. Alternatively, directly use the seaborn API instead.\n",
      "  plt.style.use(\"seaborn\")\n"
     ]
    }
   ],
   "source": [
    "import pandas as pd\n",
    "import matplotlib.pyplot as plt\n",
    "plt.style.use(\"seaborn\")"
   ]
  },
  {
   "cell_type": "code",
   "execution_count": 85,
   "metadata": {},
   "outputs": [],
   "source": [
    "temp = pd.read_csv(\"temp.csv\", parse_dates= [\"datetime\"], index_col = \"datetime\")"
   ]
  },
  {
   "cell_type": "code",
   "execution_count": 86,
   "metadata": {},
   "outputs": [
    {
     "data": {
      "text/plain": "                       LA   NY\ndatetime                      \n2013-01-01 00:00:00  11.7 -1.1\n2013-01-01 01:00:00  10.7 -1.7\n2013-01-01 02:00:00   9.9 -2.0\n2013-01-01 03:00:00   9.3 -2.1\n2013-01-01 04:00:00   8.8 -2.3",
      "text/html": "<div>\n<style scoped>\n    .dataframe tbody tr th:only-of-type {\n        vertical-align: middle;\n    }\n\n    .dataframe tbody tr th {\n        vertical-align: top;\n    }\n\n    .dataframe thead th {\n        text-align: right;\n    }\n</style>\n<table border=\"1\" class=\"dataframe\">\n  <thead>\n    <tr style=\"text-align: right;\">\n      <th></th>\n      <th>LA</th>\n      <th>NY</th>\n    </tr>\n    <tr>\n      <th>datetime</th>\n      <th></th>\n      <th></th>\n    </tr>\n  </thead>\n  <tbody>\n    <tr>\n      <th>2013-01-01 00:00:00</th>\n      <td>11.7</td>\n      <td>-1.1</td>\n    </tr>\n    <tr>\n      <th>2013-01-01 01:00:00</th>\n      <td>10.7</td>\n      <td>-1.7</td>\n    </tr>\n    <tr>\n      <th>2013-01-01 02:00:00</th>\n      <td>9.9</td>\n      <td>-2.0</td>\n    </tr>\n    <tr>\n      <th>2013-01-01 03:00:00</th>\n      <td>9.3</td>\n      <td>-2.1</td>\n    </tr>\n    <tr>\n      <th>2013-01-01 04:00:00</th>\n      <td>8.8</td>\n      <td>-2.3</td>\n    </tr>\n  </tbody>\n</table>\n</div>"
     },
     "execution_count": 86,
     "metadata": {},
     "output_type": "execute_result"
    }
   ],
   "source": [
    "temp.head()"
   ]
  },
  {
   "cell_type": "code",
   "execution_count": 87,
   "metadata": {},
   "outputs": [
    {
     "name": "stdout",
     "output_type": "stream",
     "text": [
      "<class 'pandas.core.frame.DataFrame'>\n",
      "DatetimeIndex: 35064 entries, 2013-01-01 00:00:00 to 2016-12-31 23:00:00\n",
      "Data columns (total 2 columns):\n",
      " #   Column  Non-Null Count  Dtype  \n",
      "---  ------  --------------  -----  \n",
      " 0   LA      35062 non-null  float64\n",
      " 1   NY      35064 non-null  float64\n",
      "dtypes: float64(2)\n",
      "memory usage: 821.8 KB\n"
     ]
    }
   ],
   "source": [
    "temp.info()"
   ]
  },
  {
   "cell_type": "code",
   "execution_count": 89,
   "outputs": [
    {
     "data": {
      "text/plain": "<pandas.core.resample.DatetimeIndexResampler object at 0x124761120>"
     },
     "execution_count": 89,
     "metadata": {},
     "output_type": "execute_result"
    }
   ],
   "source": [
    "temp.resample(\"D\") # Day로 묶어준다."
   ],
   "metadata": {
    "collapsed": false
   }
  },
  {
   "cell_type": "code",
   "execution_count": 102,
   "metadata": {
    "scrolled": true
   },
   "outputs": [
    {
     "data": {
      "text/plain": "                       LA   NY\ndatetime                      \n2013-01-01 00:00:00  11.7 -1.1\n2013-01-01 01:00:00  10.7 -1.7\n2013-01-01 02:00:00   9.9 -2.0\n2013-01-01 03:00:00   9.3 -2.1\n2013-01-01 04:00:00   8.8 -2.3\n2013-01-01 05:00:00   8.7 -2.5\n2013-01-01 06:00:00   6.9 -3.2\n2013-01-01 07:00:00   7.8 -3.4\n2013-01-01 08:00:00   6.7 -3.0\n2013-01-01 09:00:00   6.6 -1.8\n2013-01-01 10:00:00   6.1 -1.4\n2013-01-01 11:00:00   5.6 -1.8\n2013-01-01 12:00:00   5.1 -1.7\n2013-01-01 13:00:00   5.2 -1.5\n2013-01-01 14:00:00   4.6 -1.0\n2013-01-01 15:00:00   5.1 -0.0\n2013-01-01 16:00:00   6.2  1.2\n2013-01-01 17:00:00   9.3  2.2\n2013-01-01 18:00:00  11.4  3.3\n2013-01-01 19:00:00  12.0  3.5\n2013-01-01 20:00:00  12.9  3.1\n2013-01-01 21:00:00  13.9  2.4\n2013-01-01 22:00:00  14.1  2.4\n2013-01-01 23:00:00  14.0  2.7",
      "text/html": "<div>\n<style scoped>\n    .dataframe tbody tr th:only-of-type {\n        vertical-align: middle;\n    }\n\n    .dataframe tbody tr th {\n        vertical-align: top;\n    }\n\n    .dataframe thead th {\n        text-align: right;\n    }\n</style>\n<table border=\"1\" class=\"dataframe\">\n  <thead>\n    <tr style=\"text-align: right;\">\n      <th></th>\n      <th>LA</th>\n      <th>NY</th>\n    </tr>\n    <tr>\n      <th>datetime</th>\n      <th></th>\n      <th></th>\n    </tr>\n  </thead>\n  <tbody>\n    <tr>\n      <th>2013-01-01 00:00:00</th>\n      <td>11.7</td>\n      <td>-1.1</td>\n    </tr>\n    <tr>\n      <th>2013-01-01 01:00:00</th>\n      <td>10.7</td>\n      <td>-1.7</td>\n    </tr>\n    <tr>\n      <th>2013-01-01 02:00:00</th>\n      <td>9.9</td>\n      <td>-2.0</td>\n    </tr>\n    <tr>\n      <th>2013-01-01 03:00:00</th>\n      <td>9.3</td>\n      <td>-2.1</td>\n    </tr>\n    <tr>\n      <th>2013-01-01 04:00:00</th>\n      <td>8.8</td>\n      <td>-2.3</td>\n    </tr>\n    <tr>\n      <th>2013-01-01 05:00:00</th>\n      <td>8.7</td>\n      <td>-2.5</td>\n    </tr>\n    <tr>\n      <th>2013-01-01 06:00:00</th>\n      <td>6.9</td>\n      <td>-3.2</td>\n    </tr>\n    <tr>\n      <th>2013-01-01 07:00:00</th>\n      <td>7.8</td>\n      <td>-3.4</td>\n    </tr>\n    <tr>\n      <th>2013-01-01 08:00:00</th>\n      <td>6.7</td>\n      <td>-3.0</td>\n    </tr>\n    <tr>\n      <th>2013-01-01 09:00:00</th>\n      <td>6.6</td>\n      <td>-1.8</td>\n    </tr>\n    <tr>\n      <th>2013-01-01 10:00:00</th>\n      <td>6.1</td>\n      <td>-1.4</td>\n    </tr>\n    <tr>\n      <th>2013-01-01 11:00:00</th>\n      <td>5.6</td>\n      <td>-1.8</td>\n    </tr>\n    <tr>\n      <th>2013-01-01 12:00:00</th>\n      <td>5.1</td>\n      <td>-1.7</td>\n    </tr>\n    <tr>\n      <th>2013-01-01 13:00:00</th>\n      <td>5.2</td>\n      <td>-1.5</td>\n    </tr>\n    <tr>\n      <th>2013-01-01 14:00:00</th>\n      <td>4.6</td>\n      <td>-1.0</td>\n    </tr>\n    <tr>\n      <th>2013-01-01 15:00:00</th>\n      <td>5.1</td>\n      <td>-0.0</td>\n    </tr>\n    <tr>\n      <th>2013-01-01 16:00:00</th>\n      <td>6.2</td>\n      <td>1.2</td>\n    </tr>\n    <tr>\n      <th>2013-01-01 17:00:00</th>\n      <td>9.3</td>\n      <td>2.2</td>\n    </tr>\n    <tr>\n      <th>2013-01-01 18:00:00</th>\n      <td>11.4</td>\n      <td>3.3</td>\n    </tr>\n    <tr>\n      <th>2013-01-01 19:00:00</th>\n      <td>12.0</td>\n      <td>3.5</td>\n    </tr>\n    <tr>\n      <th>2013-01-01 20:00:00</th>\n      <td>12.9</td>\n      <td>3.1</td>\n    </tr>\n    <tr>\n      <th>2013-01-01 21:00:00</th>\n      <td>13.9</td>\n      <td>2.4</td>\n    </tr>\n    <tr>\n      <th>2013-01-01 22:00:00</th>\n      <td>14.1</td>\n      <td>2.4</td>\n    </tr>\n    <tr>\n      <th>2013-01-01 23:00:00</th>\n      <td>14.0</td>\n      <td>2.7</td>\n    </tr>\n  </tbody>\n</table>\n</div>"
     },
     "execution_count": 102,
     "metadata": {},
     "output_type": "execute_result"
    }
   ],
   "source": [
    "list(temp.resample(\"D\"))[0][1]"
   ]
  },
  {
   "cell_type": "code",
   "execution_count": 103,
   "metadata": {},
   "outputs": [
    {
     "data": {
      "text/plain": "                       LA   NY\ndatetime                      \n2013-01-02 00:00:00  13.2  2.6\n2013-01-02 01:00:00  11.8  2.7\n2013-01-02 02:00:00  10.5  2.9\n2013-01-02 03:00:00   9.5  2.9\n2013-01-02 04:00:00   8.3  2.9\n2013-01-02 05:00:00   8.0  3.5\n2013-01-02 06:00:00   7.5  3.7\n2013-01-02 07:00:00   7.1  3.5\n2013-01-02 08:00:00   6.4  3.7\n2013-01-02 09:00:00   6.0  3.6\n2013-01-02 10:00:00   5.9  3.5\n2013-01-02 11:00:00   6.1  3.6\n2013-01-02 12:00:00   5.8  3.5\n2013-01-02 13:00:00   5.6  3.5\n2013-01-02 14:00:00   5.8  3.7\n2013-01-02 15:00:00   5.9  4.0\n2013-01-02 16:00:00   6.4  4.0\n2013-01-02 17:00:00   9.0  3.6\n2013-01-02 18:00:00  11.5  3.1\n2013-01-02 19:00:00  13.3  3.2\n2013-01-02 20:00:00  14.2  3.2\n2013-01-02 21:00:00  15.0  2.9\n2013-01-02 22:00:00  14.9  2.0\n2013-01-02 23:00:00  15.1  1.2",
      "text/html": "<div>\n<style scoped>\n    .dataframe tbody tr th:only-of-type {\n        vertical-align: middle;\n    }\n\n    .dataframe tbody tr th {\n        vertical-align: top;\n    }\n\n    .dataframe thead th {\n        text-align: right;\n    }\n</style>\n<table border=\"1\" class=\"dataframe\">\n  <thead>\n    <tr style=\"text-align: right;\">\n      <th></th>\n      <th>LA</th>\n      <th>NY</th>\n    </tr>\n    <tr>\n      <th>datetime</th>\n      <th></th>\n      <th></th>\n    </tr>\n  </thead>\n  <tbody>\n    <tr>\n      <th>2013-01-02 00:00:00</th>\n      <td>13.2</td>\n      <td>2.6</td>\n    </tr>\n    <tr>\n      <th>2013-01-02 01:00:00</th>\n      <td>11.8</td>\n      <td>2.7</td>\n    </tr>\n    <tr>\n      <th>2013-01-02 02:00:00</th>\n      <td>10.5</td>\n      <td>2.9</td>\n    </tr>\n    <tr>\n      <th>2013-01-02 03:00:00</th>\n      <td>9.5</td>\n      <td>2.9</td>\n    </tr>\n    <tr>\n      <th>2013-01-02 04:00:00</th>\n      <td>8.3</td>\n      <td>2.9</td>\n    </tr>\n    <tr>\n      <th>2013-01-02 05:00:00</th>\n      <td>8.0</td>\n      <td>3.5</td>\n    </tr>\n    <tr>\n      <th>2013-01-02 06:00:00</th>\n      <td>7.5</td>\n      <td>3.7</td>\n    </tr>\n    <tr>\n      <th>2013-01-02 07:00:00</th>\n      <td>7.1</td>\n      <td>3.5</td>\n    </tr>\n    <tr>\n      <th>2013-01-02 08:00:00</th>\n      <td>6.4</td>\n      <td>3.7</td>\n    </tr>\n    <tr>\n      <th>2013-01-02 09:00:00</th>\n      <td>6.0</td>\n      <td>3.6</td>\n    </tr>\n    <tr>\n      <th>2013-01-02 10:00:00</th>\n      <td>5.9</td>\n      <td>3.5</td>\n    </tr>\n    <tr>\n      <th>2013-01-02 11:00:00</th>\n      <td>6.1</td>\n      <td>3.6</td>\n    </tr>\n    <tr>\n      <th>2013-01-02 12:00:00</th>\n      <td>5.8</td>\n      <td>3.5</td>\n    </tr>\n    <tr>\n      <th>2013-01-02 13:00:00</th>\n      <td>5.6</td>\n      <td>3.5</td>\n    </tr>\n    <tr>\n      <th>2013-01-02 14:00:00</th>\n      <td>5.8</td>\n      <td>3.7</td>\n    </tr>\n    <tr>\n      <th>2013-01-02 15:00:00</th>\n      <td>5.9</td>\n      <td>4.0</td>\n    </tr>\n    <tr>\n      <th>2013-01-02 16:00:00</th>\n      <td>6.4</td>\n      <td>4.0</td>\n    </tr>\n    <tr>\n      <th>2013-01-02 17:00:00</th>\n      <td>9.0</td>\n      <td>3.6</td>\n    </tr>\n    <tr>\n      <th>2013-01-02 18:00:00</th>\n      <td>11.5</td>\n      <td>3.1</td>\n    </tr>\n    <tr>\n      <th>2013-01-02 19:00:00</th>\n      <td>13.3</td>\n      <td>3.2</td>\n    </tr>\n    <tr>\n      <th>2013-01-02 20:00:00</th>\n      <td>14.2</td>\n      <td>3.2</td>\n    </tr>\n    <tr>\n      <th>2013-01-02 21:00:00</th>\n      <td>15.0</td>\n      <td>2.9</td>\n    </tr>\n    <tr>\n      <th>2013-01-02 22:00:00</th>\n      <td>14.9</td>\n      <td>2.0</td>\n    </tr>\n    <tr>\n      <th>2013-01-02 23:00:00</th>\n      <td>15.1</td>\n      <td>1.2</td>\n    </tr>\n  </tbody>\n</table>\n</div>"
     },
     "execution_count": 103,
     "metadata": {},
     "output_type": "execute_result"
    }
   ],
   "source": [
    "list(temp.resample(\"D\"))[1][1]"
   ]
  },
  {
   "cell_type": "code",
   "execution_count": 98,
   "metadata": {
    "scrolled": true
   },
   "outputs": [
    {
     "data": {
      "text/plain": "1461"
     },
     "execution_count": 98,
     "metadata": {},
     "output_type": "execute_result"
    }
   ],
   "source": [
    "len(list(temp.resample(\"D\")))"
   ]
  },
  {
   "cell_type": "code",
   "execution_count": 110,
   "outputs": [
    {
     "data": {
      "text/plain": "                   LA         NY\ndatetime                        \n2013-01-01   8.858333  -0.404167\n2013-01-02   9.283333   3.208333\n2013-01-03  10.304167  -2.425000\n2013-01-04  11.512500  -2.070833\n2013-01-05  11.083333   0.816667\n...               ...        ...\n2016-12-27  12.154167  10.579167\n2016-12-28  14.433333   4.016667\n2016-12-29  16.045833   1.312500\n2016-12-30  15.933333   2.204167\n2016-12-31  13.275000   1.204167\n\n[1461 rows x 2 columns]",
      "text/html": "<div>\n<style scoped>\n    .dataframe tbody tr th:only-of-type {\n        vertical-align: middle;\n    }\n\n    .dataframe tbody tr th {\n        vertical-align: top;\n    }\n\n    .dataframe thead th {\n        text-align: right;\n    }\n</style>\n<table border=\"1\" class=\"dataframe\">\n  <thead>\n    <tr style=\"text-align: right;\">\n      <th></th>\n      <th>LA</th>\n      <th>NY</th>\n    </tr>\n    <tr>\n      <th>datetime</th>\n      <th></th>\n      <th></th>\n    </tr>\n  </thead>\n  <tbody>\n    <tr>\n      <th>2013-01-01</th>\n      <td>8.858333</td>\n      <td>-0.404167</td>\n    </tr>\n    <tr>\n      <th>2013-01-02</th>\n      <td>9.283333</td>\n      <td>3.208333</td>\n    </tr>\n    <tr>\n      <th>2013-01-03</th>\n      <td>10.304167</td>\n      <td>-2.425000</td>\n    </tr>\n    <tr>\n      <th>2013-01-04</th>\n      <td>11.512500</td>\n      <td>-2.070833</td>\n    </tr>\n    <tr>\n      <th>2013-01-05</th>\n      <td>11.083333</td>\n      <td>0.816667</td>\n    </tr>\n    <tr>\n      <th>...</th>\n      <td>...</td>\n      <td>...</td>\n    </tr>\n    <tr>\n      <th>2016-12-27</th>\n      <td>12.154167</td>\n      <td>10.579167</td>\n    </tr>\n    <tr>\n      <th>2016-12-28</th>\n      <td>14.433333</td>\n      <td>4.016667</td>\n    </tr>\n    <tr>\n      <th>2016-12-29</th>\n      <td>16.045833</td>\n      <td>1.312500</td>\n    </tr>\n    <tr>\n      <th>2016-12-30</th>\n      <td>15.933333</td>\n      <td>2.204167</td>\n    </tr>\n    <tr>\n      <th>2016-12-31</th>\n      <td>13.275000</td>\n      <td>1.204167</td>\n    </tr>\n  </tbody>\n</table>\n<p>1461 rows × 2 columns</p>\n</div>"
     },
     "execution_count": 110,
     "metadata": {},
     "output_type": "execute_result"
    }
   ],
   "source": [
    "temp.resample(\"D\").mean() # Daily 기온 평균"
   ],
   "metadata": {
    "collapsed": false
   }
  },
  {
   "cell_type": "code",
   "execution_count": 111,
   "outputs": [
    {
     "data": {
      "text/plain": "              LA    NY\ndatetime              \n2013-01-01  11.7  -1.1\n2013-01-02  13.2   2.6\n2013-01-03  15.1   0.3\n2013-01-04  16.3  -1.2\n2013-01-05  18.1  -1.2\n...          ...   ...\n2016-12-27  15.1   4.1\n2016-12-28  19.9  11.2\n2016-12-29  23.3   2.1\n2016-12-30  25.5   3.0\n2016-12-31  15.7   0.8\n\n[1461 rows x 2 columns]",
      "text/html": "<div>\n<style scoped>\n    .dataframe tbody tr th:only-of-type {\n        vertical-align: middle;\n    }\n\n    .dataframe tbody tr th {\n        vertical-align: top;\n    }\n\n    .dataframe thead th {\n        text-align: right;\n    }\n</style>\n<table border=\"1\" class=\"dataframe\">\n  <thead>\n    <tr style=\"text-align: right;\">\n      <th></th>\n      <th>LA</th>\n      <th>NY</th>\n    </tr>\n    <tr>\n      <th>datetime</th>\n      <th></th>\n      <th></th>\n    </tr>\n  </thead>\n  <tbody>\n    <tr>\n      <th>2013-01-01</th>\n      <td>11.7</td>\n      <td>-1.1</td>\n    </tr>\n    <tr>\n      <th>2013-01-02</th>\n      <td>13.2</td>\n      <td>2.6</td>\n    </tr>\n    <tr>\n      <th>2013-01-03</th>\n      <td>15.1</td>\n      <td>0.3</td>\n    </tr>\n    <tr>\n      <th>2013-01-04</th>\n      <td>16.3</td>\n      <td>-1.2</td>\n    </tr>\n    <tr>\n      <th>2013-01-05</th>\n      <td>18.1</td>\n      <td>-1.2</td>\n    </tr>\n    <tr>\n      <th>...</th>\n      <td>...</td>\n      <td>...</td>\n    </tr>\n    <tr>\n      <th>2016-12-27</th>\n      <td>15.1</td>\n      <td>4.1</td>\n    </tr>\n    <tr>\n      <th>2016-12-28</th>\n      <td>19.9</td>\n      <td>11.2</td>\n    </tr>\n    <tr>\n      <th>2016-12-29</th>\n      <td>23.3</td>\n      <td>2.1</td>\n    </tr>\n    <tr>\n      <th>2016-12-30</th>\n      <td>25.5</td>\n      <td>3.0</td>\n    </tr>\n    <tr>\n      <th>2016-12-31</th>\n      <td>15.7</td>\n      <td>0.8</td>\n    </tr>\n  </tbody>\n</table>\n<p>1461 rows × 2 columns</p>\n</div>"
     },
     "execution_count": 111,
     "metadata": {},
     "output_type": "execute_result"
    }
   ],
   "source": [
    "temp.resample(\"D\").first() # Daily 첫 관측시점 기온"
   ],
   "metadata": {
    "collapsed": false
   }
  },
  {
   "cell_type": "code",
   "execution_count": 112,
   "metadata": {
    "scrolled": true
   },
   "outputs": [
    {
     "data": {
      "text/plain": "                       LA   NY\ndatetime                      \n2013-01-01 00:00:00  11.7 -1.1\n2013-01-01 02:00:00   9.9 -2.0\n2013-01-01 04:00:00   8.8 -2.3\n2013-01-01 06:00:00   6.9 -3.2\n2013-01-01 08:00:00   6.7 -3.0\n...                   ...  ...\n2016-12-31 14:00:00  12.7 -1.3\n2016-12-31 16:00:00  12.6  1.1\n2016-12-31 18:00:00  13.2  3.4\n2016-12-31 20:00:00  13.2  5.7\n2016-12-31 22:00:00  12.3  5.7\n\n[17532 rows x 2 columns]",
      "text/html": "<div>\n<style scoped>\n    .dataframe tbody tr th:only-of-type {\n        vertical-align: middle;\n    }\n\n    .dataframe tbody tr th {\n        vertical-align: top;\n    }\n\n    .dataframe thead th {\n        text-align: right;\n    }\n</style>\n<table border=\"1\" class=\"dataframe\">\n  <thead>\n    <tr style=\"text-align: right;\">\n      <th></th>\n      <th>LA</th>\n      <th>NY</th>\n    </tr>\n    <tr>\n      <th>datetime</th>\n      <th></th>\n      <th></th>\n    </tr>\n  </thead>\n  <tbody>\n    <tr>\n      <th>2013-01-01 00:00:00</th>\n      <td>11.7</td>\n      <td>-1.1</td>\n    </tr>\n    <tr>\n      <th>2013-01-01 02:00:00</th>\n      <td>9.9</td>\n      <td>-2.0</td>\n    </tr>\n    <tr>\n      <th>2013-01-01 04:00:00</th>\n      <td>8.8</td>\n      <td>-2.3</td>\n    </tr>\n    <tr>\n      <th>2013-01-01 06:00:00</th>\n      <td>6.9</td>\n      <td>-3.2</td>\n    </tr>\n    <tr>\n      <th>2013-01-01 08:00:00</th>\n      <td>6.7</td>\n      <td>-3.0</td>\n    </tr>\n    <tr>\n      <th>...</th>\n      <td>...</td>\n      <td>...</td>\n    </tr>\n    <tr>\n      <th>2016-12-31 14:00:00</th>\n      <td>12.7</td>\n      <td>-1.3</td>\n    </tr>\n    <tr>\n      <th>2016-12-31 16:00:00</th>\n      <td>12.6</td>\n      <td>1.1</td>\n    </tr>\n    <tr>\n      <th>2016-12-31 18:00:00</th>\n      <td>13.2</td>\n      <td>3.4</td>\n    </tr>\n    <tr>\n      <th>2016-12-31 20:00:00</th>\n      <td>13.2</td>\n      <td>5.7</td>\n    </tr>\n    <tr>\n      <th>2016-12-31 22:00:00</th>\n      <td>12.3</td>\n      <td>5.7</td>\n    </tr>\n  </tbody>\n</table>\n<p>17532 rows × 2 columns</p>\n</div>"
     },
     "execution_count": 112,
     "metadata": {},
     "output_type": "execute_result"
    }
   ],
   "source": [
    "temp.resample(\"2H\").first()"
   ]
  },
  {
   "cell_type": "code",
   "execution_count": 115,
   "metadata": {
    "scrolled": true
   },
   "outputs": [
    {
     "data": {
      "text/plain": "                   LA        NY\ndatetime                       \n2013-01-06  10.214583  0.222917\n2013-01-13  10.494048  4.245238\n2013-01-20  11.119643  3.924405\n2013-01-27  15.586905 -4.660714\n2013-02-03  11.569643  1.502381\n...               ...       ...\n2016-12-04  12.975595  8.024405\n2016-12-11  13.738095  1.922619\n2016-12-18  13.466667  0.052381\n2016-12-25  13.007143  1.149405\n2017-01-01  13.511806  3.479861\n\n[209 rows x 2 columns]",
      "text/html": "<div>\n<style scoped>\n    .dataframe tbody tr th:only-of-type {\n        vertical-align: middle;\n    }\n\n    .dataframe tbody tr th {\n        vertical-align: top;\n    }\n\n    .dataframe thead th {\n        text-align: right;\n    }\n</style>\n<table border=\"1\" class=\"dataframe\">\n  <thead>\n    <tr style=\"text-align: right;\">\n      <th></th>\n      <th>LA</th>\n      <th>NY</th>\n    </tr>\n    <tr>\n      <th>datetime</th>\n      <th></th>\n      <th></th>\n    </tr>\n  </thead>\n  <tbody>\n    <tr>\n      <th>2013-01-06</th>\n      <td>10.214583</td>\n      <td>0.222917</td>\n    </tr>\n    <tr>\n      <th>2013-01-13</th>\n      <td>10.494048</td>\n      <td>4.245238</td>\n    </tr>\n    <tr>\n      <th>2013-01-20</th>\n      <td>11.119643</td>\n      <td>3.924405</td>\n    </tr>\n    <tr>\n      <th>2013-01-27</th>\n      <td>15.586905</td>\n      <td>-4.660714</td>\n    </tr>\n    <tr>\n      <th>2013-02-03</th>\n      <td>11.569643</td>\n      <td>1.502381</td>\n    </tr>\n    <tr>\n      <th>...</th>\n      <td>...</td>\n      <td>...</td>\n    </tr>\n    <tr>\n      <th>2016-12-04</th>\n      <td>12.975595</td>\n      <td>8.024405</td>\n    </tr>\n    <tr>\n      <th>2016-12-11</th>\n      <td>13.738095</td>\n      <td>1.922619</td>\n    </tr>\n    <tr>\n      <th>2016-12-18</th>\n      <td>13.466667</td>\n      <td>0.052381</td>\n    </tr>\n    <tr>\n      <th>2016-12-25</th>\n      <td>13.007143</td>\n      <td>1.149405</td>\n    </tr>\n    <tr>\n      <th>2017-01-01</th>\n      <td>13.511806</td>\n      <td>3.479861</td>\n    </tr>\n  </tbody>\n</table>\n<p>209 rows × 2 columns</p>\n</div>"
     },
     "execution_count": 115,
     "metadata": {},
     "output_type": "execute_result"
    }
   ],
   "source": [
    "temp.resample(\"W\").mean() # weekly, 각주의 마지막 날이 일요일"
   ]
  },
  {
   "cell_type": "code",
   "execution_count": 114,
   "metadata": {
    "scrolled": true
   },
   "outputs": [
    {
     "data": {
      "text/plain": "                   LA        NY\ndatetime                       \n2013-01-02   9.070833  1.402083\n2013-01-09  11.033333  1.033929\n2013-01-16   8.870238  6.001190\n2013-01-23  14.678571  1.010714\n2013-01-30  12.554762 -4.382738\n...               ...       ...\n2016-12-07  13.205357  5.964286\n2016-12-14  14.490476  1.228571\n2016-12-21  13.209524 -2.248810\n2016-12-28  11.930357  4.688095\n2017-01-04  15.084722  1.573611\n\n[210 rows x 2 columns]",
      "text/html": "<div>\n<style scoped>\n    .dataframe tbody tr th:only-of-type {\n        vertical-align: middle;\n    }\n\n    .dataframe tbody tr th {\n        vertical-align: top;\n    }\n\n    .dataframe thead th {\n        text-align: right;\n    }\n</style>\n<table border=\"1\" class=\"dataframe\">\n  <thead>\n    <tr style=\"text-align: right;\">\n      <th></th>\n      <th>LA</th>\n      <th>NY</th>\n    </tr>\n    <tr>\n      <th>datetime</th>\n      <th></th>\n      <th></th>\n    </tr>\n  </thead>\n  <tbody>\n    <tr>\n      <th>2013-01-02</th>\n      <td>9.070833</td>\n      <td>1.402083</td>\n    </tr>\n    <tr>\n      <th>2013-01-09</th>\n      <td>11.033333</td>\n      <td>1.033929</td>\n    </tr>\n    <tr>\n      <th>2013-01-16</th>\n      <td>8.870238</td>\n      <td>6.001190</td>\n    </tr>\n    <tr>\n      <th>2013-01-23</th>\n      <td>14.678571</td>\n      <td>1.010714</td>\n    </tr>\n    <tr>\n      <th>2013-01-30</th>\n      <td>12.554762</td>\n      <td>-4.382738</td>\n    </tr>\n    <tr>\n      <th>...</th>\n      <td>...</td>\n      <td>...</td>\n    </tr>\n    <tr>\n      <th>2016-12-07</th>\n      <td>13.205357</td>\n      <td>5.964286</td>\n    </tr>\n    <tr>\n      <th>2016-12-14</th>\n      <td>14.490476</td>\n      <td>1.228571</td>\n    </tr>\n    <tr>\n      <th>2016-12-21</th>\n      <td>13.209524</td>\n      <td>-2.248810</td>\n    </tr>\n    <tr>\n      <th>2016-12-28</th>\n      <td>11.930357</td>\n      <td>4.688095</td>\n    </tr>\n    <tr>\n      <th>2017-01-04</th>\n      <td>15.084722</td>\n      <td>1.573611</td>\n    </tr>\n  </tbody>\n</table>\n<p>210 rows × 2 columns</p>\n</div>"
     },
     "execution_count": 114,
     "metadata": {},
     "output_type": "execute_result"
    }
   ],
   "source": [
    "temp.resample(\"W-Wed\").mean() # 각주의 마지막 날이 수요일"
   ]
  },
  {
   "cell_type": "code",
   "execution_count": 116,
   "metadata": {
    "scrolled": true
   },
   "outputs": [
    {
     "data": {
      "text/plain": "                   LA         NY\ndatetime                        \n2013-01-31  11.596237   1.129570\n2013-02-28  12.587202   0.617857\n2013-03-31  15.069946   3.719220\n2013-04-30  16.487361  10.699306\n2013-05-31  19.005780  15.824328\n2013-06-30  19.905417  22.225694\n2013-07-31  22.093952  26.329704\n2013-08-31  21.513172  22.480376\n2013-09-30  22.404861  18.291806\n2013-10-31  16.620430  14.335215\n2013-11-30  15.107917   7.111944\n2013-12-31  13.416935   2.776210\n2014-01-31  16.247715  -2.210349\n2014-02-28  14.326637  -1.596280\n2014-03-31  15.836156   1.994758\n2014-04-30  16.783472  10.128611\n2014-05-31  20.041398  16.829167\n2014-06-30  19.810556  21.784861\n2014-07-31  23.056183  24.019624\n2014-08-31  22.146102  21.848387\n2014-09-30  21.620278  19.267222\n2014-10-31  16.968280  14.265860\n2014-11-30  11.322083   5.719167\n2014-12-31   8.523925   3.513844\n2015-01-31   9.527016  -4.179301\n2015-02-28  11.587649  -7.239732\n2015-03-31  14.465995   1.020161\n2015-04-30  13.527917  10.180417\n2015-05-31  14.540054  18.731586\n2015-06-30  20.995000  20.347500\n2015-07-31  22.899059  24.252151\n2015-08-31  24.846909  24.046774\n2015-09-30  24.586250  21.589861\n2015-10-31  21.785753  12.656452\n2015-11-30  15.255278  10.117500\n2015-12-31  11.919758   8.662500\n2016-01-31  12.509274   0.168952\n2016-02-29  16.600431   2.069971\n2016-03-31  15.686425   8.070430\n2016-04-30  17.726111  10.535556\n2016-05-31  17.375403  15.874462\n2016-06-30  22.536111  21.462639\n2016-07-31  24.541532  24.767608\n2016-08-31  23.983199  25.351882\n2016-09-30  22.379306  21.032778\n2016-10-31  16.137903  14.321640\n2016-11-30  17.196111   8.539722\n2016-12-31  13.390457   2.327285",
      "text/html": "<div>\n<style scoped>\n    .dataframe tbody tr th:only-of-type {\n        vertical-align: middle;\n    }\n\n    .dataframe tbody tr th {\n        vertical-align: top;\n    }\n\n    .dataframe thead th {\n        text-align: right;\n    }\n</style>\n<table border=\"1\" class=\"dataframe\">\n  <thead>\n    <tr style=\"text-align: right;\">\n      <th></th>\n      <th>LA</th>\n      <th>NY</th>\n    </tr>\n    <tr>\n      <th>datetime</th>\n      <th></th>\n      <th></th>\n    </tr>\n  </thead>\n  <tbody>\n    <tr>\n      <th>2013-01-31</th>\n      <td>11.596237</td>\n      <td>1.129570</td>\n    </tr>\n    <tr>\n      <th>2013-02-28</th>\n      <td>12.587202</td>\n      <td>0.617857</td>\n    </tr>\n    <tr>\n      <th>2013-03-31</th>\n      <td>15.069946</td>\n      <td>3.719220</td>\n    </tr>\n    <tr>\n      <th>2013-04-30</th>\n      <td>16.487361</td>\n      <td>10.699306</td>\n    </tr>\n    <tr>\n      <th>2013-05-31</th>\n      <td>19.005780</td>\n      <td>15.824328</td>\n    </tr>\n    <tr>\n      <th>2013-06-30</th>\n      <td>19.905417</td>\n      <td>22.225694</td>\n    </tr>\n    <tr>\n      <th>2013-07-31</th>\n      <td>22.093952</td>\n      <td>26.329704</td>\n    </tr>\n    <tr>\n      <th>2013-08-31</th>\n      <td>21.513172</td>\n      <td>22.480376</td>\n    </tr>\n    <tr>\n      <th>2013-09-30</th>\n      <td>22.404861</td>\n      <td>18.291806</td>\n    </tr>\n    <tr>\n      <th>2013-10-31</th>\n      <td>16.620430</td>\n      <td>14.335215</td>\n    </tr>\n    <tr>\n      <th>2013-11-30</th>\n      <td>15.107917</td>\n      <td>7.111944</td>\n    </tr>\n    <tr>\n      <th>2013-12-31</th>\n      <td>13.416935</td>\n      <td>2.776210</td>\n    </tr>\n    <tr>\n      <th>2014-01-31</th>\n      <td>16.247715</td>\n      <td>-2.210349</td>\n    </tr>\n    <tr>\n      <th>2014-02-28</th>\n      <td>14.326637</td>\n      <td>-1.596280</td>\n    </tr>\n    <tr>\n      <th>2014-03-31</th>\n      <td>15.836156</td>\n      <td>1.994758</td>\n    </tr>\n    <tr>\n      <th>2014-04-30</th>\n      <td>16.783472</td>\n      <td>10.128611</td>\n    </tr>\n    <tr>\n      <th>2014-05-31</th>\n      <td>20.041398</td>\n      <td>16.829167</td>\n    </tr>\n    <tr>\n      <th>2014-06-30</th>\n      <td>19.810556</td>\n      <td>21.784861</td>\n    </tr>\n    <tr>\n      <th>2014-07-31</th>\n      <td>23.056183</td>\n      <td>24.019624</td>\n    </tr>\n    <tr>\n      <th>2014-08-31</th>\n      <td>22.146102</td>\n      <td>21.848387</td>\n    </tr>\n    <tr>\n      <th>2014-09-30</th>\n      <td>21.620278</td>\n      <td>19.267222</td>\n    </tr>\n    <tr>\n      <th>2014-10-31</th>\n      <td>16.968280</td>\n      <td>14.265860</td>\n    </tr>\n    <tr>\n      <th>2014-11-30</th>\n      <td>11.322083</td>\n      <td>5.719167</td>\n    </tr>\n    <tr>\n      <th>2014-12-31</th>\n      <td>8.523925</td>\n      <td>3.513844</td>\n    </tr>\n    <tr>\n      <th>2015-01-31</th>\n      <td>9.527016</td>\n      <td>-4.179301</td>\n    </tr>\n    <tr>\n      <th>2015-02-28</th>\n      <td>11.587649</td>\n      <td>-7.239732</td>\n    </tr>\n    <tr>\n      <th>2015-03-31</th>\n      <td>14.465995</td>\n      <td>1.020161</td>\n    </tr>\n    <tr>\n      <th>2015-04-30</th>\n      <td>13.527917</td>\n      <td>10.180417</td>\n    </tr>\n    <tr>\n      <th>2015-05-31</th>\n      <td>14.540054</td>\n      <td>18.731586</td>\n    </tr>\n    <tr>\n      <th>2015-06-30</th>\n      <td>20.995000</td>\n      <td>20.347500</td>\n    </tr>\n    <tr>\n      <th>2015-07-31</th>\n      <td>22.899059</td>\n      <td>24.252151</td>\n    </tr>\n    <tr>\n      <th>2015-08-31</th>\n      <td>24.846909</td>\n      <td>24.046774</td>\n    </tr>\n    <tr>\n      <th>2015-09-30</th>\n      <td>24.586250</td>\n      <td>21.589861</td>\n    </tr>\n    <tr>\n      <th>2015-10-31</th>\n      <td>21.785753</td>\n      <td>12.656452</td>\n    </tr>\n    <tr>\n      <th>2015-11-30</th>\n      <td>15.255278</td>\n      <td>10.117500</td>\n    </tr>\n    <tr>\n      <th>2015-12-31</th>\n      <td>11.919758</td>\n      <td>8.662500</td>\n    </tr>\n    <tr>\n      <th>2016-01-31</th>\n      <td>12.509274</td>\n      <td>0.168952</td>\n    </tr>\n    <tr>\n      <th>2016-02-29</th>\n      <td>16.600431</td>\n      <td>2.069971</td>\n    </tr>\n    <tr>\n      <th>2016-03-31</th>\n      <td>15.686425</td>\n      <td>8.070430</td>\n    </tr>\n    <tr>\n      <th>2016-04-30</th>\n      <td>17.726111</td>\n      <td>10.535556</td>\n    </tr>\n    <tr>\n      <th>2016-05-31</th>\n      <td>17.375403</td>\n      <td>15.874462</td>\n    </tr>\n    <tr>\n      <th>2016-06-30</th>\n      <td>22.536111</td>\n      <td>21.462639</td>\n    </tr>\n    <tr>\n      <th>2016-07-31</th>\n      <td>24.541532</td>\n      <td>24.767608</td>\n    </tr>\n    <tr>\n      <th>2016-08-31</th>\n      <td>23.983199</td>\n      <td>25.351882</td>\n    </tr>\n    <tr>\n      <th>2016-09-30</th>\n      <td>22.379306</td>\n      <td>21.032778</td>\n    </tr>\n    <tr>\n      <th>2016-10-31</th>\n      <td>16.137903</td>\n      <td>14.321640</td>\n    </tr>\n    <tr>\n      <th>2016-11-30</th>\n      <td>17.196111</td>\n      <td>8.539722</td>\n    </tr>\n    <tr>\n      <th>2016-12-31</th>\n      <td>13.390457</td>\n      <td>2.327285</td>\n    </tr>\n  </tbody>\n</table>\n</div>"
     },
     "execution_count": 116,
     "metadata": {},
     "output_type": "execute_result"
    }
   ],
   "source": [
    "temp.resample(\"M\").mean() # 각 월 마지막 날 평균"
   ]
  },
  {
   "cell_type": "code",
   "execution_count": 117,
   "metadata": {
    "scrolled": true
   },
   "outputs": [
    {
     "data": {
      "text/plain": "                   LA         NY\ndatetime                        \n2013-01-01  11.596237   1.129570\n2013-02-01  12.587202   0.617857\n2013-03-01  15.069946   3.719220\n2013-04-01  16.487361  10.699306\n2013-05-01  19.005780  15.824328\n2013-06-01  19.905417  22.225694\n2013-07-01  22.093952  26.329704\n2013-08-01  21.513172  22.480376\n2013-09-01  22.404861  18.291806\n2013-10-01  16.620430  14.335215\n2013-11-01  15.107917   7.111944\n2013-12-01  13.416935   2.776210\n2014-01-01  16.247715  -2.210349\n2014-02-01  14.326637  -1.596280\n2014-03-01  15.836156   1.994758\n2014-04-01  16.783472  10.128611\n2014-05-01  20.041398  16.829167\n2014-06-01  19.810556  21.784861\n2014-07-01  23.056183  24.019624\n2014-08-01  22.146102  21.848387\n2014-09-01  21.620278  19.267222\n2014-10-01  16.968280  14.265860\n2014-11-01  11.322083   5.719167\n2014-12-01   8.523925   3.513844\n2015-01-01   9.527016  -4.179301\n2015-02-01  11.587649  -7.239732\n2015-03-01  14.465995   1.020161\n2015-04-01  13.527917  10.180417\n2015-05-01  14.540054  18.731586\n2015-06-01  20.995000  20.347500\n2015-07-01  22.899059  24.252151\n2015-08-01  24.846909  24.046774\n2015-09-01  24.586250  21.589861\n2015-10-01  21.785753  12.656452\n2015-11-01  15.255278  10.117500\n2015-12-01  11.919758   8.662500\n2016-01-01  12.509274   0.168952\n2016-02-01  16.600431   2.069971\n2016-03-01  15.686425   8.070430\n2016-04-01  17.726111  10.535556\n2016-05-01  17.375403  15.874462\n2016-06-01  22.536111  21.462639\n2016-07-01  24.541532  24.767608\n2016-08-01  23.983199  25.351882\n2016-09-01  22.379306  21.032778\n2016-10-01  16.137903  14.321640\n2016-11-01  17.196111   8.539722\n2016-12-01  13.390457   2.327285",
      "text/html": "<div>\n<style scoped>\n    .dataframe tbody tr th:only-of-type {\n        vertical-align: middle;\n    }\n\n    .dataframe tbody tr th {\n        vertical-align: top;\n    }\n\n    .dataframe thead th {\n        text-align: right;\n    }\n</style>\n<table border=\"1\" class=\"dataframe\">\n  <thead>\n    <tr style=\"text-align: right;\">\n      <th></th>\n      <th>LA</th>\n      <th>NY</th>\n    </tr>\n    <tr>\n      <th>datetime</th>\n      <th></th>\n      <th></th>\n    </tr>\n  </thead>\n  <tbody>\n    <tr>\n      <th>2013-01-01</th>\n      <td>11.596237</td>\n      <td>1.129570</td>\n    </tr>\n    <tr>\n      <th>2013-02-01</th>\n      <td>12.587202</td>\n      <td>0.617857</td>\n    </tr>\n    <tr>\n      <th>2013-03-01</th>\n      <td>15.069946</td>\n      <td>3.719220</td>\n    </tr>\n    <tr>\n      <th>2013-04-01</th>\n      <td>16.487361</td>\n      <td>10.699306</td>\n    </tr>\n    <tr>\n      <th>2013-05-01</th>\n      <td>19.005780</td>\n      <td>15.824328</td>\n    </tr>\n    <tr>\n      <th>2013-06-01</th>\n      <td>19.905417</td>\n      <td>22.225694</td>\n    </tr>\n    <tr>\n      <th>2013-07-01</th>\n      <td>22.093952</td>\n      <td>26.329704</td>\n    </tr>\n    <tr>\n      <th>2013-08-01</th>\n      <td>21.513172</td>\n      <td>22.480376</td>\n    </tr>\n    <tr>\n      <th>2013-09-01</th>\n      <td>22.404861</td>\n      <td>18.291806</td>\n    </tr>\n    <tr>\n      <th>2013-10-01</th>\n      <td>16.620430</td>\n      <td>14.335215</td>\n    </tr>\n    <tr>\n      <th>2013-11-01</th>\n      <td>15.107917</td>\n      <td>7.111944</td>\n    </tr>\n    <tr>\n      <th>2013-12-01</th>\n      <td>13.416935</td>\n      <td>2.776210</td>\n    </tr>\n    <tr>\n      <th>2014-01-01</th>\n      <td>16.247715</td>\n      <td>-2.210349</td>\n    </tr>\n    <tr>\n      <th>2014-02-01</th>\n      <td>14.326637</td>\n      <td>-1.596280</td>\n    </tr>\n    <tr>\n      <th>2014-03-01</th>\n      <td>15.836156</td>\n      <td>1.994758</td>\n    </tr>\n    <tr>\n      <th>2014-04-01</th>\n      <td>16.783472</td>\n      <td>10.128611</td>\n    </tr>\n    <tr>\n      <th>2014-05-01</th>\n      <td>20.041398</td>\n      <td>16.829167</td>\n    </tr>\n    <tr>\n      <th>2014-06-01</th>\n      <td>19.810556</td>\n      <td>21.784861</td>\n    </tr>\n    <tr>\n      <th>2014-07-01</th>\n      <td>23.056183</td>\n      <td>24.019624</td>\n    </tr>\n    <tr>\n      <th>2014-08-01</th>\n      <td>22.146102</td>\n      <td>21.848387</td>\n    </tr>\n    <tr>\n      <th>2014-09-01</th>\n      <td>21.620278</td>\n      <td>19.267222</td>\n    </tr>\n    <tr>\n      <th>2014-10-01</th>\n      <td>16.968280</td>\n      <td>14.265860</td>\n    </tr>\n    <tr>\n      <th>2014-11-01</th>\n      <td>11.322083</td>\n      <td>5.719167</td>\n    </tr>\n    <tr>\n      <th>2014-12-01</th>\n      <td>8.523925</td>\n      <td>3.513844</td>\n    </tr>\n    <tr>\n      <th>2015-01-01</th>\n      <td>9.527016</td>\n      <td>-4.179301</td>\n    </tr>\n    <tr>\n      <th>2015-02-01</th>\n      <td>11.587649</td>\n      <td>-7.239732</td>\n    </tr>\n    <tr>\n      <th>2015-03-01</th>\n      <td>14.465995</td>\n      <td>1.020161</td>\n    </tr>\n    <tr>\n      <th>2015-04-01</th>\n      <td>13.527917</td>\n      <td>10.180417</td>\n    </tr>\n    <tr>\n      <th>2015-05-01</th>\n      <td>14.540054</td>\n      <td>18.731586</td>\n    </tr>\n    <tr>\n      <th>2015-06-01</th>\n      <td>20.995000</td>\n      <td>20.347500</td>\n    </tr>\n    <tr>\n      <th>2015-07-01</th>\n      <td>22.899059</td>\n      <td>24.252151</td>\n    </tr>\n    <tr>\n      <th>2015-08-01</th>\n      <td>24.846909</td>\n      <td>24.046774</td>\n    </tr>\n    <tr>\n      <th>2015-09-01</th>\n      <td>24.586250</td>\n      <td>21.589861</td>\n    </tr>\n    <tr>\n      <th>2015-10-01</th>\n      <td>21.785753</td>\n      <td>12.656452</td>\n    </tr>\n    <tr>\n      <th>2015-11-01</th>\n      <td>15.255278</td>\n      <td>10.117500</td>\n    </tr>\n    <tr>\n      <th>2015-12-01</th>\n      <td>11.919758</td>\n      <td>8.662500</td>\n    </tr>\n    <tr>\n      <th>2016-01-01</th>\n      <td>12.509274</td>\n      <td>0.168952</td>\n    </tr>\n    <tr>\n      <th>2016-02-01</th>\n      <td>16.600431</td>\n      <td>2.069971</td>\n    </tr>\n    <tr>\n      <th>2016-03-01</th>\n      <td>15.686425</td>\n      <td>8.070430</td>\n    </tr>\n    <tr>\n      <th>2016-04-01</th>\n      <td>17.726111</td>\n      <td>10.535556</td>\n    </tr>\n    <tr>\n      <th>2016-05-01</th>\n      <td>17.375403</td>\n      <td>15.874462</td>\n    </tr>\n    <tr>\n      <th>2016-06-01</th>\n      <td>22.536111</td>\n      <td>21.462639</td>\n    </tr>\n    <tr>\n      <th>2016-07-01</th>\n      <td>24.541532</td>\n      <td>24.767608</td>\n    </tr>\n    <tr>\n      <th>2016-08-01</th>\n      <td>23.983199</td>\n      <td>25.351882</td>\n    </tr>\n    <tr>\n      <th>2016-09-01</th>\n      <td>22.379306</td>\n      <td>21.032778</td>\n    </tr>\n    <tr>\n      <th>2016-10-01</th>\n      <td>16.137903</td>\n      <td>14.321640</td>\n    </tr>\n    <tr>\n      <th>2016-11-01</th>\n      <td>17.196111</td>\n      <td>8.539722</td>\n    </tr>\n    <tr>\n      <th>2016-12-01</th>\n      <td>13.390457</td>\n      <td>2.327285</td>\n    </tr>\n  </tbody>\n</table>\n</div>"
     },
     "execution_count": 117,
     "metadata": {},
     "output_type": "execute_result"
    }
   ],
   "source": [
    "temp.resample(\"MS\").mean() # 각 월 첫 날 평균"
   ]
  },
  {
   "cell_type": "code",
   "execution_count": 118,
   "metadata": {
    "scrolled": true
   },
   "outputs": [
    {
     "name": "stderr",
     "output_type": "stream",
     "text": [
      "/var/folders/k8/xm42xp_16cs6fgtvp6ymr9l40000gn/T/ipykernel_18818/3484727703.py:1: FutureWarning: 'loffset' in .resample() and in Grouper() is deprecated.\n",
      "\n",
      ">>> df.resample(freq=\"3s\", loffset=\"8H\")\n",
      "\n",
      "becomes:\n",
      "\n",
      ">>> from pandas.tseries.frequencies import to_offset\n",
      ">>> df = df.resample(freq=\"3s\").mean()\n",
      ">>> df.index = df.index.to_timestamp() + to_offset(\"8H\")\n",
      "\n",
      "  temp.resample(\"MS\", loffset=\"14D\").mean()\n"
     ]
    },
    {
     "data": {
      "text/plain": "                   LA         NY\ndatetime                        \n2013-01-15  11.596237   1.129570\n2013-02-15  12.587202   0.617857\n2013-03-15  15.069946   3.719220\n2013-04-15  16.487361  10.699306\n2013-05-15  19.005780  15.824328\n2013-06-15  19.905417  22.225694\n2013-07-15  22.093952  26.329704\n2013-08-15  21.513172  22.480376\n2013-09-15  22.404861  18.291806\n2013-10-15  16.620430  14.335215\n2013-11-15  15.107917   7.111944\n2013-12-15  13.416935   2.776210\n2014-01-15  16.247715  -2.210349\n2014-02-15  14.326637  -1.596280\n2014-03-15  15.836156   1.994758\n2014-04-15  16.783472  10.128611\n2014-05-15  20.041398  16.829167\n2014-06-15  19.810556  21.784861\n2014-07-15  23.056183  24.019624\n2014-08-15  22.146102  21.848387\n2014-09-15  21.620278  19.267222\n2014-10-15  16.968280  14.265860\n2014-11-15  11.322083   5.719167\n2014-12-15   8.523925   3.513844\n2015-01-15   9.527016  -4.179301\n2015-02-15  11.587649  -7.239732\n2015-03-15  14.465995   1.020161\n2015-04-15  13.527917  10.180417\n2015-05-15  14.540054  18.731586\n2015-06-15  20.995000  20.347500\n2015-07-15  22.899059  24.252151\n2015-08-15  24.846909  24.046774\n2015-09-15  24.586250  21.589861\n2015-10-15  21.785753  12.656452\n2015-11-15  15.255278  10.117500\n2015-12-15  11.919758   8.662500\n2016-01-15  12.509274   0.168952\n2016-02-15  16.600431   2.069971\n2016-03-15  15.686425   8.070430\n2016-04-15  17.726111  10.535556\n2016-05-15  17.375403  15.874462\n2016-06-15  22.536111  21.462639\n2016-07-15  24.541532  24.767608\n2016-08-15  23.983199  25.351882\n2016-09-15  22.379306  21.032778\n2016-10-15  16.137903  14.321640\n2016-11-15  17.196111   8.539722\n2016-12-15  13.390457   2.327285",
      "text/html": "<div>\n<style scoped>\n    .dataframe tbody tr th:only-of-type {\n        vertical-align: middle;\n    }\n\n    .dataframe tbody tr th {\n        vertical-align: top;\n    }\n\n    .dataframe thead th {\n        text-align: right;\n    }\n</style>\n<table border=\"1\" class=\"dataframe\">\n  <thead>\n    <tr style=\"text-align: right;\">\n      <th></th>\n      <th>LA</th>\n      <th>NY</th>\n    </tr>\n    <tr>\n      <th>datetime</th>\n      <th></th>\n      <th></th>\n    </tr>\n  </thead>\n  <tbody>\n    <tr>\n      <th>2013-01-15</th>\n      <td>11.596237</td>\n      <td>1.129570</td>\n    </tr>\n    <tr>\n      <th>2013-02-15</th>\n      <td>12.587202</td>\n      <td>0.617857</td>\n    </tr>\n    <tr>\n      <th>2013-03-15</th>\n      <td>15.069946</td>\n      <td>3.719220</td>\n    </tr>\n    <tr>\n      <th>2013-04-15</th>\n      <td>16.487361</td>\n      <td>10.699306</td>\n    </tr>\n    <tr>\n      <th>2013-05-15</th>\n      <td>19.005780</td>\n      <td>15.824328</td>\n    </tr>\n    <tr>\n      <th>2013-06-15</th>\n      <td>19.905417</td>\n      <td>22.225694</td>\n    </tr>\n    <tr>\n      <th>2013-07-15</th>\n      <td>22.093952</td>\n      <td>26.329704</td>\n    </tr>\n    <tr>\n      <th>2013-08-15</th>\n      <td>21.513172</td>\n      <td>22.480376</td>\n    </tr>\n    <tr>\n      <th>2013-09-15</th>\n      <td>22.404861</td>\n      <td>18.291806</td>\n    </tr>\n    <tr>\n      <th>2013-10-15</th>\n      <td>16.620430</td>\n      <td>14.335215</td>\n    </tr>\n    <tr>\n      <th>2013-11-15</th>\n      <td>15.107917</td>\n      <td>7.111944</td>\n    </tr>\n    <tr>\n      <th>2013-12-15</th>\n      <td>13.416935</td>\n      <td>2.776210</td>\n    </tr>\n    <tr>\n      <th>2014-01-15</th>\n      <td>16.247715</td>\n      <td>-2.210349</td>\n    </tr>\n    <tr>\n      <th>2014-02-15</th>\n      <td>14.326637</td>\n      <td>-1.596280</td>\n    </tr>\n    <tr>\n      <th>2014-03-15</th>\n      <td>15.836156</td>\n      <td>1.994758</td>\n    </tr>\n    <tr>\n      <th>2014-04-15</th>\n      <td>16.783472</td>\n      <td>10.128611</td>\n    </tr>\n    <tr>\n      <th>2014-05-15</th>\n      <td>20.041398</td>\n      <td>16.829167</td>\n    </tr>\n    <tr>\n      <th>2014-06-15</th>\n      <td>19.810556</td>\n      <td>21.784861</td>\n    </tr>\n    <tr>\n      <th>2014-07-15</th>\n      <td>23.056183</td>\n      <td>24.019624</td>\n    </tr>\n    <tr>\n      <th>2014-08-15</th>\n      <td>22.146102</td>\n      <td>21.848387</td>\n    </tr>\n    <tr>\n      <th>2014-09-15</th>\n      <td>21.620278</td>\n      <td>19.267222</td>\n    </tr>\n    <tr>\n      <th>2014-10-15</th>\n      <td>16.968280</td>\n      <td>14.265860</td>\n    </tr>\n    <tr>\n      <th>2014-11-15</th>\n      <td>11.322083</td>\n      <td>5.719167</td>\n    </tr>\n    <tr>\n      <th>2014-12-15</th>\n      <td>8.523925</td>\n      <td>3.513844</td>\n    </tr>\n    <tr>\n      <th>2015-01-15</th>\n      <td>9.527016</td>\n      <td>-4.179301</td>\n    </tr>\n    <tr>\n      <th>2015-02-15</th>\n      <td>11.587649</td>\n      <td>-7.239732</td>\n    </tr>\n    <tr>\n      <th>2015-03-15</th>\n      <td>14.465995</td>\n      <td>1.020161</td>\n    </tr>\n    <tr>\n      <th>2015-04-15</th>\n      <td>13.527917</td>\n      <td>10.180417</td>\n    </tr>\n    <tr>\n      <th>2015-05-15</th>\n      <td>14.540054</td>\n      <td>18.731586</td>\n    </tr>\n    <tr>\n      <th>2015-06-15</th>\n      <td>20.995000</td>\n      <td>20.347500</td>\n    </tr>\n    <tr>\n      <th>2015-07-15</th>\n      <td>22.899059</td>\n      <td>24.252151</td>\n    </tr>\n    <tr>\n      <th>2015-08-15</th>\n      <td>24.846909</td>\n      <td>24.046774</td>\n    </tr>\n    <tr>\n      <th>2015-09-15</th>\n      <td>24.586250</td>\n      <td>21.589861</td>\n    </tr>\n    <tr>\n      <th>2015-10-15</th>\n      <td>21.785753</td>\n      <td>12.656452</td>\n    </tr>\n    <tr>\n      <th>2015-11-15</th>\n      <td>15.255278</td>\n      <td>10.117500</td>\n    </tr>\n    <tr>\n      <th>2015-12-15</th>\n      <td>11.919758</td>\n      <td>8.662500</td>\n    </tr>\n    <tr>\n      <th>2016-01-15</th>\n      <td>12.509274</td>\n      <td>0.168952</td>\n    </tr>\n    <tr>\n      <th>2016-02-15</th>\n      <td>16.600431</td>\n      <td>2.069971</td>\n    </tr>\n    <tr>\n      <th>2016-03-15</th>\n      <td>15.686425</td>\n      <td>8.070430</td>\n    </tr>\n    <tr>\n      <th>2016-04-15</th>\n      <td>17.726111</td>\n      <td>10.535556</td>\n    </tr>\n    <tr>\n      <th>2016-05-15</th>\n      <td>17.375403</td>\n      <td>15.874462</td>\n    </tr>\n    <tr>\n      <th>2016-06-15</th>\n      <td>22.536111</td>\n      <td>21.462639</td>\n    </tr>\n    <tr>\n      <th>2016-07-15</th>\n      <td>24.541532</td>\n      <td>24.767608</td>\n    </tr>\n    <tr>\n      <th>2016-08-15</th>\n      <td>23.983199</td>\n      <td>25.351882</td>\n    </tr>\n    <tr>\n      <th>2016-09-15</th>\n      <td>22.379306</td>\n      <td>21.032778</td>\n    </tr>\n    <tr>\n      <th>2016-10-15</th>\n      <td>16.137903</td>\n      <td>14.321640</td>\n    </tr>\n    <tr>\n      <th>2016-11-15</th>\n      <td>17.196111</td>\n      <td>8.539722</td>\n    </tr>\n    <tr>\n      <th>2016-12-15</th>\n      <td>13.390457</td>\n      <td>2.327285</td>\n    </tr>\n  </tbody>\n</table>\n</div>"
     },
     "execution_count": 118,
     "metadata": {},
     "output_type": "execute_result"
    }
   ],
   "source": [
    "temp.resample(\"MS\", loffset=\"14D\").mean() # 1+14= 15일 기준으로 월 기준"
   ]
  },
  {
   "cell_type": "code",
   "execution_count": 119,
   "metadata": {
    "scrolled": true
   },
   "outputs": [
    {
     "data": {
      "text/plain": "                   LA         NY\ndatetime                        \n2013-03-31  13.099212   1.862361\n2013-06-30  18.472115  16.245101\n2013-09-30  21.999638  22.411594\n2013-12-31  15.047781   8.084918\n2014-03-31  15.508287  -0.570880\n2014-06-30  18.891255  16.253938\n2014-09-30  22.281295  21.738315\n2014-12-31  12.281748   7.855933\n2015-03-31  11.869306  -3.340509\n2015-06-30  16.334386  16.445238\n2015-09-30  24.105571  23.314810\n2015-12-31  16.331839  10.482745\n2016-03-31  14.895375   3.466484\n2016-06-30  19.192353  15.956639\n2016-09-30  23.648324  23.746603\n2016-12-31  15.557201   8.394656",
      "text/html": "<div>\n<style scoped>\n    .dataframe tbody tr th:only-of-type {\n        vertical-align: middle;\n    }\n\n    .dataframe tbody tr th {\n        vertical-align: top;\n    }\n\n    .dataframe thead th {\n        text-align: right;\n    }\n</style>\n<table border=\"1\" class=\"dataframe\">\n  <thead>\n    <tr style=\"text-align: right;\">\n      <th></th>\n      <th>LA</th>\n      <th>NY</th>\n    </tr>\n    <tr>\n      <th>datetime</th>\n      <th></th>\n      <th></th>\n    </tr>\n  </thead>\n  <tbody>\n    <tr>\n      <th>2013-03-31</th>\n      <td>13.099212</td>\n      <td>1.862361</td>\n    </tr>\n    <tr>\n      <th>2013-06-30</th>\n      <td>18.472115</td>\n      <td>16.245101</td>\n    </tr>\n    <tr>\n      <th>2013-09-30</th>\n      <td>21.999638</td>\n      <td>22.411594</td>\n    </tr>\n    <tr>\n      <th>2013-12-31</th>\n      <td>15.047781</td>\n      <td>8.084918</td>\n    </tr>\n    <tr>\n      <th>2014-03-31</th>\n      <td>15.508287</td>\n      <td>-0.570880</td>\n    </tr>\n    <tr>\n      <th>2014-06-30</th>\n      <td>18.891255</td>\n      <td>16.253938</td>\n    </tr>\n    <tr>\n      <th>2014-09-30</th>\n      <td>22.281295</td>\n      <td>21.738315</td>\n    </tr>\n    <tr>\n      <th>2014-12-31</th>\n      <td>12.281748</td>\n      <td>7.855933</td>\n    </tr>\n    <tr>\n      <th>2015-03-31</th>\n      <td>11.869306</td>\n      <td>-3.340509</td>\n    </tr>\n    <tr>\n      <th>2015-06-30</th>\n      <td>16.334386</td>\n      <td>16.445238</td>\n    </tr>\n    <tr>\n      <th>2015-09-30</th>\n      <td>24.105571</td>\n      <td>23.314810</td>\n    </tr>\n    <tr>\n      <th>2015-12-31</th>\n      <td>16.331839</td>\n      <td>10.482745</td>\n    </tr>\n    <tr>\n      <th>2016-03-31</th>\n      <td>14.895375</td>\n      <td>3.466484</td>\n    </tr>\n    <tr>\n      <th>2016-06-30</th>\n      <td>19.192353</td>\n      <td>15.956639</td>\n    </tr>\n    <tr>\n      <th>2016-09-30</th>\n      <td>23.648324</td>\n      <td>23.746603</td>\n    </tr>\n    <tr>\n      <th>2016-12-31</th>\n      <td>15.557201</td>\n      <td>8.394656</td>\n    </tr>\n  </tbody>\n</table>\n</div>"
     },
     "execution_count": 119,
     "metadata": {},
     "output_type": "execute_result"
    }
   ],
   "source": [
    "temp.resample(\"Q\").mean() # 3-6-9-12"
   ]
  },
  {
   "cell_type": "code",
   "execution_count": 120,
   "metadata": {
    "scrolled": true
   },
   "outputs": [
    {
     "data": {
      "text/plain": "                   LA         NY\ndatetime                        \n2013-02-28  12.066525   0.886723\n2013-05-31  16.859973  10.074230\n2013-08-31  21.184601  23.694384\n2013-11-30  18.028755  13.258288\n2014-02-28  14.675000  -0.301713\n2014-05-31  17.562047   9.645652\n2014-08-31  21.691168  22.559284\n2014-11-30  16.640522  13.097070\n2015-02-28   9.822593  -2.481574\n2015-05-31  14.185054   9.975181\n2015-08-31  22.934511  22.909692\n2015-11-30  20.556090  14.764515\n2016-02-29  13.612225   3.668178\n2016-05-31  16.920652  11.503895\n2016-08-31  23.699457  23.886775\n2016-11-30  18.544368  14.627976\n2017-02-28  13.390457   2.327285",
      "text/html": "<div>\n<style scoped>\n    .dataframe tbody tr th:only-of-type {\n        vertical-align: middle;\n    }\n\n    .dataframe tbody tr th {\n        vertical-align: top;\n    }\n\n    .dataframe thead th {\n        text-align: right;\n    }\n</style>\n<table border=\"1\" class=\"dataframe\">\n  <thead>\n    <tr style=\"text-align: right;\">\n      <th></th>\n      <th>LA</th>\n      <th>NY</th>\n    </tr>\n    <tr>\n      <th>datetime</th>\n      <th></th>\n      <th></th>\n    </tr>\n  </thead>\n  <tbody>\n    <tr>\n      <th>2013-02-28</th>\n      <td>12.066525</td>\n      <td>0.886723</td>\n    </tr>\n    <tr>\n      <th>2013-05-31</th>\n      <td>16.859973</td>\n      <td>10.074230</td>\n    </tr>\n    <tr>\n      <th>2013-08-31</th>\n      <td>21.184601</td>\n      <td>23.694384</td>\n    </tr>\n    <tr>\n      <th>2013-11-30</th>\n      <td>18.028755</td>\n      <td>13.258288</td>\n    </tr>\n    <tr>\n      <th>2014-02-28</th>\n      <td>14.675000</td>\n      <td>-0.301713</td>\n    </tr>\n    <tr>\n      <th>2014-05-31</th>\n      <td>17.562047</td>\n      <td>9.645652</td>\n    </tr>\n    <tr>\n      <th>2014-08-31</th>\n      <td>21.691168</td>\n      <td>22.559284</td>\n    </tr>\n    <tr>\n      <th>2014-11-30</th>\n      <td>16.640522</td>\n      <td>13.097070</td>\n    </tr>\n    <tr>\n      <th>2015-02-28</th>\n      <td>9.822593</td>\n      <td>-2.481574</td>\n    </tr>\n    <tr>\n      <th>2015-05-31</th>\n      <td>14.185054</td>\n      <td>9.975181</td>\n    </tr>\n    <tr>\n      <th>2015-08-31</th>\n      <td>22.934511</td>\n      <td>22.909692</td>\n    </tr>\n    <tr>\n      <th>2015-11-30</th>\n      <td>20.556090</td>\n      <td>14.764515</td>\n    </tr>\n    <tr>\n      <th>2016-02-29</th>\n      <td>13.612225</td>\n      <td>3.668178</td>\n    </tr>\n    <tr>\n      <th>2016-05-31</th>\n      <td>16.920652</td>\n      <td>11.503895</td>\n    </tr>\n    <tr>\n      <th>2016-08-31</th>\n      <td>23.699457</td>\n      <td>23.886775</td>\n    </tr>\n    <tr>\n      <th>2016-11-30</th>\n      <td>18.544368</td>\n      <td>14.627976</td>\n    </tr>\n    <tr>\n      <th>2017-02-28</th>\n      <td>13.390457</td>\n      <td>2.327285</td>\n    </tr>\n  </tbody>\n</table>\n</div>"
     },
     "execution_count": 120,
     "metadata": {},
     "output_type": "execute_result"
    }
   ],
   "source": [
    "temp.resample(\"Q-Feb\").mean() # 2-5-8-11 >> 2월을 기준으로 분기 나눈다."
   ]
  },
  {
   "cell_type": "code",
   "execution_count": 121,
   "metadata": {
    "scrolled": true
   },
   "outputs": [
    {
     "data": {
      "text/plain": "                   LA         NY\ndatetime                        \n2013-12-31  17.174229  12.196153\n2014-12-31  17.245616  11.370959\n2015-12-31  17.191530  11.795194\n2016-12-31  18.330305  12.908470",
      "text/html": "<div>\n<style scoped>\n    .dataframe tbody tr th:only-of-type {\n        vertical-align: middle;\n    }\n\n    .dataframe tbody tr th {\n        vertical-align: top;\n    }\n\n    .dataframe thead th {\n        text-align: right;\n    }\n</style>\n<table border=\"1\" class=\"dataframe\">\n  <thead>\n    <tr style=\"text-align: right;\">\n      <th></th>\n      <th>LA</th>\n      <th>NY</th>\n    </tr>\n    <tr>\n      <th>datetime</th>\n      <th></th>\n      <th></th>\n    </tr>\n  </thead>\n  <tbody>\n    <tr>\n      <th>2013-12-31</th>\n      <td>17.174229</td>\n      <td>12.196153</td>\n    </tr>\n    <tr>\n      <th>2014-12-31</th>\n      <td>17.245616</td>\n      <td>11.370959</td>\n    </tr>\n    <tr>\n      <th>2015-12-31</th>\n      <td>17.191530</td>\n      <td>11.795194</td>\n    </tr>\n    <tr>\n      <th>2016-12-31</th>\n      <td>18.330305</td>\n      <td>12.908470</td>\n    </tr>\n  </tbody>\n</table>\n</div>"
     },
     "execution_count": 121,
     "metadata": {},
     "output_type": "execute_result"
    }
   ],
   "source": [
    "temp.resample(\"Y\").mean()"
   ]
  },
  {
   "cell_type": "code",
   "execution_count": 122,
   "metadata": {},
   "outputs": [
    {
     "data": {
      "text/plain": "                   LA         NY\ndatetime                        \n2013-01-01  17.174229  12.196153\n2014-01-01  17.245616  11.370959\n2015-01-01  17.191530  11.795194\n2016-01-01  18.330305  12.908470",
      "text/html": "<div>\n<style scoped>\n    .dataframe tbody tr th:only-of-type {\n        vertical-align: middle;\n    }\n\n    .dataframe tbody tr th {\n        vertical-align: top;\n    }\n\n    .dataframe thead th {\n        text-align: right;\n    }\n</style>\n<table border=\"1\" class=\"dataframe\">\n  <thead>\n    <tr style=\"text-align: right;\">\n      <th></th>\n      <th>LA</th>\n      <th>NY</th>\n    </tr>\n    <tr>\n      <th>datetime</th>\n      <th></th>\n      <th></th>\n    </tr>\n  </thead>\n  <tbody>\n    <tr>\n      <th>2013-01-01</th>\n      <td>17.174229</td>\n      <td>12.196153</td>\n    </tr>\n    <tr>\n      <th>2014-01-01</th>\n      <td>17.245616</td>\n      <td>11.370959</td>\n    </tr>\n    <tr>\n      <th>2015-01-01</th>\n      <td>17.191530</td>\n      <td>11.795194</td>\n    </tr>\n    <tr>\n      <th>2016-01-01</th>\n      <td>18.330305</td>\n      <td>12.908470</td>\n    </tr>\n  </tbody>\n</table>\n</div>"
     },
     "execution_count": 122,
     "metadata": {},
     "output_type": "execute_result"
    }
   ],
   "source": [
    "temp.resample(\"YS\").mean()"
   ]
  },
  {
   "cell_type": "code",
   "execution_count": null,
   "metadata": {},
   "outputs": [],
   "source": []
  }
 ],
 "metadata": {
  "kernelspec": {
   "display_name": "Python 3",
   "language": "python",
   "name": "python3"
  },
  "language_info": {
   "codemirror_mode": {
    "name": "ipython",
    "version": 3
   },
   "file_extension": ".py",
   "mimetype": "text/x-python",
   "name": "python",
   "nbconvert_exporter": "python",
   "pygments_lexer": "ipython3",
   "version": "3.7.4"
  }
 },
 "nbformat": 4,
 "nbformat_minor": 2
}
